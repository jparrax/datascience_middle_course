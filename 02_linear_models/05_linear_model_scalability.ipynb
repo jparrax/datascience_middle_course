{
 "cells": [
  {
   "cell_type": "markdown",
   "id": "00fabcd7-4e93-4107-9b99-566d1d452a54",
   "metadata": {},
   "source": [
    "# Linear models - scalability"
   ]
  },
  {
   "cell_type": "markdown",
   "id": "ea9aabb3-f395-4398-b944-cf81d5efe062",
   "metadata": {},
   "source": [
    "In this notebook, we will make a quick note to show the `partial_fit` functionality of some estimator that could be used to train a model."
   ]
  },
  {
   "cell_type": "code",
   "execution_count": 10,
   "id": "966dab39",
   "metadata": {},
   "outputs": [
    {
     "data": {
      "text/html": [
       "<div>\n",
       "<style scoped>\n",
       "    .dataframe tbody tr th:only-of-type {\n",
       "        vertical-align: middle;\n",
       "    }\n",
       "\n",
       "    .dataframe tbody tr th {\n",
       "        vertical-align: top;\n",
       "    }\n",
       "\n",
       "    .dataframe thead th {\n",
       "        text-align: right;\n",
       "    }\n",
       "</style>\n",
       "<table border=\"1\" class=\"dataframe\">\n",
       "  <thead>\n",
       "    <tr style=\"text-align: right;\">\n",
       "      <th></th>\n",
       "      <th>age</th>\n",
       "      <th>education-num</th>\n",
       "      <th>capital-gain</th>\n",
       "      <th>capital-loss</th>\n",
       "      <th>hours-per-week</th>\n",
       "      <th>class</th>\n",
       "    </tr>\n",
       "  </thead>\n",
       "  <tbody>\n",
       "    <tr>\n",
       "      <th>0</th>\n",
       "      <td>25</td>\n",
       "      <td>7</td>\n",
       "      <td>0</td>\n",
       "      <td>0</td>\n",
       "      <td>40</td>\n",
       "      <td>&lt;=50K</td>\n",
       "    </tr>\n",
       "    <tr>\n",
       "      <th>1</th>\n",
       "      <td>38</td>\n",
       "      <td>9</td>\n",
       "      <td>0</td>\n",
       "      <td>0</td>\n",
       "      <td>50</td>\n",
       "      <td>&lt;=50K</td>\n",
       "    </tr>\n",
       "    <tr>\n",
       "      <th>2</th>\n",
       "      <td>28</td>\n",
       "      <td>12</td>\n",
       "      <td>0</td>\n",
       "      <td>0</td>\n",
       "      <td>40</td>\n",
       "      <td>&gt;50K</td>\n",
       "    </tr>\n",
       "    <tr>\n",
       "      <th>3</th>\n",
       "      <td>44</td>\n",
       "      <td>10</td>\n",
       "      <td>7688</td>\n",
       "      <td>0</td>\n",
       "      <td>40</td>\n",
       "      <td>&gt;50K</td>\n",
       "    </tr>\n",
       "    <tr>\n",
       "      <th>4</th>\n",
       "      <td>18</td>\n",
       "      <td>10</td>\n",
       "      <td>0</td>\n",
       "      <td>0</td>\n",
       "      <td>30</td>\n",
       "      <td>&lt;=50K</td>\n",
       "    </tr>\n",
       "  </tbody>\n",
       "</table>\n",
       "</div>"
      ],
      "text/plain": [
       "   age  education-num  capital-gain  capital-loss  hours-per-week   class\n",
       "0   25              7             0             0              40   <=50K\n",
       "1   38              9             0             0              50   <=50K\n",
       "2   28             12             0             0              40    >50K\n",
       "3   44             10          7688             0              40    >50K\n",
       "4   18             10             0             0              30   <=50K"
      ]
     },
     "execution_count": 10,
     "metadata": {},
     "output_type": "execute_result"
    }
   ],
   "source": [
    "import pandas as pd\n",
    "\n",
    "data = pd.read_csv(\"../datasets/adult-census-numeric-all.csv\")\n",
    "data.head()"
   ]
  },
  {
   "cell_type": "code",
   "execution_count": 11,
   "id": "87405a58",
   "metadata": {},
   "outputs": [],
   "source": [
    "target_name = \"class\"\n",
    "X = data.drop(columns=target_name)\n",
    "y = data[target_name]"
   ]
  },
  {
   "cell_type": "code",
   "execution_count": 12,
   "id": "0c56d183",
   "metadata": {},
   "outputs": [],
   "source": [
    "from sklearn.model_selection import train_test_split\n",
    "\n",
    "X_train, X_test, y_train, y_test = train_test_split(\n",
    "    X, y, random_state=0,\n",
    ")"
   ]
  },
  {
   "cell_type": "code",
   "execution_count": 4,
   "id": "91f73681",
   "metadata": {},
   "outputs": [],
   "source": [
    "from sklearn.preprocessing import StandardScaler\n",
    "\n",
    "scaler = StandardScaler()"
   ]
  },
  {
   "cell_type": "code",
   "execution_count": 5,
   "id": "2ed8ad98",
   "metadata": {},
   "outputs": [],
   "source": [
    "batch_size = 100\n",
    "start = 0\n",
    "while start < y_train.size:\n",
    "    stop = start + batch_size\n",
    "    scaler.partial_fit(X_train[start:stop])\n",
    "    start = stop"
   ]
  },
  {
   "cell_type": "code",
   "execution_count": 6,
   "id": "1f28b284",
   "metadata": {},
   "outputs": [
    {
     "data": {
      "text/plain": [
       "(array([  38.68545767,   10.07327127, 1063.20692856,   86.77983129,\n",
       "          40.42248369]),\n",
       " array([1.88511311e+02, 6.61175889e+00, 5.43824675e+07, 1.61245256e+05,\n",
       "        1.54386985e+02]))"
      ]
     },
     "execution_count": 6,
     "metadata": {},
     "output_type": "execute_result"
    }
   ],
   "source": [
    "scaler.mean_, scaler.var_"
   ]
  },
  {
   "cell_type": "code",
   "execution_count": 7,
   "id": "7a3cfe49",
   "metadata": {},
   "outputs": [
    {
     "data": {
      "text/plain": [
       "(array([  38.68545767,   10.07327127, 1063.20692856,   86.77983129,\n",
       "          40.42248369]),\n",
       " array([1.88511311e+02, 6.61175889e+00, 5.43824675e+07, 1.61245256e+05,\n",
       "        1.54386985e+02]))"
      ]
     },
     "execution_count": 7,
     "metadata": {},
     "output_type": "execute_result"
    }
   ],
   "source": [
    "scaler = StandardScaler().fit(X_train)\n",
    "scaler.mean_, scaler.var_"
   ]
  },
  {
   "cell_type": "code",
   "execution_count": 8,
   "id": "4d8a4036",
   "metadata": {},
   "outputs": [],
   "source": [
    "from sklearn.linear_model import SGDClassifier\n",
    "\n",
    "model = SGDClassifier(\n",
    "    loss=\"hinge\", alpha=0.01, max_iter=200\n",
    ")"
   ]
  },
  {
   "cell_type": "code",
   "execution_count": 9,
   "id": "1c13ff3f",
   "metadata": {},
   "outputs": [
    {
     "name": "stdout",
     "output_type": "stream",
     "text": [
      "Iteration #1: Weights:\n",
      "[[0.09907963 0.26380117 1.52122195 0.35878544 0.01237512]]\n",
      "Iteration #2: Weights:\n",
      "[[0.01640582 0.07287119 1.16940378 0.27487187 0.09471367]]\n",
      "Iteration #3: Weights:\n",
      "[[0.15245868 0.25970974 1.31388277 0.36729879 0.08375345]]\n",
      "Iteration #4: Weights:\n",
      "[[0.15590466 0.2335446  1.22708766 0.3044234  0.21978365]]\n",
      "Iteration #5: Weights:\n",
      "[[0.13269746 0.19178599 1.11354771 0.27223249 0.08386686]]\n",
      "Iteration #6: Weights:\n",
      "[[0.1194259  0.17126778 1.13674605 0.32037163 0.07275619]]\n",
      "Iteration #7: Weights:\n",
      "[[0.06842697 0.08706685 1.18157248 0.40481137 0.06110402]]\n",
      "Iteration #8: Weights:\n",
      "[[0.06268194 0.09917399 1.20545059 0.23858605 0.09608195]]\n",
      "Iteration #9: Weights:\n",
      "[[0.13817491 0.21181688 1.22910588 0.25993019 0.18156781]]\n",
      "Iteration #10: Weights:\n",
      "[[0.13333257 0.18698275 1.23286096 0.16778199 0.12090864]]\n"
     ]
    }
   ],
   "source": [
    "import numpy as np\n",
    "\n",
    "batch_size = 4_000\n",
    "start = 0\n",
    "iteration = 1\n",
    "while start < y_train.size:\n",
    "    stop = start + batch_size\n",
    "    X_scaled = scaler.transform(X_train[start:stop])\n",
    "    if not start:\n",
    "        params = {\"classes\": np.unique(y)}\n",
    "    else:\n",
    "        params = {}\n",
    "    model.partial_fit(X_scaled, y_train[start:stop], **params)\n",
    "    print(\n",
    "        f\"Iteration #{iteration}: Weights:\\n\"\n",
    "        f\"{model.coef_}\"\n",
    "    )\n",
    "    iteration += 1\n",
    "    start = stop"
   ]
  }
 ],
 "metadata": {
  "kernelspec": {
   "display_name": "Python 3 (ipykernel)",
   "language": "python",
   "name": "python3"
  },
  "language_info": {
   "codemirror_mode": {
    "name": "ipython",
    "version": 3
   },
   "file_extension": ".py",
   "mimetype": "text/x-python",
   "name": "python",
   "nbconvert_exporter": "python",
   "pygments_lexer": "ipython3",
   "version": "3.7.9"
  }
 },
 "nbformat": 4,
 "nbformat_minor": 5
}
