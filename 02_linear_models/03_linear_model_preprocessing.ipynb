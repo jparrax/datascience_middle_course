{
 "cells": [
  {
   "cell_type": "markdown",
   "id": "d0709fa4-db18-4310-9d21-3666fd78583f",
   "metadata": {},
   "source": [
    "# Linear models - Preprocessing"
   ]
  },
  {
   "cell_type": "markdown",
   "id": "2e327e94-88fe-44f1-a11d-cac727ebf1f9",
   "metadata": {},
   "source": [
    "In this notebook, we will discuss the importance of preprocessing in linear models, especially when the solver used rely on gradient-based optimization method."
   ]
  },
  {
   "cell_type": "code",
   "execution_count": 85,
   "id": "355d294d-691d-4035-bca3-c088d87fa0b7",
   "metadata": {},
   "outputs": [],
   "source": [
    "# temporary fix to avoid spurious warning raised in scikit-learn 1.0.0\n",
    "# it will be solved in scikit-learn 1.0.1\n",
    "import warnings\n",
    "warnings.filterwarnings(\"ignore\", message=\"X has feature names.*\")\n",
    "warnings.filterwarnings(\"ignore\", message=\"X does not have valid feature names.*\")"
   ]
  },
  {
   "cell_type": "markdown",
   "id": "9c1c9540-ddb1-48b1-a81a-c20b811b74f6",
   "metadata": {},
   "source": [
    "## Importance of data scaling"
   ]
  },
  {
   "cell_type": "markdown",
   "id": "38881c73-d8b0-457d-a737-79089791f6d3",
   "metadata": {},
   "source": [
    "Since we would like to demonstrate issue related to gradient-based optimization solver, we will need to use a linear model that does not rely on an algorithm that provide a closed-form solution. Such algorithm is `LogisticRegression` for instance (in the contrary to `LinearRegression` or `Ridge`).\n",
    "\n",
    "Thus, let's start by loading our penguins dataset to distinguish the different species."
   ]
  },
  {
   "cell_type": "code",
   "execution_count": 86,
   "id": "6a595eda",
   "metadata": {},
   "outputs": [],
   "source": [
    "import pandas as pd\n",
    "\n",
    "data = pd.read_csv(\"../datasets/penguins_classification.csv\")\n",
    "target_name = \"Species\"\n",
    "X = data.drop(columns=target_name)\n",
    "y = data[target_name]"
   ]
  },
  {
   "cell_type": "markdown",
   "id": "5826886d-8733-4cc4-8443-e16d0c6fa440",
   "metadata": {},
   "source": [
    "Up to now, we did not bother much about evaluating our model: we used a single dataset just to illustrate some fitting property of the different estimators. However, the preprocessing that we are going to use need to be applied in a specific manner depending if one is training or testing a model. Therefore, we will start by using a training and testing set."
   ]
  },
  {
   "cell_type": "code",
   "execution_count": 87,
   "id": "cb2c7241",
   "metadata": {},
   "outputs": [
    {
     "data": {
      "text/html": [
       "<div>\n",
       "<style scoped>\n",
       "    .dataframe tbody tr th:only-of-type {\n",
       "        vertical-align: middle;\n",
       "    }\n",
       "\n",
       "    .dataframe tbody tr th {\n",
       "        vertical-align: top;\n",
       "    }\n",
       "\n",
       "    .dataframe thead th {\n",
       "        text-align: right;\n",
       "    }\n",
       "</style>\n",
       "<table border=\"1\" class=\"dataframe\">\n",
       "  <thead>\n",
       "    <tr style=\"text-align: right;\">\n",
       "      <th></th>\n",
       "      <th>Culmen Length (mm)</th>\n",
       "      <th>Culmen Depth (mm)</th>\n",
       "    </tr>\n",
       "  </thead>\n",
       "  <tbody>\n",
       "    <tr>\n",
       "      <th>306</th>\n",
       "      <td>42.5</td>\n",
       "      <td>16.7</td>\n",
       "    </tr>\n",
       "    <tr>\n",
       "      <th>101</th>\n",
       "      <td>37.7</td>\n",
       "      <td>16.0</td>\n",
       "    </tr>\n",
       "    <tr>\n",
       "      <th>153</th>\n",
       "      <td>48.7</td>\n",
       "      <td>14.1</td>\n",
       "    </tr>\n",
       "    <tr>\n",
       "      <th>341</th>\n",
       "      <td>50.2</td>\n",
       "      <td>18.7</td>\n",
       "    </tr>\n",
       "    <tr>\n",
       "      <th>81</th>\n",
       "      <td>36.7</td>\n",
       "      <td>18.8</td>\n",
       "    </tr>\n",
       "  </tbody>\n",
       "</table>\n",
       "</div>"
      ],
      "text/plain": [
       "     Culmen Length (mm)  Culmen Depth (mm)\n",
       "306                42.5               16.7\n",
       "101                37.7               16.0\n",
       "153                48.7               14.1\n",
       "341                50.2               18.7\n",
       "81                 36.7               18.8"
      ]
     },
     "execution_count": 87,
     "metadata": {},
     "output_type": "execute_result"
    }
   ],
   "source": [
    "from sklearn.model_selection import train_test_split\n",
    "\n",
    "X_train, X_test, y_train, y_test = train_test_split(\n",
    "    X, y, random_state=0\n",
    ")\n",
    "X_train.head()"
   ]
  },
  {
   "cell_type": "markdown",
   "id": "e5e4d50e-10bc-401c-bf5c-40c1ed6a1b6f",
   "metadata": {},
   "source": [
    "Previously, we showed that we could train a `LogisticRegression` model in the following manner."
   ]
  },
  {
   "cell_type": "code",
   "execution_count": 88,
   "id": "15a62475",
   "metadata": {},
   "outputs": [
    {
     "data": {
      "text/plain": [
       "0.9767441860465116"
      ]
     },
     "execution_count": 88,
     "metadata": {},
     "output_type": "execute_result"
    }
   ],
   "source": [
    "from sklearn.linear_model import LogisticRegression\n",
    "\n",
    "model = LogisticRegression()\n",
    "model.fit(X_train, y_train)\n",
    "model.score(X_test, y_test)"
   ]
  },
  {
   "cell_type": "markdown",
   "id": "89018b19-6bbf-4821-b11b-d37e8824ba32",
   "metadata": {},
   "source": [
    "We previously stated that this model is minimizing a specific loss function (log loss). However, we did not mentioned what algorithm was used to find the optimal parameters $\\beta$ that minimize this log loss. We only discuss such details with `LinearRegression` where we used the Normal equation that is a closed-form solution to the least squared minimization.\n",
    "\n",
    "For the `LogisticRegression`, the problem does not have a closed-form solution. Instead, the different algorithms rely on the derivatives of the log loss to find the best parameter. One can check the available algorithm looking at the documentation of the `solver` parameter: https://scikit-learn.org/stable/modules/generated/sklearn.linear_model.LogisticRegression.html\n",
    "\n",
    "All the different solvers rely on derivatives of the log loss, meaning that an iterative algorithm will take place to find the optimal parameters of the model. Therefore, once the `LogisticRegression` is fitted, we can know the number of iteration that an algorithm did to find the optimal parameters."
   ]
  },
  {
   "cell_type": "code",
   "execution_count": 89,
   "id": "297449a1",
   "metadata": {},
   "outputs": [
    {
     "data": {
      "text/plain": [
       "array([74])"
      ]
     },
     "execution_count": 89,
     "metadata": {},
     "output_type": "execute_result"
    }
   ],
   "source": [
    "model.n_iter_"
   ]
  },
  {
   "cell_type": "markdown",
   "id": "94f0bbf4-b994-478a-9cb3-d45c8a301af8",
   "metadata": {},
   "source": [
    "However, there is something that is not really proper regarding our training dataset. We can have a look to our dataset"
   ]
  },
  {
   "cell_type": "code",
   "execution_count": 90,
   "id": "c8ada9ce-d1e9-43c3-9265-c35837c8ba39",
   "metadata": {},
   "outputs": [
    {
     "data": {
      "image/png": "[encoded data removed]",
      "text/plain": [
       "<Figure size 576x576 with 1 Axes>"
      ]
     },
     "metadata": {
      "needs_background": "light"
     },
     "output_type": "display_data"
    }
   ],
   "source": [
    "import matplotlib.pyplot as plt\n",
    "import seaborn as sns\n",
    "sns.set_context(\"poster\")\n",
    "\n",
    "_, ax = plt.subplots(figsize=(8, 8))\n",
    "ax = sns.kdeplot(\n",
    "    data=X_train,\n",
    "    x=\"Culmen Length (mm)\",\n",
    "    y=\"Culmen Depth (mm)\",\n",
    "    levels=10,\n",
    "    fill=True,\n",
    "    cmap=plt.cm.viridis,\n",
    "    ax=ax,\n",
    ")\n",
    "_ = ax.axis(\"square\")"
   ]
  },
  {
   "cell_type": "markdown",
   "id": "192947ba-a636-453c-8b54-2eabbdfaad0c",
   "metadata": {},
   "source": [
    "Looking at our data distribution, we observed that the deviation from the mean is more important for the culmen length feature than the culmen depth feature. This will have an impact when dealing with gradient-based model."
   ]
  },
  {
   "cell_type": "markdown",
   "id": "8f083ad5-4845-4ffd-ab9c-20578937ae38",
   "metadata": {},
   "source": [
    "<div class=\"alert alert-success\">\n",
    "    <p><b>EXERCISE</b>:</p>\n",
    "    <ul>\n",
    "        <li>Using pandas, rescale the dataset such that they will be centered to (0, 0) and have a unit standard deviation for both feature.</li>\n",
    "        <li>Plot the distribution of the data as previously done.</li>\n",
    "        <li>Fit a <tt>LogisticRegression</tt> on the scaled dataset.</li>\n",
    "        <li>Check the number of iterations needed to train the model.</li>\n",
    "    </ul>\n",
    "</div>"
   ]
  },
  {
   "cell_type": "code",
   "execution_count": 91,
   "id": "bafd23aa",
   "metadata": {},
   "outputs": [
    {
     "data": {
      "text/html": [
       "<div>\n",
       "<style scoped>\n",
       "    .dataframe tbody tr th:only-of-type {\n",
       "        vertical-align: middle;\n",
       "    }\n",
       "\n",
       "    .dataframe tbody tr th {\n",
       "        vertical-align: top;\n",
       "    }\n",
       "\n",
       "    .dataframe thead th {\n",
       "        text-align: right;\n",
       "    }\n",
       "</style>\n",
       "<table border=\"1\" class=\"dataframe\">\n",
       "  <thead>\n",
       "    <tr style=\"text-align: right;\">\n",
       "      <th></th>\n",
       "      <th>Culmen Length (mm)</th>\n",
       "      <th>Culmen Depth (mm)</th>\n",
       "      <th>Species</th>\n",
       "    </tr>\n",
       "  </thead>\n",
       "  <tbody>\n",
       "    <tr>\n",
       "      <th>0</th>\n",
       "      <td>-0.883205</td>\n",
       "      <td>0.784300</td>\n",
       "      <td>Adelie</td>\n",
       "    </tr>\n",
       "    <tr>\n",
       "      <th>1</th>\n",
       "      <td>-0.809939</td>\n",
       "      <td>0.126003</td>\n",
       "      <td>Adelie</td>\n",
       "    </tr>\n",
       "    <tr>\n",
       "      <th>2</th>\n",
       "      <td>-0.663408</td>\n",
       "      <td>0.429833</td>\n",
       "      <td>Adelie</td>\n",
       "    </tr>\n",
       "    <tr>\n",
       "      <th>3</th>\n",
       "      <td>-1.322799</td>\n",
       "      <td>1.088129</td>\n",
       "      <td>Adelie</td>\n",
       "    </tr>\n",
       "    <tr>\n",
       "      <th>4</th>\n",
       "      <td>-0.846572</td>\n",
       "      <td>1.746426</td>\n",
       "      <td>Adelie</td>\n",
       "    </tr>\n",
       "  </tbody>\n",
       "</table>\n",
       "</div>"
      ],
      "text/plain": [
       "   Culmen Length (mm)  Culmen Depth (mm) Species\n",
       "0           -0.883205           0.784300  Adelie\n",
       "1           -0.809939           0.126003  Adelie\n",
       "2           -0.663408           0.429833  Adelie\n",
       "3           -1.322799           1.088129  Adelie\n",
       "4           -0.846572           1.746426  Adelie"
      ]
     },
     "execution_count": 91,
     "metadata": {},
     "output_type": "execute_result"
    }
   ],
   "source": [
    "data[[\"Culmen Length (mm)\", \"Culmen Depth (mm)\"]] -= data[[\"Culmen Length (mm)\", \"Culmen Depth (mm)\"]].mean()\n",
    "data[[\"Culmen Length (mm)\", \"Culmen Depth (mm)\"]] /= data[[\"Culmen Length (mm)\", \"Culmen Depth (mm)\"]].std()\n",
    "data.head()"
   ]
  },
  {
   "cell_type": "code",
   "execution_count": 92,
   "id": "abc81aa9",
   "metadata": {
    "scrolled": false
   },
   "outputs": [
    {
     "data": {
      "image/png": "[encoded data removed]",
      "text/plain": [
       "<Figure size 576x576 with 1 Axes>"
      ]
     },
     "metadata": {
      "needs_background": "light"
     },
     "output_type": "display_data"
    }
   ],
   "source": [
    "import matplotlib.pyplot as plt\n",
    "import seaborn as sns\n",
    "sns.set_context(\"poster\")\n",
    "\n",
    "_, ax = plt.subplots(figsize=(8, 8))\n",
    "ax = sns.kdeplot(\n",
    "    data=data[[\"Culmen Length (mm)\", \"Culmen Depth (mm)\"]],\n",
    "    x=\"Culmen Length (mm)\",\n",
    "    y=\"Culmen Depth (mm)\",\n",
    "    levels=10,\n",
    "    fill=True,\n",
    "    cmap=plt.cm.viridis,\n",
    "    ax=ax,\n",
    ")\n",
    "_ = ax.axis(\"square\")"
   ]
  },
  {
   "cell_type": "code",
   "execution_count": 93,
   "id": "6c5866fc",
   "metadata": {},
   "outputs": [
    {
     "name": "stdout",
     "output_type": "stream",
     "text": [
      "Score: 0.9883720930232558, Number of iterations: 15\n"
     ]
    }
   ],
   "source": [
    "X = data.drop(columns=target_name)\n",
    "y = data[target_name]\n",
    "X_train, X_test, y_train, y_test = train_test_split(\n",
    "    X, y, random_state=0\n",
    ")\n",
    "model = LogisticRegression()\n",
    "model.fit(X_train, y_train)\n",
    "print(f\"Score: {model.score(X_test, y_test)}, Number of iterations: {model.n_iter_[0]}\")"
   ]
  },
  {
   "cell_type": "code",
   "execution_count": 94,
   "id": "5cfa6d11-e6bf-47f0-83ec-c44ef02f0533",
   "metadata": {},
   "outputs": [],
   "source": [
    "# %load solutions/solution_25.py"
   ]
  },
  {
   "cell_type": "code",
   "execution_count": 95,
   "id": "790992aa-f207-4b3c-b63d-54c3f31acafd",
   "metadata": {},
   "outputs": [],
   "source": [
    "# %load solutions/solution_26.py"
   ]
  },
  {
   "cell_type": "code",
   "execution_count": 96,
   "id": "636f923e-ae55-45f3-ab44-1c744ca9b84d",
   "metadata": {},
   "outputs": [],
   "source": [
    "# %load solutions/solution_27.py"
   ]
  },
  {
   "cell_type": "markdown",
   "id": "d1caa206-d7e2-4302-b5be-17ece84b9749",
   "metadata": {},
   "source": [
    "## Scikit-learn transformers API"
   ]
  },
  {
   "cell_type": "markdown",
   "id": "7fd77b08-0601-4199-9b2c-46c78e9ab625",
   "metadata": {},
   "source": [
    "There is a family of estimator in scikit-learn that allows to \"transform\" data. As predictor, they can learn some states during `fit` and later reuse these states when calling the method `transform`. Let's perform the previous scaling using the `StandardScaler` transformer from scikit-learn."
   ]
  },
  {
   "cell_type": "code",
   "execution_count": 97,
   "id": "58571235",
   "metadata": {},
   "outputs": [
    {
     "data": {
      "text/plain": [
       "StandardScaler()"
      ]
     },
     "execution_count": 97,
     "metadata": {},
     "output_type": "execute_result"
    }
   ],
   "source": [
    "from sklearn.preprocessing import StandardScaler\n",
    "\n",
    "scaler = StandardScaler()\n",
    "scaler.fit(X_train)"
   ]
  },
  {
   "cell_type": "markdown",
   "id": "520b2d62-0a5a-420d-b612-dcaf2f6f40f6",
   "metadata": {},
   "source": [
    "As stated, we expect our scaler to have some state after calling `fit`. Indeed, our scaler will have store the mean and standard deviation of the dataset."
   ]
  },
  {
   "cell_type": "code",
   "execution_count": 98,
   "id": "eceb7b3c-2525-4726-a137-bc3a30b306f1",
   "metadata": {},
   "outputs": [
    {
     "data": {
      "text/plain": [
       "(array([ 0.03562111, -0.05281292]), array([0.99801951, 0.97703212]))"
      ]
     },
     "execution_count": 98,
     "metadata": {},
     "output_type": "execute_result"
    }
   ],
   "source": [
    "scaler.mean_, scaler.scale_"
   ]
  },
  {
   "cell_type": "markdown",
   "id": "9c845a85-6113-4096-aa7b-eff57087307a",
   "metadata": {},
   "source": [
    "Now we can use the `transform` method to scale the data."
   ]
  },
  {
   "cell_type": "code",
   "execution_count": 99,
   "id": "29a41cf3-db0a-4368-be13-79065dce8832",
   "metadata": {},
   "outputs": [
    {
     "data": {
      "text/html": [
       "<div>\n",
       "<style scoped>\n",
       "    .dataframe tbody tr th:only-of-type {\n",
       "        vertical-align: middle;\n",
       "    }\n",
       "\n",
       "    .dataframe tbody tr th {\n",
       "        vertical-align: top;\n",
       "    }\n",
       "\n",
       "    .dataframe thead th {\n",
       "        text-align: right;\n",
       "    }\n",
       "</style>\n",
       "<table border=\"1\" class=\"dataframe\">\n",
       "  <thead>\n",
       "    <tr style=\"text-align: right;\">\n",
       "      <th></th>\n",
       "      <th>Culmen Length (mm)</th>\n",
       "      <th>Culmen Depth (mm)</th>\n",
       "    </tr>\n",
       "  </thead>\n",
       "  <tbody>\n",
       "    <tr>\n",
       "      <th>0</th>\n",
       "      <td>-0.296655</td>\n",
       "      <td>-0.179780</td>\n",
       "    </tr>\n",
       "    <tr>\n",
       "      <th>1</th>\n",
       "      <td>-1.177588</td>\n",
       "      <td>-0.542581</td>\n",
       "    </tr>\n",
       "    <tr>\n",
       "      <th>2</th>\n",
       "      <td>0.841216</td>\n",
       "      <td>-1.527324</td>\n",
       "    </tr>\n",
       "    <tr>\n",
       "      <th>3</th>\n",
       "      <td>1.116508</td>\n",
       "      <td>0.856792</td>\n",
       "    </tr>\n",
       "    <tr>\n",
       "      <th>4</th>\n",
       "      <td>-1.361115</td>\n",
       "      <td>0.908620</td>\n",
       "    </tr>\n",
       "  </tbody>\n",
       "</table>\n",
       "</div>"
      ],
      "text/plain": [
       "   Culmen Length (mm)  Culmen Depth (mm)\n",
       "0           -0.296655          -0.179780\n",
       "1           -1.177588          -0.542581\n",
       "2            0.841216          -1.527324\n",
       "3            1.116508           0.856792\n",
       "4           -1.361115           0.908620"
      ]
     },
     "execution_count": 99,
     "metadata": {},
     "output_type": "execute_result"
    }
   ],
   "source": [
    "X_train_scaled = scaler.transform(X_train)\n",
    "# scikit-learn will transform any pandas dataframe into a NumPy array\n",
    "X_train_scaled = pd.DataFrame(X_train_scaled, columns=X_train.columns)\n",
    "X_train_scaled.head()"
   ]
  },
  {
   "cell_type": "markdown",
   "id": "b430f198-a741-4976-bfc3-1cc665c15a38",
   "metadata": {},
   "source": [
    "Let's plot the distribution of the data to convince ourself that the transformation applied is the same than we did by hand earlier."
   ]
  },
  {
   "cell_type": "code",
   "execution_count": 100,
   "id": "ea2c2c32-d807-40d1-9655-b18b7a2bb390",
   "metadata": {},
   "outputs": [
    {
     "data": {
      "image/png": "[encoded data removed]",
      "text/plain": [
       "<Figure size 576x576 with 1 Axes>"
      ]
     },
     "metadata": {
      "needs_background": "light"
     },
     "output_type": "display_data"
    }
   ],
   "source": [
    "_, ax = plt.subplots(figsize=(8, 8))\n",
    "ax = sns.kdeplot(\n",
    "    data=X_train_scaled,\n",
    "    x=\"Culmen Length (mm)\",\n",
    "    y=\"Culmen Depth (mm)\",\n",
    "    levels=10,\n",
    "    fill=True,\n",
    "    cmap=plt.cm.viridis,\n",
    "    ax=ax,\n",
    ")\n",
    "_ = ax.axis(\"square\")"
   ]
  },
  {
   "cell_type": "code",
   "execution_count": 101,
   "id": "e7f8d47a",
   "metadata": {},
   "outputs": [
    {
     "data": {
      "text/plain": [
       "Culmen Length (mm)    4.857226e-17\n",
       "Culmen Depth (mm)     2.775558e-17\n",
       "dtype: float64"
      ]
     },
     "execution_count": 101,
     "metadata": {},
     "output_type": "execute_result"
    }
   ],
   "source": [
    "X_train_scaled.mean()"
   ]
  },
  {
   "cell_type": "code",
   "execution_count": 102,
   "id": "80247c9e",
   "metadata": {},
   "outputs": [
    {
     "data": {
      "text/plain": [
       "Culmen Length (mm)    1.001959\n",
       "Culmen Depth (mm)     1.001959\n",
       "dtype: float64"
      ]
     },
     "execution_count": 102,
     "metadata": {},
     "output_type": "execute_result"
    }
   ],
   "source": [
    "X_train_scaled.std()"
   ]
  },
  {
   "cell_type": "markdown",
   "id": "4539ac7b-17ea-4bff-86fa-43d4ee6a4d27",
   "metadata": {},
   "source": [
    "The advantage of using scikit-learn transformer over manually manipulating the dataset is that we can make complex pipeline. A pipeline can be represented as a sequence of scikit-learn transformers finishing by a scikit-learn predictor. This pipeline will have the same API than a scikit-learn predictor (i.e. `fit`, `predict`, `predict_proba`, `decision_function`), and will take care of the transformation and the transformation state for us.\n",
    "\n",
    "Let's define such of a scikit-learn pipeline."
   ]
  },
  {
   "cell_type": "code",
   "execution_count": 103,
   "id": "4cb42b08",
   "metadata": {},
   "outputs": [],
   "source": [
    "import sklearn\n",
    "# to make nice diagram when plotting complex pipeline\n",
    "sklearn.set_config(display=\"diagram\")"
   ]
  },
  {
   "cell_type": "code",
   "execution_count": 104,
   "id": "60eb86ec",
   "metadata": {},
   "outputs": [
    {
     "data": {
      "text/html": [
       "<style>#sk-4f098d2f-17bd-4ea8-adda-563cdb1378f5 {color: black;background-color: white;}#sk-4f098d2f-17bd-4ea8-adda-563cdb1378f5 pre{padding: 0;}#sk-4f098d2f-17bd-4ea8-adda-563cdb1378f5 div.sk-toggleable {background-color: white;}#sk-4f098d2f-17bd-4ea8-adda-563cdb1378f5 label.sk-toggleable__label {cursor: pointer;display: block;width: 100%;margin-bottom: 0;padding: 0.3em;box-sizing: border-box;text-align: center;}#sk-4f098d2f-17bd-4ea8-adda-563cdb1378f5 label.sk-toggleable__label-arrow:before {content: \"▸\";float: left;margin-right: 0.25em;color: #696969;}#sk-4f098d2f-17bd-4ea8-adda-563cdb1378f5 label.sk-toggleable__label-arrow:hover:before {color: black;}#sk-4f098d2f-17bd-4ea8-adda-563cdb1378f5 div.sk-estimator:hover label.sk-toggleable__label-arrow:before {color: black;}#sk-4f098d2f-17bd-4ea8-adda-563cdb1378f5 div.sk-toggleable__content {max-height: 0;max-width: 0;overflow: hidden;text-align: left;background-color: #f0f8ff;}#sk-4f098d2f-17bd-4ea8-adda-563cdb1378f5 div.sk-toggleable__content pre {margin: 0.2em;color: black;border-radius: 0.25em;background-color: #f0f8ff;}#sk-4f098d2f-17bd-4ea8-adda-563cdb1378f5 input.sk-toggleable__control:checked~div.sk-toggleable__content {max-height: 200px;max-width: 100%;overflow: auto;}#sk-4f098d2f-17bd-4ea8-adda-563cdb1378f5 input.sk-toggleable__control:checked~label.sk-toggleable__label-arrow:before {content: \"▾\";}#sk-4f098d2f-17bd-4ea8-adda-563cdb1378f5 div.sk-estimator input.sk-toggleable__control:checked~label.sk-toggleable__label {background-color: #d4ebff;}#sk-4f098d2f-17bd-4ea8-adda-563cdb1378f5 div.sk-label input.sk-toggleable__control:checked~label.sk-toggleable__label {background-color: #d4ebff;}#sk-4f098d2f-17bd-4ea8-adda-563cdb1378f5 input.sk-hidden--visually {border: 0;clip: rect(1px 1px 1px 1px);clip: rect(1px, 1px, 1px, 1px);height: 1px;margin: -1px;overflow: hidden;padding: 0;position: absolute;width: 1px;}#sk-4f098d2f-17bd-4ea8-adda-563cdb1378f5 div.sk-estimator {font-family: monospace;background-color: #f0f8ff;border: 1px dotted black;border-radius: 0.25em;box-sizing: border-box;margin-bottom: 0.5em;}#sk-4f098d2f-17bd-4ea8-adda-563cdb1378f5 div.sk-estimator:hover {background-color: #d4ebff;}#sk-4f098d2f-17bd-4ea8-adda-563cdb1378f5 div.sk-parallel-item::after {content: \"\";width: 100%;border-bottom: 1px solid gray;flex-grow: 1;}#sk-4f098d2f-17bd-4ea8-adda-563cdb1378f5 div.sk-label:hover label.sk-toggleable__label {background-color: #d4ebff;}#sk-4f098d2f-17bd-4ea8-adda-563cdb1378f5 div.sk-serial::before {content: \"\";position: absolute;border-left: 1px solid gray;box-sizing: border-box;top: 2em;bottom: 0;left: 50%;}#sk-4f098d2f-17bd-4ea8-adda-563cdb1378f5 div.sk-serial {display: flex;flex-direction: column;align-items: center;background-color: white;padding-right: 0.2em;padding-left: 0.2em;}#sk-4f098d2f-17bd-4ea8-adda-563cdb1378f5 div.sk-item {z-index: 1;}#sk-4f098d2f-17bd-4ea8-adda-563cdb1378f5 div.sk-parallel {display: flex;align-items: stretch;justify-content: center;background-color: white;}#sk-4f098d2f-17bd-4ea8-adda-563cdb1378f5 div.sk-parallel::before {content: \"\";position: absolute;border-left: 1px solid gray;box-sizing: border-box;top: 2em;bottom: 0;left: 50%;}#sk-4f098d2f-17bd-4ea8-adda-563cdb1378f5 div.sk-parallel-item {display: flex;flex-direction: column;position: relative;background-color: white;}#sk-4f098d2f-17bd-4ea8-adda-563cdb1378f5 div.sk-parallel-item:first-child::after {align-self: flex-end;width: 50%;}#sk-4f098d2f-17bd-4ea8-adda-563cdb1378f5 div.sk-parallel-item:last-child::after {align-self: flex-start;width: 50%;}#sk-4f098d2f-17bd-4ea8-adda-563cdb1378f5 div.sk-parallel-item:only-child::after {width: 0;}#sk-4f098d2f-17bd-4ea8-adda-563cdb1378f5 div.sk-dashed-wrapped {border: 1px dashed gray;margin: 0 0.4em 0.5em 0.4em;box-sizing: border-box;padding-bottom: 0.4em;background-color: white;position: relative;}#sk-4f098d2f-17bd-4ea8-adda-563cdb1378f5 div.sk-label label {font-family: monospace;font-weight: bold;background-color: white;display: inline-block;line-height: 1.2em;}#sk-4f098d2f-17bd-4ea8-adda-563cdb1378f5 div.sk-label-container {position: relative;z-index: 2;text-align: center;}#sk-4f098d2f-17bd-4ea8-adda-563cdb1378f5 div.sk-container {/* jupyter's `normalize.less` sets `[hidden] { display: none; }` but bootstrap.min.css set `[hidden] { display: none !important; }` so we also need the `!important` here to be able to override the default hidden behavior on the sphinx rendered scikit-learn.org. See: https://github.com/scikit-learn/scikit-learn/issues/21755 */display: inline-block !important;position: relative;}#sk-4f098d2f-17bd-4ea8-adda-563cdb1378f5 div.sk-text-repr-fallback {display: none;}</style><div id=\"sk-4f098d2f-17bd-4ea8-adda-563cdb1378f5\" class=\"sk-top-container\"><div class=\"sk-text-repr-fallback\"><pre>Pipeline(steps=[(&#x27;standardscaler&#x27;, StandardScaler()),\n",
       "                (&#x27;logisticregression&#x27;, LogisticRegression())])</pre><b>Please rerun this cell to show the HTML repr or trust the notebook.</b></div><div class=\"sk-container\" hidden><div class=\"sk-item sk-dashed-wrapped\"><div class=\"sk-label-container\"><div class=\"sk-label sk-toggleable\"><input class=\"sk-toggleable__control sk-hidden--visually\" id=\"3f00f6a2-723c-45dd-afcb-52f72b3f514c\" type=\"checkbox\" ><label for=\"3f00f6a2-723c-45dd-afcb-52f72b3f514c\" class=\"sk-toggleable__label sk-toggleable__label-arrow\">Pipeline</label><div class=\"sk-toggleable__content\"><pre>Pipeline(steps=[(&#x27;standardscaler&#x27;, StandardScaler()),\n",
       "                (&#x27;logisticregression&#x27;, LogisticRegression())])</pre></div></div></div><div class=\"sk-serial\"><div class=\"sk-item\"><div class=\"sk-estimator sk-toggleable\"><input class=\"sk-toggleable__control sk-hidden--visually\" id=\"28be5cbd-3570-48df-881b-37bdbb69ba01\" type=\"checkbox\" ><label for=\"28be5cbd-3570-48df-881b-37bdbb69ba01\" class=\"sk-toggleable__label sk-toggleable__label-arrow\">StandardScaler</label><div class=\"sk-toggleable__content\"><pre>StandardScaler()</pre></div></div></div><div class=\"sk-item\"><div class=\"sk-estimator sk-toggleable\"><input class=\"sk-toggleable__control sk-hidden--visually\" id=\"c3871a4f-af92-48b1-863b-652f09506e84\" type=\"checkbox\" ><label for=\"c3871a4f-af92-48b1-863b-652f09506e84\" class=\"sk-toggleable__label sk-toggleable__label-arrow\">LogisticRegression</label><div class=\"sk-toggleable__content\"><pre>LogisticRegression()</pre></div></div></div></div></div></div></div>"
      ],
      "text/plain": [
       "Pipeline(steps=[('standardscaler', StandardScaler()),\n",
       "                ('logisticregression', LogisticRegression())])"
      ]
     },
     "execution_count": 104,
     "metadata": {},
     "output_type": "execute_result"
    }
   ],
   "source": [
    "from sklearn.preprocessing import StandardScaler\n",
    "from sklearn.pipeline import make_pipeline\n",
    "\n",
    "model = make_pipeline(StandardScaler(), LogisticRegression())\n",
    "model"
   ]
  },
  {
   "cell_type": "markdown",
   "id": "2842c799-036e-4c0a-a998-41186ae42e47",
   "metadata": {},
   "source": [
    "Here, we created a pipeline that will be in charge of scaling the data first and then pass it to the classifier. Let's demonstrate how to train this pipeline."
   ]
  },
  {
   "cell_type": "code",
   "execution_count": 105,
   "id": "dda70405-5975-4712-8eed-86eeb28a565e",
   "metadata": {},
   "outputs": [
    {
     "data": {
      "text/html": [
       "<style>#sk-815b6618-5d21-428d-a6d6-e7452f5c8ffc {color: black;background-color: white;}#sk-815b6618-5d21-428d-a6d6-e7452f5c8ffc pre{padding: 0;}#sk-815b6618-5d21-428d-a6d6-e7452f5c8ffc div.sk-toggleable {background-color: white;}#sk-815b6618-5d21-428d-a6d6-e7452f5c8ffc label.sk-toggleable__label {cursor: pointer;display: block;width: 100%;margin-bottom: 0;padding: 0.3em;box-sizing: border-box;text-align: center;}#sk-815b6618-5d21-428d-a6d6-e7452f5c8ffc label.sk-toggleable__label-arrow:before {content: \"▸\";float: left;margin-right: 0.25em;color: #696969;}#sk-815b6618-5d21-428d-a6d6-e7452f5c8ffc label.sk-toggleable__label-arrow:hover:before {color: black;}#sk-815b6618-5d21-428d-a6d6-e7452f5c8ffc div.sk-estimator:hover label.sk-toggleable__label-arrow:before {color: black;}#sk-815b6618-5d21-428d-a6d6-e7452f5c8ffc div.sk-toggleable__content {max-height: 0;max-width: 0;overflow: hidden;text-align: left;background-color: #f0f8ff;}#sk-815b6618-5d21-428d-a6d6-e7452f5c8ffc div.sk-toggleable__content pre {margin: 0.2em;color: black;border-radius: 0.25em;background-color: #f0f8ff;}#sk-815b6618-5d21-428d-a6d6-e7452f5c8ffc input.sk-toggleable__control:checked~div.sk-toggleable__content {max-height: 200px;max-width: 100%;overflow: auto;}#sk-815b6618-5d21-428d-a6d6-e7452f5c8ffc input.sk-toggleable__control:checked~label.sk-toggleable__label-arrow:before {content: \"▾\";}#sk-815b6618-5d21-428d-a6d6-e7452f5c8ffc div.sk-estimator input.sk-toggleable__control:checked~label.sk-toggleable__label {background-color: #d4ebff;}#sk-815b6618-5d21-428d-a6d6-e7452f5c8ffc div.sk-label input.sk-toggleable__control:checked~label.sk-toggleable__label {background-color: #d4ebff;}#sk-815b6618-5d21-428d-a6d6-e7452f5c8ffc input.sk-hidden--visually {border: 0;clip: rect(1px 1px 1px 1px);clip: rect(1px, 1px, 1px, 1px);height: 1px;margin: -1px;overflow: hidden;padding: 0;position: absolute;width: 1px;}#sk-815b6618-5d21-428d-a6d6-e7452f5c8ffc div.sk-estimator {font-family: monospace;background-color: #f0f8ff;border: 1px dotted black;border-radius: 0.25em;box-sizing: border-box;margin-bottom: 0.5em;}#sk-815b6618-5d21-428d-a6d6-e7452f5c8ffc div.sk-estimator:hover {background-color: #d4ebff;}#sk-815b6618-5d21-428d-a6d6-e7452f5c8ffc div.sk-parallel-item::after {content: \"\";width: 100%;border-bottom: 1px solid gray;flex-grow: 1;}#sk-815b6618-5d21-428d-a6d6-e7452f5c8ffc div.sk-label:hover label.sk-toggleable__label {background-color: #d4ebff;}#sk-815b6618-5d21-428d-a6d6-e7452f5c8ffc div.sk-serial::before {content: \"\";position: absolute;border-left: 1px solid gray;box-sizing: border-box;top: 2em;bottom: 0;left: 50%;}#sk-815b6618-5d21-428d-a6d6-e7452f5c8ffc div.sk-serial {display: flex;flex-direction: column;align-items: center;background-color: white;padding-right: 0.2em;padding-left: 0.2em;}#sk-815b6618-5d21-428d-a6d6-e7452f5c8ffc div.sk-item {z-index: 1;}#sk-815b6618-5d21-428d-a6d6-e7452f5c8ffc div.sk-parallel {display: flex;align-items: stretch;justify-content: center;background-color: white;}#sk-815b6618-5d21-428d-a6d6-e7452f5c8ffc div.sk-parallel::before {content: \"\";position: absolute;border-left: 1px solid gray;box-sizing: border-box;top: 2em;bottom: 0;left: 50%;}#sk-815b6618-5d21-428d-a6d6-e7452f5c8ffc div.sk-parallel-item {display: flex;flex-direction: column;position: relative;background-color: white;}#sk-815b6618-5d21-428d-a6d6-e7452f5c8ffc div.sk-parallel-item:first-child::after {align-self: flex-end;width: 50%;}#sk-815b6618-5d21-428d-a6d6-e7452f5c8ffc div.sk-parallel-item:last-child::after {align-self: flex-start;width: 50%;}#sk-815b6618-5d21-428d-a6d6-e7452f5c8ffc div.sk-parallel-item:only-child::after {width: 0;}#sk-815b6618-5d21-428d-a6d6-e7452f5c8ffc div.sk-dashed-wrapped {border: 1px dashed gray;margin: 0 0.4em 0.5em 0.4em;box-sizing: border-box;padding-bottom: 0.4em;background-color: white;position: relative;}#sk-815b6618-5d21-428d-a6d6-e7452f5c8ffc div.sk-label label {font-family: monospace;font-weight: bold;background-color: white;display: inline-block;line-height: 1.2em;}#sk-815b6618-5d21-428d-a6d6-e7452f5c8ffc div.sk-label-container {position: relative;z-index: 2;text-align: center;}#sk-815b6618-5d21-428d-a6d6-e7452f5c8ffc div.sk-container {/* jupyter's `normalize.less` sets `[hidden] { display: none; }` but bootstrap.min.css set `[hidden] { display: none !important; }` so we also need the `!important` here to be able to override the default hidden behavior on the sphinx rendered scikit-learn.org. See: https://github.com/scikit-learn/scikit-learn/issues/21755 */display: inline-block !important;position: relative;}#sk-815b6618-5d21-428d-a6d6-e7452f5c8ffc div.sk-text-repr-fallback {display: none;}</style><div id=\"sk-815b6618-5d21-428d-a6d6-e7452f5c8ffc\" class=\"sk-top-container\"><div class=\"sk-text-repr-fallback\"><pre>Pipeline(steps=[(&#x27;standardscaler&#x27;, StandardScaler()),\n",
       "                (&#x27;logisticregression&#x27;, LogisticRegression())])</pre><b>Please rerun this cell to show the HTML repr or trust the notebook.</b></div><div class=\"sk-container\" hidden><div class=\"sk-item sk-dashed-wrapped\"><div class=\"sk-label-container\"><div class=\"sk-label sk-toggleable\"><input class=\"sk-toggleable__control sk-hidden--visually\" id=\"4b762205-6a19-40cc-9e35-68eb696a94d7\" type=\"checkbox\" ><label for=\"4b762205-6a19-40cc-9e35-68eb696a94d7\" class=\"sk-toggleable__label sk-toggleable__label-arrow\">Pipeline</label><div class=\"sk-toggleable__content\"><pre>Pipeline(steps=[(&#x27;standardscaler&#x27;, StandardScaler()),\n",
       "                (&#x27;logisticregression&#x27;, LogisticRegression())])</pre></div></div></div><div class=\"sk-serial\"><div class=\"sk-item\"><div class=\"sk-estimator sk-toggleable\"><input class=\"sk-toggleable__control sk-hidden--visually\" id=\"f42f9430-5b87-4112-8f43-04bf80874105\" type=\"checkbox\" ><label for=\"f42f9430-5b87-4112-8f43-04bf80874105\" class=\"sk-toggleable__label sk-toggleable__label-arrow\">StandardScaler</label><div class=\"sk-toggleable__content\"><pre>StandardScaler()</pre></div></div></div><div class=\"sk-item\"><div class=\"sk-estimator sk-toggleable\"><input class=\"sk-toggleable__control sk-hidden--visually\" id=\"fc4291be-2ed0-4c9f-aa95-686b0489f28b\" type=\"checkbox\" ><label for=\"fc4291be-2ed0-4c9f-aa95-686b0489f28b\" class=\"sk-toggleable__label sk-toggleable__label-arrow\">LogisticRegression</label><div class=\"sk-toggleable__content\"><pre>LogisticRegression()</pre></div></div></div></div></div></div></div>"
      ],
      "text/plain": [
       "Pipeline(steps=[('standardscaler', StandardScaler()),\n",
       "                ('logisticregression', LogisticRegression())])"
      ]
     },
     "execution_count": 105,
     "metadata": {},
     "output_type": "execute_result"
    }
   ],
   "source": [
    "model.fit(X_train, y_train)"
   ]
  },
  {
   "cell_type": "markdown",
   "id": "398d0fd2-dff3-4e01-81ce-db715db26602",
   "metadata": {},
   "source": [
    "We just trained our model without the need to take care about the scaling ourselve. We can check that model have internal state learnt during `fit`. Let's first check our scaler."
   ]
  },
  {
   "cell_type": "code",
   "execution_count": 106,
   "id": "b8fe37b9-b61f-4ccd-bd25-a8ef3266610f",
   "metadata": {},
   "outputs": [
    {
     "data": {
      "text/plain": [
       "(array([ 0.03562111, -0.05281292]), array([0.99801951, 0.97703212]))"
      ]
     },
     "execution_count": 106,
     "metadata": {},
     "output_type": "execute_result"
    }
   ],
   "source": [
    "model[0].mean_, model[0].scale_"
   ]
  },
  {
   "cell_type": "markdown",
   "id": "48fbfb5c-a2b0-419b-82f3-5dc51641dd5a",
   "metadata": {},
   "source": [
    "So the first step of the pipeline stored the mean and standard deviation of the training set. Did we learn the optimal parameter of the `LogisticRegression`?"
   ]
  },
  {
   "cell_type": "code",
   "execution_count": 107,
   "id": "7390bbde-6963-4f86-8543-e3d1eab6599a",
   "metadata": {},
   "outputs": [
    {
     "data": {
      "text/plain": [
       "array([[-2.87194706,  2.22608624],\n",
       "       [ 1.03286407,  0.84888563],\n",
       "       [ 1.83908299, -3.07497187]])"
      ]
     },
     "execution_count": 107,
     "metadata": {},
     "output_type": "execute_result"
    }
   ],
   "source": [
    "model[-1].coef_"
   ]
  },
  {
   "cell_type": "markdown",
   "id": "8341df0a-aee7-4ef3-9c36-6098624a2734",
   "metadata": {},
   "source": [
    "Apparently, we did. We can even check the number of iteration that it took to train the model."
   ]
  },
  {
   "cell_type": "code",
   "execution_count": 108,
   "id": "6f533d4b-3068-46db-8058-2a5e10151f3a",
   "metadata": {},
   "outputs": [
    {
     "data": {
      "text/plain": [
       "array([14])"
      ]
     },
     "execution_count": 108,
     "metadata": {},
     "output_type": "execute_result"
    }
   ],
   "source": [
    "model[-1].n_iter_"
   ]
  },
  {
   "cell_type": "markdown",
   "id": "43cfc328-9620-452c-a78b-cd6b848830b7",
   "metadata": {},
   "source": [
    "So the pipeline did all the job that we previously manually did with the advantage that it exposes the same API than any predictor that we used up to now. What about prediction and scoring?\n",
    "\n",
    "Indeed, during prediction, we would need to scale the testing set using the statistic found during training. Using the pipeline with the `predict` method will take care of this processing for us."
   ]
  },
  {
   "cell_type": "code",
   "execution_count": 109,
   "id": "d0fcabbf",
   "metadata": {},
   "outputs": [],
   "source": [
    "y_pred = model.predict(X_test)"
   ]
  },
  {
   "cell_type": "code",
   "execution_count": 110,
   "id": "e4506576-343b-4b59-ae84-0d7d0dc26cb4",
   "metadata": {},
   "outputs": [
    {
     "data": {
      "text/plain": [
       "0.9883720930232558"
      ]
     },
     "execution_count": 110,
     "metadata": {},
     "output_type": "execute_result"
    }
   ],
   "source": [
    "(y_test == y_pred).mean()"
   ]
  },
  {
   "cell_type": "markdown",
   "id": "dc1ebf65-4036-4c7a-9ef7-8447666d4ce2",
   "metadata": {},
   "source": [
    "<div class=\"alert alert-success\">\n",
    "    <p><b>EXERCISE</b>:</p>\n",
    "    In the first course, we saw that we could pass a model to <tt>cross_validate</tt> to get a distrbution of score.\n",
    "    Use the previous complex pipeline, and evaluate it using the <tt>cross_validate</tt> function.\n",
    "</div>"
   ]
  },
  {
   "cell_type": "code",
   "execution_count": 112,
   "id": "f5285af0-7c80-495d-b8d4-6aa8e964372a",
   "metadata": {},
   "outputs": [],
   "source": [
    "from sklearn.model_selection import cross_validate\n",
    "\n",
    "cv_results = cross_validate(\n",
    "    model,\n",
    "    X,\n",
    "    y,\n",
    "    cv=5,\n",
    "    scoring=\"accuracy\",\n",
    ")"
   ]
  },
  {
   "cell_type": "code",
   "execution_count": 113,
   "id": "73b09038",
   "metadata": {},
   "outputs": [
    {
     "data": {
      "text/html": [
       "<div>\n",
       "<style scoped>\n",
       "    .dataframe tbody tr th:only-of-type {\n",
       "        vertical-align: middle;\n",
       "    }\n",
       "\n",
       "    .dataframe tbody tr th {\n",
       "        vertical-align: top;\n",
       "    }\n",
       "\n",
       "    .dataframe thead th {\n",
       "        text-align: right;\n",
       "    }\n",
       "</style>\n",
       "<table border=\"1\" class=\"dataframe\">\n",
       "  <thead>\n",
       "    <tr style=\"text-align: right;\">\n",
       "      <th></th>\n",
       "      <th>fit_time</th>\n",
       "      <th>score_time</th>\n",
       "      <th>test_score</th>\n",
       "    </tr>\n",
       "  </thead>\n",
       "  <tbody>\n",
       "    <tr>\n",
       "      <th>0</th>\n",
       "      <td>0.018109</td>\n",
       "      <td>0.006006</td>\n",
       "      <td>1.000000</td>\n",
       "    </tr>\n",
       "    <tr>\n",
       "      <th>1</th>\n",
       "      <td>0.047389</td>\n",
       "      <td>0.002270</td>\n",
       "      <td>0.956522</td>\n",
       "    </tr>\n",
       "    <tr>\n",
       "      <th>2</th>\n",
       "      <td>0.019821</td>\n",
       "      <td>0.009256</td>\n",
       "      <td>0.926471</td>\n",
       "    </tr>\n",
       "    <tr>\n",
       "      <th>3</th>\n",
       "      <td>0.029063</td>\n",
       "      <td>0.002831</td>\n",
       "      <td>0.970588</td>\n",
       "    </tr>\n",
       "    <tr>\n",
       "      <th>4</th>\n",
       "      <td>0.013053</td>\n",
       "      <td>0.003022</td>\n",
       "      <td>0.941176</td>\n",
       "    </tr>\n",
       "  </tbody>\n",
       "</table>\n",
       "</div>"
      ],
      "text/plain": [
       "   fit_time  score_time  test_score\n",
       "0  0.018109    0.006006    1.000000\n",
       "1  0.047389    0.002270    0.956522\n",
       "2  0.019821    0.009256    0.926471\n",
       "3  0.029063    0.002831    0.970588\n",
       "4  0.013053    0.003022    0.941176"
      ]
     },
     "execution_count": 113,
     "metadata": {},
     "output_type": "execute_result"
    }
   ],
   "source": [
    "pd.DataFrame(cv_results)"
   ]
  },
  {
   "cell_type": "markdown",
   "id": "fcfadaf2-f73f-44cb-9038-41b677b32175",
   "metadata": {},
   "source": [
    "## Side effect of longer processing"
   ]
  },
  {
   "cell_type": "markdown",
   "id": "acd75f8b-6a1d-49d0-857c-6bd63d48b6bb",
   "metadata": {},
   "source": [
    "We would like to trigger a behaviour that you could encounter in scikit-learn. It is quite important to know what it means and how to act. Let's load a dataset first."
   ]
  },
  {
   "cell_type": "code",
   "execution_count": 114,
   "id": "03a2820f",
   "metadata": {},
   "outputs": [
    {
     "data": {
      "text/html": [
       "<div>\n",
       "<style scoped>\n",
       "    .dataframe tbody tr th:only-of-type {\n",
       "        vertical-align: middle;\n",
       "    }\n",
       "\n",
       "    .dataframe tbody tr th {\n",
       "        vertical-align: top;\n",
       "    }\n",
       "\n",
       "    .dataframe thead th {\n",
       "        text-align: right;\n",
       "    }\n",
       "</style>\n",
       "<table border=\"1\" class=\"dataframe\">\n",
       "  <thead>\n",
       "    <tr style=\"text-align: right;\">\n",
       "      <th></th>\n",
       "      <th>age</th>\n",
       "      <th>education-num</th>\n",
       "      <th>capital-gain</th>\n",
       "      <th>capital-loss</th>\n",
       "      <th>hours-per-week</th>\n",
       "      <th>class</th>\n",
       "    </tr>\n",
       "  </thead>\n",
       "  <tbody>\n",
       "    <tr>\n",
       "      <th>0</th>\n",
       "      <td>25</td>\n",
       "      <td>7</td>\n",
       "      <td>0</td>\n",
       "      <td>0</td>\n",
       "      <td>40</td>\n",
       "      <td>&lt;=50K</td>\n",
       "    </tr>\n",
       "    <tr>\n",
       "      <th>1</th>\n",
       "      <td>38</td>\n",
       "      <td>9</td>\n",
       "      <td>0</td>\n",
       "      <td>0</td>\n",
       "      <td>50</td>\n",
       "      <td>&lt;=50K</td>\n",
       "    </tr>\n",
       "    <tr>\n",
       "      <th>2</th>\n",
       "      <td>28</td>\n",
       "      <td>12</td>\n",
       "      <td>0</td>\n",
       "      <td>0</td>\n",
       "      <td>40</td>\n",
       "      <td>&gt;50K</td>\n",
       "    </tr>\n",
       "    <tr>\n",
       "      <th>3</th>\n",
       "      <td>44</td>\n",
       "      <td>10</td>\n",
       "      <td>7688</td>\n",
       "      <td>0</td>\n",
       "      <td>40</td>\n",
       "      <td>&gt;50K</td>\n",
       "    </tr>\n",
       "    <tr>\n",
       "      <th>4</th>\n",
       "      <td>18</td>\n",
       "      <td>10</td>\n",
       "      <td>0</td>\n",
       "      <td>0</td>\n",
       "      <td>30</td>\n",
       "      <td>&lt;=50K</td>\n",
       "    </tr>\n",
       "  </tbody>\n",
       "</table>\n",
       "</div>"
      ],
      "text/plain": [
       "   age  education-num  capital-gain  capital-loss  hours-per-week   class\n",
       "0   25              7             0             0              40   <=50K\n",
       "1   38              9             0             0              50   <=50K\n",
       "2   28             12             0             0              40    >50K\n",
       "3   44             10          7688             0              40    >50K\n",
       "4   18             10             0             0              30   <=50K"
      ]
     },
     "execution_count": 114,
     "metadata": {},
     "output_type": "execute_result"
    }
   ],
   "source": [
    "data = pd.read_csv(\"../datasets/adult-census-numeric-all.csv\")\n",
    "data.head()"
   ]
  },
  {
   "cell_type": "code",
   "execution_count": 115,
   "id": "0fcaecc8",
   "metadata": {},
   "outputs": [],
   "source": [
    "target_name = \"class\"\n",
    "X = data.drop(columns=target_name)\n",
    "y = data[target_name]"
   ]
  },
  {
   "cell_type": "markdown",
   "id": "82020403-826f-4384-a802-74083e3e464b",
   "metadata": {},
   "source": [
    "This dataset is linked to a classification task."
   ]
  },
  {
   "cell_type": "markdown",
   "id": "8f5b5501-c50d-4190-94d1-015f951e29a1",
   "metadata": {},
   "source": [
    "<div class=\"alert alert-success\">\n",
    "    <p><b>EXERCISE</b>:</p>\n",
    "    Fit a <tt>LogisticRegression</tt> algorithm without scaling the data first. In addition, force the maximum number of iteration of the solver to be at most 50 iterations. What is the result of the training?\n",
    "</div>"
   ]
  },
  {
   "cell_type": "code",
   "execution_count": 116,
   "id": "1e599906",
   "metadata": {},
   "outputs": [
    {
     "name": "stdout",
     "output_type": "stream",
     "text": [
      "Score: 0.7984604045532716, Number of iterations: 50\n"
     ]
    },
    {
     "name": "stderr",
     "output_type": "stream",
     "text": [
      "c:\\users\\parraua\\onedrive - danone\\documents\\github\\datascience_middle_course\\venv\\lib\\site-packages\\sklearn\\linear_model\\_logistic.py:818: ConvergenceWarning: lbfgs failed to converge (status=1):\n",
      "STOP: TOTAL NO. of ITERATIONS REACHED LIMIT.\n",
      "\n",
      "Increase the number of iterations (max_iter) or scale the data as shown in:\n",
      "    https://scikit-learn.org/stable/modules/preprocessing.html\n",
      "Please also refer to the documentation for alternative solver options:\n",
      "    https://scikit-learn.org/stable/modules/linear_model.html#logistic-regression\n",
      "  extra_warning_msg=_LOGISTIC_SOLVER_CONVERGENCE_MSG,\n"
     ]
    }
   ],
   "source": [
    "# %load solutions/solution_28.py\n",
    "X_train, X_test, y_train, y_test = train_test_split(\n",
    "    X, y, random_state=0\n",
    ")\n",
    "model = LogisticRegression(max_iter=50)\n",
    "model.fit(X_train, y_train)\n",
    "print(f\"Score: {model.score(X_test, y_test)}, Number of iterations: {model.n_iter_[0]}\")"
   ]
  },
  {
   "cell_type": "markdown",
   "id": "939c309f-a26e-46ab-b65d-1f993573f34f",
   "metadata": {},
   "source": [
    "<div class=\"alert alert-success\">\n",
    "    <p><b>EXERCISE</b>:</p>\n",
    "    Implement both proposals stipulated in the warning message and argument which option you should choose and why?\n",
    "</div>"
   ]
  },
  {
   "cell_type": "code",
   "execution_count": 121,
   "id": "1aaa5582",
   "metadata": {},
   "outputs": [
    {
     "name": "stdout",
     "output_type": "stream",
     "text": [
      "Score: 0.8117271312750799, Number of iterations: 99, Coef: [[4.18101880e-02 3.24228431e-01 3.19137305e-04 7.04396576e-04\n",
      "  4.04473958e-02]]\n"
     ]
    }
   ],
   "source": [
    "X_train, X_test, y_train, y_test = train_test_split(\n",
    "    X, y, random_state=0\n",
    ")\n",
    "model = LogisticRegression()\n",
    "model.fit(X_train, y_train)\n",
    "print(f\"Score: {model.score(X_test, y_test)}, Number of iterations: {model.n_iter_[0]}, Coef: {model.coef_}\")"
   ]
  },
  {
   "cell_type": "code",
   "execution_count": 122,
   "id": "fb7fe9ca",
   "metadata": {},
   "outputs": [
    {
     "name": "stdout",
     "output_type": "stream",
     "text": [
      "Score: 0.8118909180247318, Number of iterations: 13, Coef: [[0.57395652 0.83334868 2.34243327 0.28267731 0.50236507]]\n"
     ]
    }
   ],
   "source": [
    "model = make_pipeline(StandardScaler(), LogisticRegression())\n",
    "model.fit(X_train, y_train)\n",
    "print(f\"Score: {model.score(X_test, y_test)}, Number of iterations: {model[-1].n_iter_[0]}, Coef: {model[-1].coef_}\")"
   ]
  },
  {
   "cell_type": "code",
   "execution_count": null,
   "id": "796ef774",
   "metadata": {},
   "outputs": [],
   "source": [
    "# %load solutions/solution_29.py"
   ]
  },
  {
   "cell_type": "code",
   "execution_count": null,
   "id": "3638f984",
   "metadata": {},
   "outputs": [],
   "source": [
    "# %load solutions/solution_30.py"
   ]
  },
  {
   "cell_type": "code",
   "execution_count": null,
   "id": "9dda2212",
   "metadata": {},
   "outputs": [],
   "source": [
    "# %load solutions/solution_31.py"
   ]
  },
  {
   "cell_type": "code",
   "execution_count": null,
   "id": "948a4232",
   "metadata": {},
   "outputs": [],
   "source": [
    "# %load solutions/solution_32.py"
   ]
  },
  {
   "cell_type": "markdown",
   "id": "a343f2cc-dbe1-4de1-b335-f0172c6a3790",
   "metadata": {},
   "source": [
    "<div class=\"alert alert-success\">\n",
    "    <p><b>EXERCISE</b>:</p>\n",
    "    What is the impact of using a scaler on the coefficient?\n",
    "</div>"
   ]
  },
  {
   "cell_type": "code",
   "execution_count": null,
   "id": "dbeee109",
   "metadata": {},
   "outputs": [],
   "source": [
    "# %load solutions/solution_33.py"
   ]
  },
  {
   "cell_type": "code",
   "execution_count": null,
   "id": "28df6f95",
   "metadata": {},
   "outputs": [],
   "source": [
    "# %load solutions/solution_34.py"
   ]
  }
 ],
 "metadata": {
  "kernelspec": {
   "display_name": "Python 3 (ipykernel)",
   "language": "python",
   "name": "python3"
  },
  "language_info": {
   "codemirror_mode": {
    "name": "ipython",
    "version": 3
   },
   "file_extension": ".py",
   "mimetype": "text/x-python",
   "name": "python",
   "nbconvert_exporter": "python",
   "pygments_lexer": "ipython3",
   "version": "3.7.9"
  }
 },
 "nbformat": 4,
 "nbformat_minor": 5
}
