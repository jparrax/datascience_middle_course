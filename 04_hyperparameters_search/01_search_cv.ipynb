{
 "cells": [
  {
   "cell_type": "markdown",
   "id": "f353a938-5ce7-45a8-9e01-ef92a47c830f",
   "metadata": {},
   "source": [
    "# Hyperparameters search"
   ]
  },
  {
   "cell_type": "markdown",
   "id": "0fc9efc3-61a8-490c-a142-a98f74f121b8",
   "metadata": {},
   "source": [
    "In past notebooks, we pointing out that some models' parameters had an impact on the statistical performance of the models. Usually, we would like to optimize these parameters such that the model trained is as good as possible. This optimization is called hyperparameters tuning.\n",
    "\n",
    "In this notebook, we will show a couple of method allowing to tune models' hyperparameters."
   ]
  },
  {
   "cell_type": "markdown",
   "id": "526728e2-ccb2-41e1-af33-0c055bf47874",
   "metadata": {},
   "source": [
    "## Introductory example"
   ]
  },
  {
   "cell_type": "markdown",
   "id": "83dca106-3397-425b-ae63-4ef3ea665cfe",
   "metadata": {},
   "source": [
    "We will take an example that we showed in the linear model where we discussed the impact of the $\\alpha$ parameter on a `Ridge` model. Indeed, we mentioned that this parameter allows to regularize more or less the model. However, there is no general rule specifying what is a good $\\alpha$ value. Indeed, it would depend of the dataset.\n",
    "\n",
    "Let's load a dataset to tackle a regression problem."
   ]
  },
  {
   "cell_type": "code",
   "execution_count": 1,
   "id": "65c26f23-e66e-483f-a7a3-c4197964e0af",
   "metadata": {},
   "outputs": [
    {
     "data": {
      "text/html": [
       "<div>\n",
       "<style scoped>\n",
       "    .dataframe tbody tr th:only-of-type {\n",
       "        vertical-align: middle;\n",
       "    }\n",
       "\n",
       "    .dataframe tbody tr th {\n",
       "        vertical-align: top;\n",
       "    }\n",
       "\n",
       "    .dataframe thead th {\n",
       "        text-align: right;\n",
       "    }\n",
       "</style>\n",
       "<table border=\"1\" class=\"dataframe\">\n",
       "  <thead>\n",
       "    <tr style=\"text-align: right;\">\n",
       "      <th></th>\n",
       "      <th>MedInc</th>\n",
       "      <th>HouseAge</th>\n",
       "      <th>AveRooms</th>\n",
       "      <th>AveBedrms</th>\n",
       "      <th>Population</th>\n",
       "      <th>AveOccup</th>\n",
       "      <th>Latitude</th>\n",
       "      <th>Longitude</th>\n",
       "    </tr>\n",
       "  </thead>\n",
       "  <tbody>\n",
       "    <tr>\n",
       "      <th>0</th>\n",
       "      <td>8.3252</td>\n",
       "      <td>41.0</td>\n",
       "      <td>6.984127</td>\n",
       "      <td>1.023810</td>\n",
       "      <td>322.0</td>\n",
       "      <td>2.555556</td>\n",
       "      <td>37.88</td>\n",
       "      <td>-122.23</td>\n",
       "    </tr>\n",
       "    <tr>\n",
       "      <th>1</th>\n",
       "      <td>8.3014</td>\n",
       "      <td>21.0</td>\n",
       "      <td>6.238137</td>\n",
       "      <td>0.971880</td>\n",
       "      <td>2401.0</td>\n",
       "      <td>2.109842</td>\n",
       "      <td>37.86</td>\n",
       "      <td>-122.22</td>\n",
       "    </tr>\n",
       "    <tr>\n",
       "      <th>2</th>\n",
       "      <td>7.2574</td>\n",
       "      <td>52.0</td>\n",
       "      <td>8.288136</td>\n",
       "      <td>1.073446</td>\n",
       "      <td>496.0</td>\n",
       "      <td>2.802260</td>\n",
       "      <td>37.85</td>\n",
       "      <td>-122.24</td>\n",
       "    </tr>\n",
       "    <tr>\n",
       "      <th>3</th>\n",
       "      <td>5.6431</td>\n",
       "      <td>52.0</td>\n",
       "      <td>5.817352</td>\n",
       "      <td>1.073059</td>\n",
       "      <td>558.0</td>\n",
       "      <td>2.547945</td>\n",
       "      <td>37.85</td>\n",
       "      <td>-122.25</td>\n",
       "    </tr>\n",
       "    <tr>\n",
       "      <th>4</th>\n",
       "      <td>3.8462</td>\n",
       "      <td>52.0</td>\n",
       "      <td>6.281853</td>\n",
       "      <td>1.081081</td>\n",
       "      <td>565.0</td>\n",
       "      <td>2.181467</td>\n",
       "      <td>37.85</td>\n",
       "      <td>-122.25</td>\n",
       "    </tr>\n",
       "  </tbody>\n",
       "</table>\n",
       "</div>"
      ],
      "text/plain": [
       "   MedInc  HouseAge  AveRooms  AveBedrms  Population  AveOccup  Latitude  \\\n",
       "0  8.3252      41.0  6.984127   1.023810       322.0  2.555556     37.88   \n",
       "1  8.3014      21.0  6.238137   0.971880      2401.0  2.109842     37.86   \n",
       "2  7.2574      52.0  8.288136   1.073446       496.0  2.802260     37.85   \n",
       "3  5.6431      52.0  5.817352   1.073059       558.0  2.547945     37.85   \n",
       "4  3.8462      52.0  6.281853   1.081081       565.0  2.181467     37.85   \n",
       "\n",
       "   Longitude  \n",
       "0    -122.23  \n",
       "1    -122.22  \n",
       "2    -122.24  \n",
       "3    -122.25  \n",
       "4    -122.25  "
      ]
     },
     "execution_count": 1,
     "metadata": {},
     "output_type": "execute_result"
    }
   ],
   "source": [
    "from sklearn.datasets import fetch_california_housing\n",
    "\n",
    "X, y = fetch_california_housing(return_X_y=True, as_frame=True)\n",
    "X.head()"
   ]
  },
  {
   "cell_type": "code",
   "execution_count": 2,
   "id": "35b94e94-f729-4d83-9e20-94f1eba8040c",
   "metadata": {},
   "outputs": [
    {
     "data": {
      "text/plain": [
       "0    4.526\n",
       "1    3.585\n",
       "2    3.521\n",
       "3    3.413\n",
       "4    3.422\n",
       "Name: MedHouseVal, dtype: float64"
      ]
     },
     "execution_count": 2,
     "metadata": {},
     "output_type": "execute_result"
    }
   ],
   "source": [
    "y.head()"
   ]
  },
  {
   "cell_type": "markdown",
   "id": "3f213b42-7ec5-4202-937b-21be17dda280",
   "metadata": {},
   "source": [
    "Now, we will define a `Ridge` model where we will process the the data with add some interaction between features using a `PolynomialFeatures` transformer."
   ]
  },
  {
   "cell_type": "code",
   "execution_count": 3,
   "id": "2e4fa3f2-6653-43b3-b3cf-ba165e7e135e",
   "metadata": {},
   "outputs": [],
   "source": [
    "import sklearn\n",
    "\n",
    "sklearn.set_config(display=\"diagram\")"
   ]
  },
  {
   "cell_type": "code",
   "execution_count": 4,
   "id": "b41bd73c-3308-4241-ab34-a64aa7e234da",
   "metadata": {},
   "outputs": [
    {
     "data": {
      "text/html": [
       "<style>#sk-b72d7587-2cb0-4fcb-ae2e-42c16d2299c7 {color: black;background-color: white;}#sk-b72d7587-2cb0-4fcb-ae2e-42c16d2299c7 pre{padding: 0;}#sk-b72d7587-2cb0-4fcb-ae2e-42c16d2299c7 div.sk-toggleable {background-color: white;}#sk-b72d7587-2cb0-4fcb-ae2e-42c16d2299c7 label.sk-toggleable__label {cursor: pointer;display: block;width: 100%;margin-bottom: 0;padding: 0.3em;box-sizing: border-box;text-align: center;}#sk-b72d7587-2cb0-4fcb-ae2e-42c16d2299c7 label.sk-toggleable__label-arrow:before {content: \"▸\";float: left;margin-right: 0.25em;color: #696969;}#sk-b72d7587-2cb0-4fcb-ae2e-42c16d2299c7 label.sk-toggleable__label-arrow:hover:before {color: black;}#sk-b72d7587-2cb0-4fcb-ae2e-42c16d2299c7 div.sk-estimator:hover label.sk-toggleable__label-arrow:before {color: black;}#sk-b72d7587-2cb0-4fcb-ae2e-42c16d2299c7 div.sk-toggleable__content {max-height: 0;max-width: 0;overflow: hidden;text-align: left;background-color: #f0f8ff;}#sk-b72d7587-2cb0-4fcb-ae2e-42c16d2299c7 div.sk-toggleable__content pre {margin: 0.2em;color: black;border-radius: 0.25em;background-color: #f0f8ff;}#sk-b72d7587-2cb0-4fcb-ae2e-42c16d2299c7 input.sk-toggleable__control:checked~div.sk-toggleable__content {max-height: 200px;max-width: 100%;overflow: auto;}#sk-b72d7587-2cb0-4fcb-ae2e-42c16d2299c7 input.sk-toggleable__control:checked~label.sk-toggleable__label-arrow:before {content: \"▾\";}#sk-b72d7587-2cb0-4fcb-ae2e-42c16d2299c7 div.sk-estimator input.sk-toggleable__control:checked~label.sk-toggleable__label {background-color: #d4ebff;}#sk-b72d7587-2cb0-4fcb-ae2e-42c16d2299c7 div.sk-label input.sk-toggleable__control:checked~label.sk-toggleable__label {background-color: #d4ebff;}#sk-b72d7587-2cb0-4fcb-ae2e-42c16d2299c7 input.sk-hidden--visually {border: 0;clip: rect(1px 1px 1px 1px);clip: rect(1px, 1px, 1px, 1px);height: 1px;margin: -1px;overflow: hidden;padding: 0;position: absolute;width: 1px;}#sk-b72d7587-2cb0-4fcb-ae2e-42c16d2299c7 div.sk-estimator {font-family: monospace;background-color: #f0f8ff;border: 1px dotted black;border-radius: 0.25em;box-sizing: border-box;margin-bottom: 0.5em;}#sk-b72d7587-2cb0-4fcb-ae2e-42c16d2299c7 div.sk-estimator:hover {background-color: #d4ebff;}#sk-b72d7587-2cb0-4fcb-ae2e-42c16d2299c7 div.sk-parallel-item::after {content: \"\";width: 100%;border-bottom: 1px solid gray;flex-grow: 1;}#sk-b72d7587-2cb0-4fcb-ae2e-42c16d2299c7 div.sk-label:hover label.sk-toggleable__label {background-color: #d4ebff;}#sk-b72d7587-2cb0-4fcb-ae2e-42c16d2299c7 div.sk-serial::before {content: \"\";position: absolute;border-left: 1px solid gray;box-sizing: border-box;top: 2em;bottom: 0;left: 50%;}#sk-b72d7587-2cb0-4fcb-ae2e-42c16d2299c7 div.sk-serial {display: flex;flex-direction: column;align-items: center;background-color: white;padding-right: 0.2em;padding-left: 0.2em;}#sk-b72d7587-2cb0-4fcb-ae2e-42c16d2299c7 div.sk-item {z-index: 1;}#sk-b72d7587-2cb0-4fcb-ae2e-42c16d2299c7 div.sk-parallel {display: flex;align-items: stretch;justify-content: center;background-color: white;}#sk-b72d7587-2cb0-4fcb-ae2e-42c16d2299c7 div.sk-parallel::before {content: \"\";position: absolute;border-left: 1px solid gray;box-sizing: border-box;top: 2em;bottom: 0;left: 50%;}#sk-b72d7587-2cb0-4fcb-ae2e-42c16d2299c7 div.sk-parallel-item {display: flex;flex-direction: column;position: relative;background-color: white;}#sk-b72d7587-2cb0-4fcb-ae2e-42c16d2299c7 div.sk-parallel-item:first-child::after {align-self: flex-end;width: 50%;}#sk-b72d7587-2cb0-4fcb-ae2e-42c16d2299c7 div.sk-parallel-item:last-child::after {align-self: flex-start;width: 50%;}#sk-b72d7587-2cb0-4fcb-ae2e-42c16d2299c7 div.sk-parallel-item:only-child::after {width: 0;}#sk-b72d7587-2cb0-4fcb-ae2e-42c16d2299c7 div.sk-dashed-wrapped {border: 1px dashed gray;margin: 0 0.4em 0.5em 0.4em;box-sizing: border-box;padding-bottom: 0.4em;background-color: white;position: relative;}#sk-b72d7587-2cb0-4fcb-ae2e-42c16d2299c7 div.sk-label label {font-family: monospace;font-weight: bold;background-color: white;display: inline-block;line-height: 1.2em;}#sk-b72d7587-2cb0-4fcb-ae2e-42c16d2299c7 div.sk-label-container {position: relative;z-index: 2;text-align: center;}#sk-b72d7587-2cb0-4fcb-ae2e-42c16d2299c7 div.sk-container {/* jupyter's `normalize.less` sets `[hidden] { display: none; }` but bootstrap.min.css set `[hidden] { display: none !important; }` so we also need the `!important` here to be able to override the default hidden behavior on the sphinx rendered scikit-learn.org. See: https://github.com/scikit-learn/scikit-learn/issues/21755 */display: inline-block !important;position: relative;}#sk-b72d7587-2cb0-4fcb-ae2e-42c16d2299c7 div.sk-text-repr-fallback {display: none;}</style><div id=\"sk-b72d7587-2cb0-4fcb-ae2e-42c16d2299c7\" class=\"sk-top-container\"><div class=\"sk-text-repr-fallback\"><pre>Pipeline(steps=[(&#x27;polynomialfeatures&#x27;, PolynomialFeatures()),\n",
       "                (&#x27;standardscaler&#x27;, StandardScaler()), (&#x27;ridge&#x27;, Ridge())])</pre><b>Please rerun this cell to show the HTML repr or trust the notebook.</b></div><div class=\"sk-container\" hidden><div class=\"sk-item sk-dashed-wrapped\"><div class=\"sk-label-container\"><div class=\"sk-label sk-toggleable\"><input class=\"sk-toggleable__control sk-hidden--visually\" id=\"403325b3-c9eb-480a-92c6-6ee5e2e28dd5\" type=\"checkbox\" ><label for=\"403325b3-c9eb-480a-92c6-6ee5e2e28dd5\" class=\"sk-toggleable__label sk-toggleable__label-arrow\">Pipeline</label><div class=\"sk-toggleable__content\"><pre>Pipeline(steps=[(&#x27;polynomialfeatures&#x27;, PolynomialFeatures()),\n",
       "                (&#x27;standardscaler&#x27;, StandardScaler()), (&#x27;ridge&#x27;, Ridge())])</pre></div></div></div><div class=\"sk-serial\"><div class=\"sk-item\"><div class=\"sk-estimator sk-toggleable\"><input class=\"sk-toggleable__control sk-hidden--visually\" id=\"07b0672b-fd5e-4cfb-852e-bbc71e566848\" type=\"checkbox\" ><label for=\"07b0672b-fd5e-4cfb-852e-bbc71e566848\" class=\"sk-toggleable__label sk-toggleable__label-arrow\">PolynomialFeatures</label><div class=\"sk-toggleable__content\"><pre>PolynomialFeatures()</pre></div></div></div><div class=\"sk-item\"><div class=\"sk-estimator sk-toggleable\"><input class=\"sk-toggleable__control sk-hidden--visually\" id=\"9cd65200-1230-46f7-a7e7-a78a7e9a7ad8\" type=\"checkbox\" ><label for=\"9cd65200-1230-46f7-a7e7-a78a7e9a7ad8\" class=\"sk-toggleable__label sk-toggleable__label-arrow\">StandardScaler</label><div class=\"sk-toggleable__content\"><pre>StandardScaler()</pre></div></div></div><div class=\"sk-item\"><div class=\"sk-estimator sk-toggleable\"><input class=\"sk-toggleable__control sk-hidden--visually\" id=\"61999ea0-3d73-4df5-b0fe-6deeed091481\" type=\"checkbox\" ><label for=\"61999ea0-3d73-4df5-b0fe-6deeed091481\" class=\"sk-toggleable__label sk-toggleable__label-arrow\">Ridge</label><div class=\"sk-toggleable__content\"><pre>Ridge()</pre></div></div></div></div></div></div></div>"
      ],
      "text/plain": [
       "Pipeline(steps=[('polynomialfeatures', PolynomialFeatures()),\n",
       "                ('standardscaler', StandardScaler()), ('ridge', Ridge())])"
      ]
     },
     "execution_count": 4,
     "metadata": {},
     "output_type": "execute_result"
    }
   ],
   "source": [
    "from sklearn.preprocessing import StandardScaler\n",
    "from sklearn.preprocessing import PolynomialFeatures\n",
    "from sklearn.linear_model import Ridge\n",
    "from sklearn.pipeline import make_pipeline\n",
    "\n",
    "model = make_pipeline(\n",
    "    PolynomialFeatures(),\n",
    "    StandardScaler(),\n",
    "    Ridge(),\n",
    ")\n",
    "model"
   ]
  },
  {
   "cell_type": "markdown",
   "id": "7acb5a05-cdcf-4fdb-aa93-c65364a82491",
   "metadata": {},
   "source": [
    "However, we did not change any of the default parameters given by scikit-learn. Let's evaluate this vanilla model."
   ]
  },
  {
   "cell_type": "code",
   "execution_count": 5,
   "id": "6ca3d195-33bc-43e0-9743-fd089513207f",
   "metadata": {},
   "outputs": [],
   "source": [
    "import pandas as pd\n",
    "from sklearn.model_selection import cross_validate\n",
    "\n",
    "cv_results = cross_validate(model, X, y)\n",
    "cv_results = pd.DataFrame(cv_results)"
   ]
  },
  {
   "cell_type": "code",
   "execution_count": 6,
   "id": "81d27f41-84d5-4c83-8fb7-a294552277c4",
   "metadata": {},
   "outputs": [
    {
     "data": {
      "text/html": [
       "<div>\n",
       "<style scoped>\n",
       "    .dataframe tbody tr th:only-of-type {\n",
       "        vertical-align: middle;\n",
       "    }\n",
       "\n",
       "    .dataframe tbody tr th {\n",
       "        vertical-align: top;\n",
       "    }\n",
       "\n",
       "    .dataframe thead th {\n",
       "        text-align: right;\n",
       "    }\n",
       "</style>\n",
       "<table border=\"1\" class=\"dataframe\">\n",
       "  <thead>\n",
       "    <tr style=\"text-align: right;\">\n",
       "      <th></th>\n",
       "      <th>fit_time</th>\n",
       "      <th>score_time</th>\n",
       "      <th>test_score</th>\n",
       "    </tr>\n",
       "  </thead>\n",
       "  <tbody>\n",
       "    <tr>\n",
       "      <th>0</th>\n",
       "      <td>0.132578</td>\n",
       "      <td>0.018565</td>\n",
       "      <td>0.467650</td>\n",
       "    </tr>\n",
       "    <tr>\n",
       "      <th>1</th>\n",
       "      <td>0.099072</td>\n",
       "      <td>0.007991</td>\n",
       "      <td>0.552113</td>\n",
       "    </tr>\n",
       "    <tr>\n",
       "      <th>2</th>\n",
       "      <td>0.086675</td>\n",
       "      <td>0.014852</td>\n",
       "      <td>0.579568</td>\n",
       "    </tr>\n",
       "    <tr>\n",
       "      <th>3</th>\n",
       "      <td>0.095193</td>\n",
       "      <td>0.009836</td>\n",
       "      <td>0.500778</td>\n",
       "    </tr>\n",
       "    <tr>\n",
       "      <th>4</th>\n",
       "      <td>0.052034</td>\n",
       "      <td>0.006014</td>\n",
       "      <td>-4.211175</td>\n",
       "    </tr>\n",
       "  </tbody>\n",
       "</table>\n",
       "</div>"
      ],
      "text/plain": [
       "   fit_time  score_time  test_score\n",
       "0  0.132578    0.018565    0.467650\n",
       "1  0.099072    0.007991    0.552113\n",
       "2  0.086675    0.014852    0.579568\n",
       "3  0.095193    0.009836    0.500778\n",
       "4  0.052034    0.006014   -4.211175"
      ]
     },
     "execution_count": 6,
     "metadata": {},
     "output_type": "execute_result"
    }
   ],
   "source": [
    "cv_results"
   ]
  },
  {
   "cell_type": "code",
   "execution_count": 7,
   "id": "64e65bbb-47c9-4221-ae83-986b60525a53",
   "metadata": {},
   "outputs": [
    {
     "data": {
      "text/html": [
       "<div>\n",
       "<style scoped>\n",
       "    .dataframe tbody tr th:only-of-type {\n",
       "        vertical-align: middle;\n",
       "    }\n",
       "\n",
       "    .dataframe tbody tr th {\n",
       "        vertical-align: top;\n",
       "    }\n",
       "\n",
       "    .dataframe thead th {\n",
       "        text-align: right;\n",
       "    }\n",
       "</style>\n",
       "<table border=\"1\" class=\"dataframe\">\n",
       "  <thead>\n",
       "    <tr style=\"text-align: right;\">\n",
       "      <th></th>\n",
       "      <th>fit_time</th>\n",
       "      <th>score_time</th>\n",
       "      <th>test_score</th>\n",
       "    </tr>\n",
       "  </thead>\n",
       "  <tbody>\n",
       "    <tr>\n",
       "      <th>mean</th>\n",
       "      <td>0.093110</td>\n",
       "      <td>0.011451</td>\n",
       "      <td>-0.422213</td>\n",
       "    </tr>\n",
       "    <tr>\n",
       "      <th>std</th>\n",
       "      <td>0.028837</td>\n",
       "      <td>0.005156</td>\n",
       "      <td>2.118542</td>\n",
       "    </tr>\n",
       "  </tbody>\n",
       "</table>\n",
       "</div>"
      ],
      "text/plain": [
       "      fit_time  score_time  test_score\n",
       "mean  0.093110    0.011451   -0.422213\n",
       "std   0.028837    0.005156    2.118542"
      ]
     },
     "execution_count": 7,
     "metadata": {},
     "output_type": "execute_result"
    }
   ],
   "source": [
    "cv_results.aggregate([\"mean\", \"std\"])"
   ]
  },
  {
   "cell_type": "markdown",
   "id": "ce666b9e-b85f-44fc-80b2-2ceb20e57b21",
   "metadata": {},
   "source": [
    "At this stage, there is nothing to tell use that our pipeline is the best pipeline that we could get. Indeed, we could imagine that the degree of the `PolynomialFeatures` could be higher or that the `Ridge` regressor should be more regularized. Let's check which parameters we could tune with the model:"
   ]
  },
  {
   "cell_type": "code",
   "execution_count": 8,
   "id": "e6bc027b-ed16-416a-b75e-ca8aa8885bce",
   "metadata": {},
   "outputs": [
    {
     "name": "stdout",
     "output_type": "stream",
     "text": [
      "memory\n",
      "steps\n",
      "verbose\n",
      "polynomialfeatures\n",
      "standardscaler\n",
      "ridge\n",
      "polynomialfeatures__degree\n",
      "polynomialfeatures__include_bias\n",
      "polynomialfeatures__interaction_only\n",
      "polynomialfeatures__order\n",
      "standardscaler__copy\n",
      "standardscaler__with_mean\n",
      "standardscaler__with_std\n",
      "ridge__alpha\n",
      "ridge__copy_X\n",
      "ridge__fit_intercept\n",
      "ridge__max_iter\n",
      "ridge__normalize\n",
      "ridge__positive\n",
      "ridge__random_state\n",
      "ridge__solver\n",
      "ridge__tol\n"
     ]
    }
   ],
   "source": [
    "for params in model.get_params():\n",
    "    print(params)"
   ]
  },
  {
   "cell_type": "markdown",
   "id": "7cacf736-8ea1-4735-a32b-40697ded7a59",
   "metadata": {},
   "source": [
    "Two important parameters of this model are `polynomialfeatures__degree` and `ridge__alpha`. We will try to find the optimal values of these parameters for the current dataset."
   ]
  },
  {
   "cell_type": "markdown",
   "id": "8945a302-ec4c-452e-976f-fe35f1803eb0",
   "metadata": {},
   "source": [
    "## Manual hyperparameters search"
   ]
  },
  {
   "cell_type": "markdown",
   "id": "57597d0d-981b-4e77-9067-a8bb5c093a56",
   "metadata": {},
   "source": [
    "Before to show the automated tools allowing to make hyperparameters tuning in scikit-learn, we will manually make our own manual simplified version."
   ]
  },
  {
   "cell_type": "markdown",
   "id": "6e5764ea-9cbc-40ce-bf96-6aaa5091e2e6",
   "metadata": {},
   "source": [
    "<div class=\"alert alert-success\">\n",
    "    <b>EXERCISE</b>:\n",
    "    <ul>\n",
    "        <li>Split the dataset into a training and testing set.</li>\n",
    "        <li>Make a nested <tt>for</tt> loop to try all the possible parameters combination that we defined in <tt>parameter_grid</tt>.</li>\n",
    "        <li>In the internal loop, use a cross-validation (using <tt>cross_val_score</tt>) on the training set to get a distribution of score.</li>\n",
    "        <li>Compute the mean and standard deviation of the cross-validation score and pick-up the best set of hyperparameters.</li>\n",
    "        <li>Retrain a model with the combination of the best hyperparameters and evalute it on the testing set.</li>\n",
    "    </ul>\n",
    "</div>"
   ]
  },
  {
   "cell_type": "code",
   "execution_count": 13,
   "id": "a45d7c13",
   "metadata": {},
   "outputs": [],
   "source": [
    "from sklearn.model_selection import train_test_split\n",
    "\n",
    "X_train, X_test, y_train, y_test = train_test_split(\n",
    "    X, y, random_state=0\n",
    ")"
   ]
  },
  {
   "cell_type": "code",
   "execution_count": 14,
   "id": "ba2c1fb2-ea56-4157-b953-b4dca41e0364",
   "metadata": {},
   "outputs": [],
   "source": [
    "# %load solutions/solution_01.py\n",
    "import numpy as np\n",
    "\n",
    "parameter_grid = {\n",
    "    \"polynomialfeatures__degree\": np.arange(2, 5),\n",
    "    \"ridge__alpha\": np.logspace(1, 3, num=5),\n",
    "}\n"
   ]
  },
  {
   "cell_type": "code",
   "execution_count": 20,
   "id": "c8a35e5f",
   "metadata": {},
   "outputs": [
    {
     "name": "stdout",
     "output_type": "stream",
     "text": [
      "0.615069268592654\n",
      "{'polynomialfeatures__degree': 2, 'ridge__alpha': 316.22776601683796}\n"
     ]
    }
   ],
   "source": [
    "models_results = []\n",
    "best_score = 0.0\n",
    "best_params = {}\n",
    "for polynomialfeatures__degree in parameter_grid[\"polynomialfeatures__degree\"]:\n",
    "    for ridge__alpha in parameter_grid[\"ridge__alpha\"]:\n",
    "        model.set_params(\n",
    "            polynomialfeatures__degree = polynomialfeatures__degree,\n",
    "            ridge__alpha = ridge__alpha\n",
    "        )\n",
    "        cv_results = cross_validate(model, X_train, y_train)\n",
    "        cv_results = pd.DataFrame(cv_results)\n",
    "        cv_results = cv_results.aggregate([\"mean\", \"std\"])\n",
    "        score = cv_results[\"test_score\"][0]\n",
    "        if score > best_score:\n",
    "            best_score = score\n",
    "            best_params = {\n",
    "                \"polynomialfeatures__degree\": polynomialfeatures__degree,\n",
    "                \"ridge__alpha\": ridge__alpha\n",
    "            }\n",
    "print(best_score)\n",
    "print(best_params)"
   ]
  },
  {
   "cell_type": "code",
   "execution_count": 21,
   "id": "9a473ea4-1301-4526-9e77-7623a3e16970",
   "metadata": {},
   "outputs": [],
   "source": [
    "# %load solutions/solution_02.py"
   ]
  },
  {
   "cell_type": "code",
   "execution_count": 22,
   "id": "1ab328fd-04dd-4c8c-8c07-8c4f99b2afb3",
   "metadata": {},
   "outputs": [],
   "source": [
    "# %load solutions/solution_03.py"
   ]
  },
  {
   "cell_type": "code",
   "execution_count": 23,
   "id": "366d421e-6f19-4e46-8f5d-cc8db77c509e",
   "metadata": {},
   "outputs": [],
   "source": [
    "# %load solutions/solution_04.py"
   ]
  },
  {
   "cell_type": "code",
   "execution_count": 24,
   "id": "a4cfb449-6d7e-40fa-a7ec-208600ac086f",
   "metadata": {},
   "outputs": [],
   "source": [
    "# %load solutions/solution_05.py"
   ]
  },
  {
   "cell_type": "code",
   "execution_count": 25,
   "id": "b7038eff-1314-45b9-b868-512a190c381d",
   "metadata": {},
   "outputs": [],
   "source": [
    "# %load solutions/solution_06.py"
   ]
  },
  {
   "cell_type": "code",
   "execution_count": 26,
   "id": "4e5907a6-d3fb-4f36-9839-891a3e339a98",
   "metadata": {},
   "outputs": [],
   "source": [
    "# %load solutions/solution_07.py"
   ]
  },
  {
   "cell_type": "markdown",
   "id": "31c99c28-3d95-499c-987c-ed12e7831ec1",
   "metadata": {},
   "source": [
    "## Hyperparameters search using a grid"
   ]
  },
  {
   "cell_type": "markdown",
   "id": "8a21ee24-e089-480b-b289-313de45b2733",
   "metadata": {},
   "source": [
    "The search that we performed manually is indeed known as a grid-search: we try every possible combination of the parameter that we first provided. Scikit-learn provides a specific estimator that will make the processing that we did previously: during `fit`, it will perform a cross-validation and pick the optimal hyperparameters using cross-validation."
   ]
  },
  {
   "cell_type": "code",
   "execution_count": 27,
   "id": "da7722ca-c287-4940-9074-c7c7b34d049e",
   "metadata": {},
   "outputs": [
    {
     "data": {
      "text/html": [
       "<style>#sk-5cf5d9f2-99bf-4ba4-84d4-ce2f8cfd4af3 {color: black;background-color: white;}#sk-5cf5d9f2-99bf-4ba4-84d4-ce2f8cfd4af3 pre{padding: 0;}#sk-5cf5d9f2-99bf-4ba4-84d4-ce2f8cfd4af3 div.sk-toggleable {background-color: white;}#sk-5cf5d9f2-99bf-4ba4-84d4-ce2f8cfd4af3 label.sk-toggleable__label {cursor: pointer;display: block;width: 100%;margin-bottom: 0;padding: 0.3em;box-sizing: border-box;text-align: center;}#sk-5cf5d9f2-99bf-4ba4-84d4-ce2f8cfd4af3 label.sk-toggleable__label-arrow:before {content: \"▸\";float: left;margin-right: 0.25em;color: #696969;}#sk-5cf5d9f2-99bf-4ba4-84d4-ce2f8cfd4af3 label.sk-toggleable__label-arrow:hover:before {color: black;}#sk-5cf5d9f2-99bf-4ba4-84d4-ce2f8cfd4af3 div.sk-estimator:hover label.sk-toggleable__label-arrow:before {color: black;}#sk-5cf5d9f2-99bf-4ba4-84d4-ce2f8cfd4af3 div.sk-toggleable__content {max-height: 0;max-width: 0;overflow: hidden;text-align: left;background-color: #f0f8ff;}#sk-5cf5d9f2-99bf-4ba4-84d4-ce2f8cfd4af3 div.sk-toggleable__content pre {margin: 0.2em;color: black;border-radius: 0.25em;background-color: #f0f8ff;}#sk-5cf5d9f2-99bf-4ba4-84d4-ce2f8cfd4af3 input.sk-toggleable__control:checked~div.sk-toggleable__content {max-height: 200px;max-width: 100%;overflow: auto;}#sk-5cf5d9f2-99bf-4ba4-84d4-ce2f8cfd4af3 input.sk-toggleable__control:checked~label.sk-toggleable__label-arrow:before {content: \"▾\";}#sk-5cf5d9f2-99bf-4ba4-84d4-ce2f8cfd4af3 div.sk-estimator input.sk-toggleable__control:checked~label.sk-toggleable__label {background-color: #d4ebff;}#sk-5cf5d9f2-99bf-4ba4-84d4-ce2f8cfd4af3 div.sk-label input.sk-toggleable__control:checked~label.sk-toggleable__label {background-color: #d4ebff;}#sk-5cf5d9f2-99bf-4ba4-84d4-ce2f8cfd4af3 input.sk-hidden--visually {border: 0;clip: rect(1px 1px 1px 1px);clip: rect(1px, 1px, 1px, 1px);height: 1px;margin: -1px;overflow: hidden;padding: 0;position: absolute;width: 1px;}#sk-5cf5d9f2-99bf-4ba4-84d4-ce2f8cfd4af3 div.sk-estimator {font-family: monospace;background-color: #f0f8ff;border: 1px dotted black;border-radius: 0.25em;box-sizing: border-box;margin-bottom: 0.5em;}#sk-5cf5d9f2-99bf-4ba4-84d4-ce2f8cfd4af3 div.sk-estimator:hover {background-color: #d4ebff;}#sk-5cf5d9f2-99bf-4ba4-84d4-ce2f8cfd4af3 div.sk-parallel-item::after {content: \"\";width: 100%;border-bottom: 1px solid gray;flex-grow: 1;}#sk-5cf5d9f2-99bf-4ba4-84d4-ce2f8cfd4af3 div.sk-label:hover label.sk-toggleable__label {background-color: #d4ebff;}#sk-5cf5d9f2-99bf-4ba4-84d4-ce2f8cfd4af3 div.sk-serial::before {content: \"\";position: absolute;border-left: 1px solid gray;box-sizing: border-box;top: 2em;bottom: 0;left: 50%;}#sk-5cf5d9f2-99bf-4ba4-84d4-ce2f8cfd4af3 div.sk-serial {display: flex;flex-direction: column;align-items: center;background-color: white;padding-right: 0.2em;padding-left: 0.2em;}#sk-5cf5d9f2-99bf-4ba4-84d4-ce2f8cfd4af3 div.sk-item {z-index: 1;}#sk-5cf5d9f2-99bf-4ba4-84d4-ce2f8cfd4af3 div.sk-parallel {display: flex;align-items: stretch;justify-content: center;background-color: white;}#sk-5cf5d9f2-99bf-4ba4-84d4-ce2f8cfd4af3 div.sk-parallel::before {content: \"\";position: absolute;border-left: 1px solid gray;box-sizing: border-box;top: 2em;bottom: 0;left: 50%;}#sk-5cf5d9f2-99bf-4ba4-84d4-ce2f8cfd4af3 div.sk-parallel-item {display: flex;flex-direction: column;position: relative;background-color: white;}#sk-5cf5d9f2-99bf-4ba4-84d4-ce2f8cfd4af3 div.sk-parallel-item:first-child::after {align-self: flex-end;width: 50%;}#sk-5cf5d9f2-99bf-4ba4-84d4-ce2f8cfd4af3 div.sk-parallel-item:last-child::after {align-self: flex-start;width: 50%;}#sk-5cf5d9f2-99bf-4ba4-84d4-ce2f8cfd4af3 div.sk-parallel-item:only-child::after {width: 0;}#sk-5cf5d9f2-99bf-4ba4-84d4-ce2f8cfd4af3 div.sk-dashed-wrapped {border: 1px dashed gray;margin: 0 0.4em 0.5em 0.4em;box-sizing: border-box;padding-bottom: 0.4em;background-color: white;position: relative;}#sk-5cf5d9f2-99bf-4ba4-84d4-ce2f8cfd4af3 div.sk-label label {font-family: monospace;font-weight: bold;background-color: white;display: inline-block;line-height: 1.2em;}#sk-5cf5d9f2-99bf-4ba4-84d4-ce2f8cfd4af3 div.sk-label-container {position: relative;z-index: 2;text-align: center;}#sk-5cf5d9f2-99bf-4ba4-84d4-ce2f8cfd4af3 div.sk-container {/* jupyter's `normalize.less` sets `[hidden] { display: none; }` but bootstrap.min.css set `[hidden] { display: none !important; }` so we also need the `!important` here to be able to override the default hidden behavior on the sphinx rendered scikit-learn.org. See: https://github.com/scikit-learn/scikit-learn/issues/21755 */display: inline-block !important;position: relative;}#sk-5cf5d9f2-99bf-4ba4-84d4-ce2f8cfd4af3 div.sk-text-repr-fallback {display: none;}</style><div id=\"sk-5cf5d9f2-99bf-4ba4-84d4-ce2f8cfd4af3\" class=\"sk-top-container\"><div class=\"sk-text-repr-fallback\"><pre>GridSearchCV(estimator=Pipeline(steps=[(&#x27;polynomialfeatures&#x27;,\n",
       "                                        PolynomialFeatures(degree=4)),\n",
       "                                       (&#x27;standardscaler&#x27;, StandardScaler()),\n",
       "                                       (&#x27;ridge&#x27;, Ridge(alpha=1000.0))]),\n",
       "             param_grid={&#x27;polynomialfeatures__degree&#x27;: array([2, 3, 4]),\n",
       "                         &#x27;ridge__alpha&#x27;: array([  10.        ,   31.6227766 ,  100.        ,  316.22776602,\n",
       "       1000.        ])})</pre><b>Please rerun this cell to show the HTML repr or trust the notebook.</b></div><div class=\"sk-container\" hidden><div class=\"sk-item sk-dashed-wrapped\"><div class=\"sk-label-container\"><div class=\"sk-label sk-toggleable\"><input class=\"sk-toggleable__control sk-hidden--visually\" id=\"525a5198-4fe3-4b38-a4b5-7caa084e96b5\" type=\"checkbox\" ><label for=\"525a5198-4fe3-4b38-a4b5-7caa084e96b5\" class=\"sk-toggleable__label sk-toggleable__label-arrow\">GridSearchCV</label><div class=\"sk-toggleable__content\"><pre>GridSearchCV(estimator=Pipeline(steps=[(&#x27;polynomialfeatures&#x27;,\n",
       "                                        PolynomialFeatures(degree=4)),\n",
       "                                       (&#x27;standardscaler&#x27;, StandardScaler()),\n",
       "                                       (&#x27;ridge&#x27;, Ridge(alpha=1000.0))]),\n",
       "             param_grid={&#x27;polynomialfeatures__degree&#x27;: array([2, 3, 4]),\n",
       "                         &#x27;ridge__alpha&#x27;: array([  10.        ,   31.6227766 ,  100.        ,  316.22776602,\n",
       "       1000.        ])})</pre></div></div></div><div class=\"sk-parallel\"><div class=\"sk-parallel-item\"><div class=\"sk-item\"><div class=\"sk-serial\"><div class=\"sk-item\"><div class=\"sk-serial\"><div class=\"sk-item\"><div class=\"sk-estimator sk-toggleable\"><input class=\"sk-toggleable__control sk-hidden--visually\" id=\"dda9df5f-ded2-4cc6-bce5-d29805f8bfc5\" type=\"checkbox\" ><label for=\"dda9df5f-ded2-4cc6-bce5-d29805f8bfc5\" class=\"sk-toggleable__label sk-toggleable__label-arrow\">PolynomialFeatures</label><div class=\"sk-toggleable__content\"><pre>PolynomialFeatures(degree=4)</pre></div></div></div><div class=\"sk-item\"><div class=\"sk-estimator sk-toggleable\"><input class=\"sk-toggleable__control sk-hidden--visually\" id=\"0e870dd6-fbf4-4c46-a412-905c4ffb7ffc\" type=\"checkbox\" ><label for=\"0e870dd6-fbf4-4c46-a412-905c4ffb7ffc\" class=\"sk-toggleable__label sk-toggleable__label-arrow\">StandardScaler</label><div class=\"sk-toggleable__content\"><pre>StandardScaler()</pre></div></div></div><div class=\"sk-item\"><div class=\"sk-estimator sk-toggleable\"><input class=\"sk-toggleable__control sk-hidden--visually\" id=\"9f752691-de19-4c7a-ab05-60e0b6cf0baf\" type=\"checkbox\" ><label for=\"9f752691-de19-4c7a-ab05-60e0b6cf0baf\" class=\"sk-toggleable__label sk-toggleable__label-arrow\">Ridge</label><div class=\"sk-toggleable__content\"><pre>Ridge(alpha=1000.0)</pre></div></div></div></div></div></div></div></div></div></div></div></div>"
      ],
      "text/plain": [
       "GridSearchCV(estimator=Pipeline(steps=[('polynomialfeatures',\n",
       "                                        PolynomialFeatures(degree=4)),\n",
       "                                       ('standardscaler', StandardScaler()),\n",
       "                                       ('ridge', Ridge(alpha=1000.0))]),\n",
       "             param_grid={'polynomialfeatures__degree': array([2, 3, 4]),\n",
       "                         'ridge__alpha': array([  10.        ,   31.6227766 ,  100.        ,  316.22776602,\n",
       "       1000.        ])})"
      ]
     },
     "execution_count": 27,
     "metadata": {},
     "output_type": "execute_result"
    }
   ],
   "source": [
    "from sklearn.model_selection import GridSearchCV\n",
    "\n",
    "search_cv = GridSearchCV(model, param_grid=parameter_grid)\n",
    "search_cv.fit(X_train, y_train)"
   ]
  },
  {
   "cell_type": "markdown",
   "id": "b4c5af3d-3a38-46c8-ae1a-bcc9bcaf8d65",
   "metadata": {},
   "source": [
    "We can get the best found parameters by looking at the fitted attributes `best_params_`:"
   ]
  },
  {
   "cell_type": "code",
   "execution_count": 28,
   "id": "b09b1a28-1dfc-4183-8db5-ec7ab1d0bc70",
   "metadata": {},
   "outputs": [
    {
     "data": {
      "text/plain": [
       "{'polynomialfeatures__degree': 2, 'ridge__alpha': 316.22776601683796}"
      ]
     },
     "execution_count": 28,
     "metadata": {},
     "output_type": "execute_result"
    }
   ],
   "source": [
    "search_cv.best_params_"
   ]
  },
  {
   "cell_type": "markdown",
   "id": "f8e2bcc0-89c4-489c-8d4f-20dab7c664cb",
   "metadata": {},
   "source": [
    "We can even get more information regarding the different combinations of hyperparameters tried during `fit` by looking at the fitted attribute `cv_results_`:"
   ]
  },
  {
   "cell_type": "code",
   "execution_count": 29,
   "id": "3df9069f-875f-4c41-b290-ee49a84642b6",
   "metadata": {},
   "outputs": [
    {
     "data": {
      "text/html": [
       "<div>\n",
       "<style scoped>\n",
       "    .dataframe tbody tr th:only-of-type {\n",
       "        vertical-align: middle;\n",
       "    }\n",
       "\n",
       "    .dataframe tbody tr th {\n",
       "        vertical-align: top;\n",
       "    }\n",
       "\n",
       "    .dataframe thead th {\n",
       "        text-align: right;\n",
       "    }\n",
       "</style>\n",
       "<table border=\"1\" class=\"dataframe\">\n",
       "  <thead>\n",
       "    <tr style=\"text-align: right;\">\n",
       "      <th></th>\n",
       "      <th>mean_fit_time</th>\n",
       "      <th>std_fit_time</th>\n",
       "      <th>mean_score_time</th>\n",
       "      <th>std_score_time</th>\n",
       "      <th>param_polynomialfeatures__degree</th>\n",
       "      <th>param_ridge__alpha</th>\n",
       "      <th>params</th>\n",
       "      <th>split0_test_score</th>\n",
       "      <th>split1_test_score</th>\n",
       "      <th>split2_test_score</th>\n",
       "      <th>split3_test_score</th>\n",
       "      <th>split4_test_score</th>\n",
       "      <th>mean_test_score</th>\n",
       "      <th>std_test_score</th>\n",
       "      <th>rank_test_score</th>\n",
       "    </tr>\n",
       "  </thead>\n",
       "  <tbody>\n",
       "    <tr>\n",
       "      <th>0</th>\n",
       "      <td>0.059990</td>\n",
       "      <td>0.007550</td>\n",
       "      <td>0.010683</td>\n",
       "      <td>0.001497</td>\n",
       "      <td>2</td>\n",
       "      <td>10.0</td>\n",
       "      <td>{'polynomialfeatures__degree': 2, 'ridge__alph...</td>\n",
       "      <td>0.655806</td>\n",
       "      <td>0.528570</td>\n",
       "      <td>0.362651</td>\n",
       "      <td>0.653063</td>\n",
       "      <td>0.665514</td>\n",
       "      <td>0.573121</td>\n",
       "      <td>0.116659</td>\n",
       "      <td>7</td>\n",
       "    </tr>\n",
       "    <tr>\n",
       "      <th>1</th>\n",
       "      <td>0.088141</td>\n",
       "      <td>0.021528</td>\n",
       "      <td>0.015566</td>\n",
       "      <td>0.006488</td>\n",
       "      <td>2</td>\n",
       "      <td>31.622777</td>\n",
       "      <td>{'polynomialfeatures__degree': 2, 'ridge__alph...</td>\n",
       "      <td>0.657668</td>\n",
       "      <td>0.565873</td>\n",
       "      <td>0.422209</td>\n",
       "      <td>0.654168</td>\n",
       "      <td>0.662040</td>\n",
       "      <td>0.592392</td>\n",
       "      <td>0.092297</td>\n",
       "      <td>5</td>\n",
       "    </tr>\n",
       "    <tr>\n",
       "      <th>2</th>\n",
       "      <td>0.081634</td>\n",
       "      <td>0.027884</td>\n",
       "      <td>0.009451</td>\n",
       "      <td>0.002830</td>\n",
       "      <td>2</td>\n",
       "      <td>100.0</td>\n",
       "      <td>{'polynomialfeatures__degree': 2, 'ridge__alph...</td>\n",
       "      <td>0.639703</td>\n",
       "      <td>0.604569</td>\n",
       "      <td>0.494025</td>\n",
       "      <td>0.665001</td>\n",
       "      <td>0.655253</td>\n",
       "      <td>0.611710</td>\n",
       "      <td>0.062322</td>\n",
       "      <td>3</td>\n",
       "    </tr>\n",
       "    <tr>\n",
       "      <th>3</th>\n",
       "      <td>0.062829</td>\n",
       "      <td>0.008676</td>\n",
       "      <td>0.009173</td>\n",
       "      <td>0.001300</td>\n",
       "      <td>2</td>\n",
       "      <td>316.227766</td>\n",
       "      <td>{'polynomialfeatures__degree': 2, 'ridge__alph...</td>\n",
       "      <td>0.601179</td>\n",
       "      <td>0.629179</td>\n",
       "      <td>0.562315</td>\n",
       "      <td>0.640136</td>\n",
       "      <td>0.642539</td>\n",
       "      <td>0.615069</td>\n",
       "      <td>0.030193</td>\n",
       "      <td>1</td>\n",
       "    </tr>\n",
       "    <tr>\n",
       "      <th>4</th>\n",
       "      <td>0.064712</td>\n",
       "      <td>0.016330</td>\n",
       "      <td>0.010846</td>\n",
       "      <td>0.003789</td>\n",
       "      <td>2</td>\n",
       "      <td>1000.0</td>\n",
       "      <td>{'polynomialfeatures__degree': 2, 'ridge__alph...</td>\n",
       "      <td>0.576208</td>\n",
       "      <td>0.615647</td>\n",
       "      <td>0.592287</td>\n",
       "      <td>0.585586</td>\n",
       "      <td>0.619774</td>\n",
       "      <td>0.597900</td>\n",
       "      <td>0.017012</td>\n",
       "      <td>4</td>\n",
       "    </tr>\n",
       "  </tbody>\n",
       "</table>\n",
       "</div>"
      ],
      "text/plain": [
       "   mean_fit_time  std_fit_time  mean_score_time  std_score_time  \\\n",
       "0       0.059990      0.007550         0.010683        0.001497   \n",
       "1       0.088141      0.021528         0.015566        0.006488   \n",
       "2       0.081634      0.027884         0.009451        0.002830   \n",
       "3       0.062829      0.008676         0.009173        0.001300   \n",
       "4       0.064712      0.016330         0.010846        0.003789   \n",
       "\n",
       "  param_polynomialfeatures__degree param_ridge__alpha  \\\n",
       "0                                2               10.0   \n",
       "1                                2          31.622777   \n",
       "2                                2              100.0   \n",
       "3                                2         316.227766   \n",
       "4                                2             1000.0   \n",
       "\n",
       "                                              params  split0_test_score  \\\n",
       "0  {'polynomialfeatures__degree': 2, 'ridge__alph...           0.655806   \n",
       "1  {'polynomialfeatures__degree': 2, 'ridge__alph...           0.657668   \n",
       "2  {'polynomialfeatures__degree': 2, 'ridge__alph...           0.639703   \n",
       "3  {'polynomialfeatures__degree': 2, 'ridge__alph...           0.601179   \n",
       "4  {'polynomialfeatures__degree': 2, 'ridge__alph...           0.576208   \n",
       "\n",
       "   split1_test_score  split2_test_score  split3_test_score  split4_test_score  \\\n",
       "0           0.528570           0.362651           0.653063           0.665514   \n",
       "1           0.565873           0.422209           0.654168           0.662040   \n",
       "2           0.604569           0.494025           0.665001           0.655253   \n",
       "3           0.629179           0.562315           0.640136           0.642539   \n",
       "4           0.615647           0.592287           0.585586           0.619774   \n",
       "\n",
       "   mean_test_score  std_test_score  rank_test_score  \n",
       "0         0.573121        0.116659                7  \n",
       "1         0.592392        0.092297                5  \n",
       "2         0.611710        0.062322                3  \n",
       "3         0.615069        0.030193                1  \n",
       "4         0.597900        0.017012                4  "
      ]
     },
     "execution_count": 29,
     "metadata": {},
     "output_type": "execute_result"
    }
   ],
   "source": [
    "cv_results = pd.DataFrame(search_cv.cv_results_)\n",
    "cv_results.head()"
   ]
  },
  {
   "cell_type": "markdown",
   "id": "2258cd94-e49a-408a-8385-314aa778428f",
   "metadata": {},
   "source": [
    "In addition, at the end of the `fit` procedure, if the parameter `refit` is set to `True` (default), a model with the best combination will be trained (as we did in the manual hyperparameters search). We can check this model by looking at the fitted attribute `best_estimator_`"
   ]
  },
  {
   "cell_type": "code",
   "execution_count": 30,
   "id": "6170ae6a-f222-48ec-bc5f-72f3daece7d1",
   "metadata": {},
   "outputs": [
    {
     "data": {
      "text/html": [
       "<style>#sk-c889ab5b-3ec7-44a3-b571-44b7a39f382f {color: black;background-color: white;}#sk-c889ab5b-3ec7-44a3-b571-44b7a39f382f pre{padding: 0;}#sk-c889ab5b-3ec7-44a3-b571-44b7a39f382f div.sk-toggleable {background-color: white;}#sk-c889ab5b-3ec7-44a3-b571-44b7a39f382f label.sk-toggleable__label {cursor: pointer;display: block;width: 100%;margin-bottom: 0;padding: 0.3em;box-sizing: border-box;text-align: center;}#sk-c889ab5b-3ec7-44a3-b571-44b7a39f382f label.sk-toggleable__label-arrow:before {content: \"▸\";float: left;margin-right: 0.25em;color: #696969;}#sk-c889ab5b-3ec7-44a3-b571-44b7a39f382f label.sk-toggleable__label-arrow:hover:before {color: black;}#sk-c889ab5b-3ec7-44a3-b571-44b7a39f382f div.sk-estimator:hover label.sk-toggleable__label-arrow:before {color: black;}#sk-c889ab5b-3ec7-44a3-b571-44b7a39f382f div.sk-toggleable__content {max-height: 0;max-width: 0;overflow: hidden;text-align: left;background-color: #f0f8ff;}#sk-c889ab5b-3ec7-44a3-b571-44b7a39f382f div.sk-toggleable__content pre {margin: 0.2em;color: black;border-radius: 0.25em;background-color: #f0f8ff;}#sk-c889ab5b-3ec7-44a3-b571-44b7a39f382f input.sk-toggleable__control:checked~div.sk-toggleable__content {max-height: 200px;max-width: 100%;overflow: auto;}#sk-c889ab5b-3ec7-44a3-b571-44b7a39f382f input.sk-toggleable__control:checked~label.sk-toggleable__label-arrow:before {content: \"▾\";}#sk-c889ab5b-3ec7-44a3-b571-44b7a39f382f div.sk-estimator input.sk-toggleable__control:checked~label.sk-toggleable__label {background-color: #d4ebff;}#sk-c889ab5b-3ec7-44a3-b571-44b7a39f382f div.sk-label input.sk-toggleable__control:checked~label.sk-toggleable__label {background-color: #d4ebff;}#sk-c889ab5b-3ec7-44a3-b571-44b7a39f382f input.sk-hidden--visually {border: 0;clip: rect(1px 1px 1px 1px);clip: rect(1px, 1px, 1px, 1px);height: 1px;margin: -1px;overflow: hidden;padding: 0;position: absolute;width: 1px;}#sk-c889ab5b-3ec7-44a3-b571-44b7a39f382f div.sk-estimator {font-family: monospace;background-color: #f0f8ff;border: 1px dotted black;border-radius: 0.25em;box-sizing: border-box;margin-bottom: 0.5em;}#sk-c889ab5b-3ec7-44a3-b571-44b7a39f382f div.sk-estimator:hover {background-color: #d4ebff;}#sk-c889ab5b-3ec7-44a3-b571-44b7a39f382f div.sk-parallel-item::after {content: \"\";width: 100%;border-bottom: 1px solid gray;flex-grow: 1;}#sk-c889ab5b-3ec7-44a3-b571-44b7a39f382f div.sk-label:hover label.sk-toggleable__label {background-color: #d4ebff;}#sk-c889ab5b-3ec7-44a3-b571-44b7a39f382f div.sk-serial::before {content: \"\";position: absolute;border-left: 1px solid gray;box-sizing: border-box;top: 2em;bottom: 0;left: 50%;}#sk-c889ab5b-3ec7-44a3-b571-44b7a39f382f div.sk-serial {display: flex;flex-direction: column;align-items: center;background-color: white;padding-right: 0.2em;padding-left: 0.2em;}#sk-c889ab5b-3ec7-44a3-b571-44b7a39f382f div.sk-item {z-index: 1;}#sk-c889ab5b-3ec7-44a3-b571-44b7a39f382f div.sk-parallel {display: flex;align-items: stretch;justify-content: center;background-color: white;}#sk-c889ab5b-3ec7-44a3-b571-44b7a39f382f div.sk-parallel::before {content: \"\";position: absolute;border-left: 1px solid gray;box-sizing: border-box;top: 2em;bottom: 0;left: 50%;}#sk-c889ab5b-3ec7-44a3-b571-44b7a39f382f div.sk-parallel-item {display: flex;flex-direction: column;position: relative;background-color: white;}#sk-c889ab5b-3ec7-44a3-b571-44b7a39f382f div.sk-parallel-item:first-child::after {align-self: flex-end;width: 50%;}#sk-c889ab5b-3ec7-44a3-b571-44b7a39f382f div.sk-parallel-item:last-child::after {align-self: flex-start;width: 50%;}#sk-c889ab5b-3ec7-44a3-b571-44b7a39f382f div.sk-parallel-item:only-child::after {width: 0;}#sk-c889ab5b-3ec7-44a3-b571-44b7a39f382f div.sk-dashed-wrapped {border: 1px dashed gray;margin: 0 0.4em 0.5em 0.4em;box-sizing: border-box;padding-bottom: 0.4em;background-color: white;position: relative;}#sk-c889ab5b-3ec7-44a3-b571-44b7a39f382f div.sk-label label {font-family: monospace;font-weight: bold;background-color: white;display: inline-block;line-height: 1.2em;}#sk-c889ab5b-3ec7-44a3-b571-44b7a39f382f div.sk-label-container {position: relative;z-index: 2;text-align: center;}#sk-c889ab5b-3ec7-44a3-b571-44b7a39f382f div.sk-container {/* jupyter's `normalize.less` sets `[hidden] { display: none; }` but bootstrap.min.css set `[hidden] { display: none !important; }` so we also need the `!important` here to be able to override the default hidden behavior on the sphinx rendered scikit-learn.org. See: https://github.com/scikit-learn/scikit-learn/issues/21755 */display: inline-block !important;position: relative;}#sk-c889ab5b-3ec7-44a3-b571-44b7a39f382f div.sk-text-repr-fallback {display: none;}</style><div id=\"sk-c889ab5b-3ec7-44a3-b571-44b7a39f382f\" class=\"sk-top-container\"><div class=\"sk-text-repr-fallback\"><pre>Pipeline(steps=[(&#x27;polynomialfeatures&#x27;, PolynomialFeatures()),\n",
       "                (&#x27;standardscaler&#x27;, StandardScaler()),\n",
       "                (&#x27;ridge&#x27;, Ridge(alpha=316.22776601683796))])</pre><b>Please rerun this cell to show the HTML repr or trust the notebook.</b></div><div class=\"sk-container\" hidden><div class=\"sk-item sk-dashed-wrapped\"><div class=\"sk-label-container\"><div class=\"sk-label sk-toggleable\"><input class=\"sk-toggleable__control sk-hidden--visually\" id=\"5a67a2e3-d619-44e3-b240-f5c50f69c552\" type=\"checkbox\" ><label for=\"5a67a2e3-d619-44e3-b240-f5c50f69c552\" class=\"sk-toggleable__label sk-toggleable__label-arrow\">Pipeline</label><div class=\"sk-toggleable__content\"><pre>Pipeline(steps=[(&#x27;polynomialfeatures&#x27;, PolynomialFeatures()),\n",
       "                (&#x27;standardscaler&#x27;, StandardScaler()),\n",
       "                (&#x27;ridge&#x27;, Ridge(alpha=316.22776601683796))])</pre></div></div></div><div class=\"sk-serial\"><div class=\"sk-item\"><div class=\"sk-estimator sk-toggleable\"><input class=\"sk-toggleable__control sk-hidden--visually\" id=\"b32ea384-2dcc-4686-9f9d-6045f23201ae\" type=\"checkbox\" ><label for=\"b32ea384-2dcc-4686-9f9d-6045f23201ae\" class=\"sk-toggleable__label sk-toggleable__label-arrow\">PolynomialFeatures</label><div class=\"sk-toggleable__content\"><pre>PolynomialFeatures()</pre></div></div></div><div class=\"sk-item\"><div class=\"sk-estimator sk-toggleable\"><input class=\"sk-toggleable__control sk-hidden--visually\" id=\"14d03426-77dd-49b9-8c65-bb7fceab253b\" type=\"checkbox\" ><label for=\"14d03426-77dd-49b9-8c65-bb7fceab253b\" class=\"sk-toggleable__label sk-toggleable__label-arrow\">StandardScaler</label><div class=\"sk-toggleable__content\"><pre>StandardScaler()</pre></div></div></div><div class=\"sk-item\"><div class=\"sk-estimator sk-toggleable\"><input class=\"sk-toggleable__control sk-hidden--visually\" id=\"8d316e1b-e009-4113-87e9-895895cd76fa\" type=\"checkbox\" ><label for=\"8d316e1b-e009-4113-87e9-895895cd76fa\" class=\"sk-toggleable__label sk-toggleable__label-arrow\">Ridge</label><div class=\"sk-toggleable__content\"><pre>Ridge(alpha=316.22776601683796)</pre></div></div></div></div></div></div></div>"
      ],
      "text/plain": [
       "Pipeline(steps=[('polynomialfeatures', PolynomialFeatures()),\n",
       "                ('standardscaler', StandardScaler()),\n",
       "                ('ridge', Ridge(alpha=316.22776601683796))])"
      ]
     },
     "execution_count": 30,
     "metadata": {},
     "output_type": "execute_result"
    }
   ],
   "source": [
    "search_cv.best_estimator_"
   ]
  },
  {
   "cell_type": "markdown",
   "id": "e8789720-2639-44d3-a926-ad54246d4aa2",
   "metadata": {},
   "source": [
    "Indeed, this `best_estimator_` will be used when calling `predict` and `score` from the `GridSearchCV` instance."
   ]
  },
  {
   "cell_type": "code",
   "execution_count": 31,
   "id": "c8ba44d8-2100-425c-94ff-c0f587c5c108",
   "metadata": {},
   "outputs": [
    {
     "data": {
      "text/plain": [
       "-1.2224173460530392"
      ]
     },
     "execution_count": 31,
     "metadata": {},
     "output_type": "execute_result"
    }
   ],
   "source": [
    "search_cv.score(X_test, y_test)"
   ]
  },
  {
   "cell_type": "markdown",
   "id": "058f8f39-03a9-47ea-991d-ca933e1c4ccc",
   "metadata": {},
   "source": [
    "<div class=\"alert alert-success\">\n",
    "    <b>EXERCISE</b>:\n",
    "    <br>\n",
    "    Since a <tt>GridSearchCV</tt> behave like any classifier or regressor, it can be used and evaluated by cross-validation. Use <tt>cross_validate</tt> to evaluate the previous grid-search model that we created.\n",
    "</div>"
   ]
  },
  {
   "cell_type": "code",
   "execution_count": 35,
   "id": "2b37ff2f-3a50-4af6-8487-5e647fe6135e",
   "metadata": {},
   "outputs": [
    {
     "data": {
      "text/html": [
       "<div>\n",
       "<style scoped>\n",
       "    .dataframe tbody tr th:only-of-type {\n",
       "        vertical-align: middle;\n",
       "    }\n",
       "\n",
       "    .dataframe tbody tr th {\n",
       "        vertical-align: top;\n",
       "    }\n",
       "\n",
       "    .dataframe thead th {\n",
       "        text-align: right;\n",
       "    }\n",
       "</style>\n",
       "<table border=\"1\" class=\"dataframe\">\n",
       "  <thead>\n",
       "    <tr style=\"text-align: right;\">\n",
       "      <th></th>\n",
       "      <th>fit_time</th>\n",
       "      <th>score_time</th>\n",
       "      <th>estimator</th>\n",
       "      <th>test_score</th>\n",
       "    </tr>\n",
       "  </thead>\n",
       "  <tbody>\n",
       "    <tr>\n",
       "      <th>0</th>\n",
       "      <td>22.879226</td>\n",
       "      <td>0.016091</td>\n",
       "      <td>GridSearchCV(estimator=Pipeline(steps=[('polyn...</td>\n",
       "      <td>0.258175</td>\n",
       "    </tr>\n",
       "    <tr>\n",
       "      <th>1</th>\n",
       "      <td>27.003312</td>\n",
       "      <td>0.011391</td>\n",
       "      <td>GridSearchCV(estimator=Pipeline(steps=[('polyn...</td>\n",
       "      <td>0.475082</td>\n",
       "    </tr>\n",
       "    <tr>\n",
       "      <th>2</th>\n",
       "      <td>28.198821</td>\n",
       "      <td>0.012727</td>\n",
       "      <td>GridSearchCV(estimator=Pipeline(steps=[('polyn...</td>\n",
       "      <td>0.561609</td>\n",
       "    </tr>\n",
       "    <tr>\n",
       "      <th>3</th>\n",
       "      <td>32.067886</td>\n",
       "      <td>0.018464</td>\n",
       "      <td>GridSearchCV(estimator=Pipeline(steps=[('polyn...</td>\n",
       "      <td>0.526413</td>\n",
       "    </tr>\n",
       "    <tr>\n",
       "      <th>4</th>\n",
       "      <td>30.300900</td>\n",
       "      <td>0.060819</td>\n",
       "      <td>GridSearchCV(estimator=Pipeline(steps=[('polyn...</td>\n",
       "      <td>-17.880146</td>\n",
       "    </tr>\n",
       "  </tbody>\n",
       "</table>\n",
       "</div>"
      ],
      "text/plain": [
       "    fit_time  score_time                                          estimator  \\\n",
       "0  22.879226    0.016091  GridSearchCV(estimator=Pipeline(steps=[('polyn...   \n",
       "1  27.003312    0.011391  GridSearchCV(estimator=Pipeline(steps=[('polyn...   \n",
       "2  28.198821    0.012727  GridSearchCV(estimator=Pipeline(steps=[('polyn...   \n",
       "3  32.067886    0.018464  GridSearchCV(estimator=Pipeline(steps=[('polyn...   \n",
       "4  30.300900    0.060819  GridSearchCV(estimator=Pipeline(steps=[('polyn...   \n",
       "\n",
       "   test_score  \n",
       "0    0.258175  \n",
       "1    0.475082  \n",
       "2    0.561609  \n",
       "3    0.526413  \n",
       "4  -17.880146  "
      ]
     },
     "execution_count": 35,
     "metadata": {},
     "output_type": "execute_result"
    }
   ],
   "source": [
    "# %load solutions/solution_08.py\n",
    "cv_results = cross_validate(search_cv, X, y, return_estimator=True)\n",
    "cv_results = pd.DataFrame(cv_results)\n",
    "cv_results\n"
   ]
  },
  {
   "cell_type": "code",
   "execution_count": 36,
   "id": "e09989dc-9ebe-41f2-ab63-ac16b08a961a",
   "metadata": {},
   "outputs": [
    {
     "data": {
      "text/plain": [
       "0    GridSearchCV(estimator=Pipeline(steps=[('polyn...\n",
       "1    GridSearchCV(estimator=Pipeline(steps=[('polyn...\n",
       "2    GridSearchCV(estimator=Pipeline(steps=[('polyn...\n",
       "3    GridSearchCV(estimator=Pipeline(steps=[('polyn...\n",
       "4    GridSearchCV(estimator=Pipeline(steps=[('polyn...\n",
       "Name: estimator, dtype: object"
      ]
     },
     "execution_count": 36,
     "metadata": {},
     "output_type": "execute_result"
    }
   ],
   "source": [
    "# %load solutions/solution_09.py\n",
    "cv_results[\"estimator\"]\n"
   ]
  },
  {
   "cell_type": "code",
   "execution_count": 37,
   "id": "fcfd63f7-25a4-418c-9005-5b4dbdc62d74",
   "metadata": {},
   "outputs": [
    {
     "name": "stdout",
     "output_type": "stream",
     "text": [
      "{'polynomialfeatures__degree': 2, 'ridge__alpha': 31.622776601683793}\n",
      "{'polynomialfeatures__degree': 2, 'ridge__alpha': 1000.0}\n",
      "{'polynomialfeatures__degree': 2, 'ridge__alpha': 1000.0}\n",
      "{'polynomialfeatures__degree': 2, 'ridge__alpha': 1000.0}\n",
      "{'polynomialfeatures__degree': 3, 'ridge__alpha': 100.0}\n"
     ]
    }
   ],
   "source": [
    "# %load solutions/solution_10.py\n",
    "for est in cv_results[\"estimator\"]:\n",
    "    print(est.best_params_)\n"
   ]
  },
  {
   "cell_type": "markdown",
   "id": "d2f20250-4260-4f1d-be17-32005daca376",
   "metadata": {},
   "source": [
    "<div class=\"alert alert-success\">\n",
    "    <b>QUESTION</b>:\n",
    "    <br>\n",
    "    Which limitation the grid-search approach suffer from?\n",
    "</div>"
   ]
  },
  {
   "cell_type": "markdown",
   "id": "de0639f0-2ea1-441f-b618-88ec8ebd063f",
   "metadata": {},
   "source": [
    "## Randomized hyperparameters search"
   ]
  },
  {
   "cell_type": "markdown",
   "id": "24e7bfa8-b02c-4a45-9324-b6794b045d4a",
   "metadata": {},
   "source": [
    "In the previous strategy, the grid-search has two limitations:\n",
    "\n",
    "- it only explores combination of parameters defined in the grid;\n",
    "- adding new parameters and values to explore will increase rapidly the cost of the search.\n",
    "\n",
    "`RandomizedSearchCV` allows to specify a distribution from which to draw parameter values. It allows to explore the hyperparamters space on a non-grid fashion and as a user, you can give a butget of the number of combination you want to try."
   ]
  },
  {
   "cell_type": "code",
   "execution_count": 38,
   "id": "acc627ac-e446-4df4-b7c9-05f3c82824b1",
   "metadata": {},
   "outputs": [],
   "source": [
    "from scipy.stats import loguniform\n",
    "\n",
    "parameter_distributions = {\n",
    "    \"polynomialfeatures__degree\": np.arange(1, 5),\n",
    "    \"ridge__alpha\": loguniform(1, 3),\n",
    "}"
   ]
  },
  {
   "cell_type": "code",
   "execution_count": 39,
   "id": "24640ef0-ba45-4a5a-b493-da1945e74205",
   "metadata": {},
   "outputs": [],
   "source": [
    "from sklearn.model_selection import RandomizedSearchCV\n",
    "\n",
    "search_cv = RandomizedSearchCV(\n",
    "    model, param_distributions=parameter_distributions, n_iter=10,\n",
    ")"
   ]
  },
  {
   "cell_type": "code",
   "execution_count": 40,
   "id": "6d0b5e5b-4fc7-48b1-93d9-527a57fe6403",
   "metadata": {},
   "outputs": [],
   "source": [
    "cv_results = cross_validate(search_cv, X, y, return_estimator=True)\n",
    "cv_results = pd.DataFrame(cv_results)"
   ]
  },
  {
   "cell_type": "code",
   "execution_count": 41,
   "id": "26e269a7-36df-460c-96ad-2508d1f1cc42",
   "metadata": {},
   "outputs": [
    {
     "data": {
      "text/html": [
       "<div>\n",
       "<style scoped>\n",
       "    .dataframe tbody tr th:only-of-type {\n",
       "        vertical-align: middle;\n",
       "    }\n",
       "\n",
       "    .dataframe tbody tr th {\n",
       "        vertical-align: top;\n",
       "    }\n",
       "\n",
       "    .dataframe thead th {\n",
       "        text-align: right;\n",
       "    }\n",
       "</style>\n",
       "<table border=\"1\" class=\"dataframe\">\n",
       "  <thead>\n",
       "    <tr style=\"text-align: right;\">\n",
       "      <th></th>\n",
       "      <th>fit_time</th>\n",
       "      <th>score_time</th>\n",
       "      <th>estimator</th>\n",
       "      <th>test_score</th>\n",
       "    </tr>\n",
       "  </thead>\n",
       "  <tbody>\n",
       "    <tr>\n",
       "      <th>0</th>\n",
       "      <td>17.436294</td>\n",
       "      <td>0.008023</td>\n",
       "      <td>RandomizedSearchCV(estimator=Pipeline(steps=[(...</td>\n",
       "      <td>0.548827</td>\n",
       "    </tr>\n",
       "    <tr>\n",
       "      <th>1</th>\n",
       "      <td>14.613464</td>\n",
       "      <td>0.006106</td>\n",
       "      <td>RandomizedSearchCV(estimator=Pipeline(steps=[(...</td>\n",
       "      <td>0.468163</td>\n",
       "    </tr>\n",
       "    <tr>\n",
       "      <th>2</th>\n",
       "      <td>12.561264</td>\n",
       "      <td>0.008435</td>\n",
       "      <td>RandomizedSearchCV(estimator=Pipeline(steps=[(...</td>\n",
       "      <td>0.550824</td>\n",
       "    </tr>\n",
       "    <tr>\n",
       "      <th>3</th>\n",
       "      <td>8.406125</td>\n",
       "      <td>0.006109</td>\n",
       "      <td>RandomizedSearchCV(estimator=Pipeline(steps=[(...</td>\n",
       "      <td>0.536888</td>\n",
       "    </tr>\n",
       "    <tr>\n",
       "      <th>4</th>\n",
       "      <td>7.866972</td>\n",
       "      <td>0.013089</td>\n",
       "      <td>RandomizedSearchCV(estimator=Pipeline(steps=[(...</td>\n",
       "      <td>0.660527</td>\n",
       "    </tr>\n",
       "  </tbody>\n",
       "</table>\n",
       "</div>"
      ],
      "text/plain": [
       "    fit_time  score_time                                          estimator  \\\n",
       "0  17.436294    0.008023  RandomizedSearchCV(estimator=Pipeline(steps=[(...   \n",
       "1  14.613464    0.006106  RandomizedSearchCV(estimator=Pipeline(steps=[(...   \n",
       "2  12.561264    0.008435  RandomizedSearchCV(estimator=Pipeline(steps=[(...   \n",
       "3   8.406125    0.006109  RandomizedSearchCV(estimator=Pipeline(steps=[(...   \n",
       "4   7.866972    0.013089  RandomizedSearchCV(estimator=Pipeline(steps=[(...   \n",
       "\n",
       "   test_score  \n",
       "0    0.548827  \n",
       "1    0.468163  \n",
       "2    0.550824  \n",
       "3    0.536888  \n",
       "4    0.660527  "
      ]
     },
     "execution_count": 41,
     "metadata": {},
     "output_type": "execute_result"
    }
   ],
   "source": [
    "cv_results"
   ]
  },
  {
   "cell_type": "code",
   "execution_count": 42,
   "id": "4c62a6a4-90ff-43c1-a46a-4d7213dcf366",
   "metadata": {},
   "outputs": [
    {
     "name": "stdout",
     "output_type": "stream",
     "text": [
      "{'polynomialfeatures__degree': 1, 'ridge__alpha': 1.9065236364446558}\n",
      "{'polynomialfeatures__degree': 1, 'ridge__alpha': 1.7531638814255666}\n",
      "{'polynomialfeatures__degree': 1, 'ridge__alpha': 2.1998547700424167}\n",
      "{'polynomialfeatures__degree': 1, 'ridge__alpha': 1.4416660694131567}\n",
      "{'polynomialfeatures__degree': 1, 'ridge__alpha': 2.6301686159766344}\n"
     ]
    }
   ],
   "source": [
    "for est in cv_results[\"estimator\"]:\n",
    "    print(est.best_params_)"
   ]
  },
  {
   "cell_type": "markdown",
   "id": "cadd6824-a67e-4097-9f2a-c7437d95e515",
   "metadata": {},
   "source": [
    "## Model with internal hyperparameter tuning"
   ]
  },
  {
   "cell_type": "markdown",
   "id": "700ce641-c798-403f-a3c5-4303f444d129",
   "metadata": {},
   "source": [
    "Some classifiers or regressors come with the some efficient hyperparameter selection, at least more efficient than a grid-search. Usually, the name of the classsifiers or regressors finish with `CV` (e.g. `RidgeCV`)."
   ]
  },
  {
   "cell_type": "markdown",
   "id": "71a53a0e-211d-46ae-b7be-32d0dc5d9af6",
   "metadata": {},
   "source": [
    "<div class=\"alert alert-success\">\n",
    "    <b>EXERCISE</b>:\n",
    "    <br>\n",
    "    <ul>\n",
    "        <li>Create a pipeline made of a <tt>PolynomialFeatures</tt>, a <tt>StandardScaler</tt>, and a <tt>Ridge</tt>.</li>\n",
    "        <li>Create a grid-search by passing the previous pipeline and tune the parameter <tt>alpha</tt> such that you will try the values <tt>np.logspace(-2, 2, num=50)</tt>.</li>\n",
    "        <li>Fit the grid-search on the training set and check the time it takes.</li>\n",
    "        <li>Repeat the experiment by replacing the <tt>Ridge</tt> regressor by a <tt>RidgeCV</tt> regressor and removing the <tt>GridSearchCV</tt>.</li>\n",
    "    </ul>\n",
    "    Which approach is more efficient in terms of computational performance.\n",
    "</div>"
   ]
  },
  {
   "cell_type": "code",
   "execution_count": 50,
   "id": "3a77fec3-0844-4e80-92e9-9036014ed817",
   "metadata": {},
   "outputs": [
    {
     "data": {
      "text/html": [
       "<style>#sk-66aa915c-a63f-4249-beb0-3e12c985ee45 {color: black;background-color: white;}#sk-66aa915c-a63f-4249-beb0-3e12c985ee45 pre{padding: 0;}#sk-66aa915c-a63f-4249-beb0-3e12c985ee45 div.sk-toggleable {background-color: white;}#sk-66aa915c-a63f-4249-beb0-3e12c985ee45 label.sk-toggleable__label {cursor: pointer;display: block;width: 100%;margin-bottom: 0;padding: 0.3em;box-sizing: border-box;text-align: center;}#sk-66aa915c-a63f-4249-beb0-3e12c985ee45 label.sk-toggleable__label-arrow:before {content: \"▸\";float: left;margin-right: 0.25em;color: #696969;}#sk-66aa915c-a63f-4249-beb0-3e12c985ee45 label.sk-toggleable__label-arrow:hover:before {color: black;}#sk-66aa915c-a63f-4249-beb0-3e12c985ee45 div.sk-estimator:hover label.sk-toggleable__label-arrow:before {color: black;}#sk-66aa915c-a63f-4249-beb0-3e12c985ee45 div.sk-toggleable__content {max-height: 0;max-width: 0;overflow: hidden;text-align: left;background-color: #f0f8ff;}#sk-66aa915c-a63f-4249-beb0-3e12c985ee45 div.sk-toggleable__content pre {margin: 0.2em;color: black;border-radius: 0.25em;background-color: #f0f8ff;}#sk-66aa915c-a63f-4249-beb0-3e12c985ee45 input.sk-toggleable__control:checked~div.sk-toggleable__content {max-height: 200px;max-width: 100%;overflow: auto;}#sk-66aa915c-a63f-4249-beb0-3e12c985ee45 input.sk-toggleable__control:checked~label.sk-toggleable__label-arrow:before {content: \"▾\";}#sk-66aa915c-a63f-4249-beb0-3e12c985ee45 div.sk-estimator input.sk-toggleable__control:checked~label.sk-toggleable__label {background-color: #d4ebff;}#sk-66aa915c-a63f-4249-beb0-3e12c985ee45 div.sk-label input.sk-toggleable__control:checked~label.sk-toggleable__label {background-color: #d4ebff;}#sk-66aa915c-a63f-4249-beb0-3e12c985ee45 input.sk-hidden--visually {border: 0;clip: rect(1px 1px 1px 1px);clip: rect(1px, 1px, 1px, 1px);height: 1px;margin: -1px;overflow: hidden;padding: 0;position: absolute;width: 1px;}#sk-66aa915c-a63f-4249-beb0-3e12c985ee45 div.sk-estimator {font-family: monospace;background-color: #f0f8ff;border: 1px dotted black;border-radius: 0.25em;box-sizing: border-box;margin-bottom: 0.5em;}#sk-66aa915c-a63f-4249-beb0-3e12c985ee45 div.sk-estimator:hover {background-color: #d4ebff;}#sk-66aa915c-a63f-4249-beb0-3e12c985ee45 div.sk-parallel-item::after {content: \"\";width: 100%;border-bottom: 1px solid gray;flex-grow: 1;}#sk-66aa915c-a63f-4249-beb0-3e12c985ee45 div.sk-label:hover label.sk-toggleable__label {background-color: #d4ebff;}#sk-66aa915c-a63f-4249-beb0-3e12c985ee45 div.sk-serial::before {content: \"\";position: absolute;border-left: 1px solid gray;box-sizing: border-box;top: 2em;bottom: 0;left: 50%;}#sk-66aa915c-a63f-4249-beb0-3e12c985ee45 div.sk-serial {display: flex;flex-direction: column;align-items: center;background-color: white;padding-right: 0.2em;padding-left: 0.2em;}#sk-66aa915c-a63f-4249-beb0-3e12c985ee45 div.sk-item {z-index: 1;}#sk-66aa915c-a63f-4249-beb0-3e12c985ee45 div.sk-parallel {display: flex;align-items: stretch;justify-content: center;background-color: white;}#sk-66aa915c-a63f-4249-beb0-3e12c985ee45 div.sk-parallel::before {content: \"\";position: absolute;border-left: 1px solid gray;box-sizing: border-box;top: 2em;bottom: 0;left: 50%;}#sk-66aa915c-a63f-4249-beb0-3e12c985ee45 div.sk-parallel-item {display: flex;flex-direction: column;position: relative;background-color: white;}#sk-66aa915c-a63f-4249-beb0-3e12c985ee45 div.sk-parallel-item:first-child::after {align-self: flex-end;width: 50%;}#sk-66aa915c-a63f-4249-beb0-3e12c985ee45 div.sk-parallel-item:last-child::after {align-self: flex-start;width: 50%;}#sk-66aa915c-a63f-4249-beb0-3e12c985ee45 div.sk-parallel-item:only-child::after {width: 0;}#sk-66aa915c-a63f-4249-beb0-3e12c985ee45 div.sk-dashed-wrapped {border: 1px dashed gray;margin: 0 0.4em 0.5em 0.4em;box-sizing: border-box;padding-bottom: 0.4em;background-color: white;position: relative;}#sk-66aa915c-a63f-4249-beb0-3e12c985ee45 div.sk-label label {font-family: monospace;font-weight: bold;background-color: white;display: inline-block;line-height: 1.2em;}#sk-66aa915c-a63f-4249-beb0-3e12c985ee45 div.sk-label-container {position: relative;z-index: 2;text-align: center;}#sk-66aa915c-a63f-4249-beb0-3e12c985ee45 div.sk-container {/* jupyter's `normalize.less` sets `[hidden] { display: none; }` but bootstrap.min.css set `[hidden] { display: none !important; }` so we also need the `!important` here to be able to override the default hidden behavior on the sphinx rendered scikit-learn.org. See: https://github.com/scikit-learn/scikit-learn/issues/21755 */display: inline-block !important;position: relative;}#sk-66aa915c-a63f-4249-beb0-3e12c985ee45 div.sk-text-repr-fallback {display: none;}</style><div id=\"sk-66aa915c-a63f-4249-beb0-3e12c985ee45\" class=\"sk-top-container\"><div class=\"sk-text-repr-fallback\"><pre>GridSearchCV(estimator=Pipeline(steps=[(&#x27;polynomialfeatures&#x27;,\n",
       "                                        PolynomialFeatures()),\n",
       "                                       (&#x27;standardscaler&#x27;, StandardScaler()),\n",
       "                                       (&#x27;ridge&#x27;, Ridge())]),\n",
       "             param_grid={&#x27;ridge__alpha&#x27;: array([1.00000000e-02, 1.20679264e-02, 1.45634848e-02, 1.75751062e-02,\n",
       "       2.12095089e-02, 2.55954792e-02, 3.08884360e-02, 3.72759372e-02,\n",
       "       4.49843267e-02, 5.42867544e-02, 6.55128557e-02, 7.90604321e-...\n",
       "       1.93069773e+00, 2.32995181e+00, 2.81176870e+00, 3.39322177e+00,\n",
       "       4.09491506e+00, 4.94171336e+00, 5.96362332e+00, 7.19685673e+00,\n",
       "       8.68511374e+00, 1.04811313e+01, 1.26485522e+01, 1.52641797e+01,\n",
       "       1.84206997e+01, 2.22299648e+01, 2.68269580e+01, 3.23745754e+01,\n",
       "       3.90693994e+01, 4.71486636e+01, 5.68986603e+01, 6.86648845e+01,\n",
       "       8.28642773e+01, 1.00000000e+02])},\n",
       "             scoring=&#x27;neg_mean_squared_error&#x27;)</pre><b>Please rerun this cell to show the HTML repr or trust the notebook.</b></div><div class=\"sk-container\" hidden><div class=\"sk-item sk-dashed-wrapped\"><div class=\"sk-label-container\"><div class=\"sk-label sk-toggleable\"><input class=\"sk-toggleable__control sk-hidden--visually\" id=\"073c52de-8437-41bf-98ad-516b4b2274c9\" type=\"checkbox\" ><label for=\"073c52de-8437-41bf-98ad-516b4b2274c9\" class=\"sk-toggleable__label sk-toggleable__label-arrow\">GridSearchCV</label><div class=\"sk-toggleable__content\"><pre>GridSearchCV(estimator=Pipeline(steps=[(&#x27;polynomialfeatures&#x27;,\n",
       "                                        PolynomialFeatures()),\n",
       "                                       (&#x27;standardscaler&#x27;, StandardScaler()),\n",
       "                                       (&#x27;ridge&#x27;, Ridge())]),\n",
       "             param_grid={&#x27;ridge__alpha&#x27;: array([1.00000000e-02, 1.20679264e-02, 1.45634848e-02, 1.75751062e-02,\n",
       "       2.12095089e-02, 2.55954792e-02, 3.08884360e-02, 3.72759372e-02,\n",
       "       4.49843267e-02, 5.42867544e-02, 6.55128557e-02, 7.90604321e-...\n",
       "       1.93069773e+00, 2.32995181e+00, 2.81176870e+00, 3.39322177e+00,\n",
       "       4.09491506e+00, 4.94171336e+00, 5.96362332e+00, 7.19685673e+00,\n",
       "       8.68511374e+00, 1.04811313e+01, 1.26485522e+01, 1.52641797e+01,\n",
       "       1.84206997e+01, 2.22299648e+01, 2.68269580e+01, 3.23745754e+01,\n",
       "       3.90693994e+01, 4.71486636e+01, 5.68986603e+01, 6.86648845e+01,\n",
       "       8.28642773e+01, 1.00000000e+02])},\n",
       "             scoring=&#x27;neg_mean_squared_error&#x27;)</pre></div></div></div><div class=\"sk-parallel\"><div class=\"sk-parallel-item\"><div class=\"sk-item\"><div class=\"sk-serial\"><div class=\"sk-item\"><div class=\"sk-serial\"><div class=\"sk-item\"><div class=\"sk-estimator sk-toggleable\"><input class=\"sk-toggleable__control sk-hidden--visually\" id=\"a4046e27-6727-49e4-b440-b9f5eddb8268\" type=\"checkbox\" ><label for=\"a4046e27-6727-49e4-b440-b9f5eddb8268\" class=\"sk-toggleable__label sk-toggleable__label-arrow\">PolynomialFeatures</label><div class=\"sk-toggleable__content\"><pre>PolynomialFeatures()</pre></div></div></div><div class=\"sk-item\"><div class=\"sk-estimator sk-toggleable\"><input class=\"sk-toggleable__control sk-hidden--visually\" id=\"76a1b556-e909-4745-925c-d5393c296ad4\" type=\"checkbox\" ><label for=\"76a1b556-e909-4745-925c-d5393c296ad4\" class=\"sk-toggleable__label sk-toggleable__label-arrow\">StandardScaler</label><div class=\"sk-toggleable__content\"><pre>StandardScaler()</pre></div></div></div><div class=\"sk-item\"><div class=\"sk-estimator sk-toggleable\"><input class=\"sk-toggleable__control sk-hidden--visually\" id=\"292149b6-469d-43c2-afb7-d40f76e7c944\" type=\"checkbox\" ><label for=\"292149b6-469d-43c2-afb7-d40f76e7c944\" class=\"sk-toggleable__label sk-toggleable__label-arrow\">Ridge</label><div class=\"sk-toggleable__content\"><pre>Ridge()</pre></div></div></div></div></div></div></div></div></div></div></div></div>"
      ],
      "text/plain": [
       "GridSearchCV(estimator=Pipeline(steps=[('polynomialfeatures',\n",
       "                                        PolynomialFeatures()),\n",
       "                                       ('standardscaler', StandardScaler()),\n",
       "                                       ('ridge', Ridge())]),\n",
       "             param_grid={'ridge__alpha': array([1.00000000e-02, 1.20679264e-02, 1.45634848e-02, 1.75751062e-02,\n",
       "       2.12095089e-02, 2.55954792e-02, 3.08884360e-02, 3.72759372e-02,\n",
       "       4.49843267e-02, 5.42867544e-02, 6.55128557e-02, 7.90604321e-...\n",
       "       1.93069773e+00, 2.32995181e+00, 2.81176870e+00, 3.39322177e+00,\n",
       "       4.09491506e+00, 4.94171336e+00, 5.96362332e+00, 7.19685673e+00,\n",
       "       8.68511374e+00, 1.04811313e+01, 1.26485522e+01, 1.52641797e+01,\n",
       "       1.84206997e+01, 2.22299648e+01, 2.68269580e+01, 3.23745754e+01,\n",
       "       3.90693994e+01, 4.71486636e+01, 5.68986603e+01, 6.86648845e+01,\n",
       "       8.28642773e+01, 1.00000000e+02])},\n",
       "             scoring='neg_mean_squared_error')"
      ]
     },
     "execution_count": 50,
     "metadata": {},
     "output_type": "execute_result"
    }
   ],
   "source": [
    "# %load solutions/solution_11.py\n",
    "from sklearn.linear_model import Ridge\n",
    "\n",
    "alphas = np.logspace(-2, 2, num=50)\n",
    "\n",
    "model = GridSearchCV(\n",
    "    make_pipeline(\n",
    "        PolynomialFeatures(),\n",
    "        StandardScaler(),\n",
    "        Ridge(),\n",
    "    ),\n",
    "    param_grid={\n",
    "        \"ridge__alpha\": alphas\n",
    "    },\n",
    "    scoring=\"neg_mean_squared_error\",\n",
    ")\n",
    "model\n"
   ]
  },
  {
   "cell_type": "code",
   "execution_count": 53,
   "id": "f3796e21-b172-4958-9151-06933bb6420e",
   "metadata": {},
   "outputs": [
    {
     "name": "stdout",
     "output_type": "stream",
     "text": [
      "Wall time: 26.6 s\n"
     ]
    },
    {
     "data": {
      "text/html": [
       "<style>#sk-ae3fe0ea-2003-4510-84ce-959a1ca376e3 {color: black;background-color: white;}#sk-ae3fe0ea-2003-4510-84ce-959a1ca376e3 pre{padding: 0;}#sk-ae3fe0ea-2003-4510-84ce-959a1ca376e3 div.sk-toggleable {background-color: white;}#sk-ae3fe0ea-2003-4510-84ce-959a1ca376e3 label.sk-toggleable__label {cursor: pointer;display: block;width: 100%;margin-bottom: 0;padding: 0.3em;box-sizing: border-box;text-align: center;}#sk-ae3fe0ea-2003-4510-84ce-959a1ca376e3 label.sk-toggleable__label-arrow:before {content: \"▸\";float: left;margin-right: 0.25em;color: #696969;}#sk-ae3fe0ea-2003-4510-84ce-959a1ca376e3 label.sk-toggleable__label-arrow:hover:before {color: black;}#sk-ae3fe0ea-2003-4510-84ce-959a1ca376e3 div.sk-estimator:hover label.sk-toggleable__label-arrow:before {color: black;}#sk-ae3fe0ea-2003-4510-84ce-959a1ca376e3 div.sk-toggleable__content {max-height: 0;max-width: 0;overflow: hidden;text-align: left;background-color: #f0f8ff;}#sk-ae3fe0ea-2003-4510-84ce-959a1ca376e3 div.sk-toggleable__content pre {margin: 0.2em;color: black;border-radius: 0.25em;background-color: #f0f8ff;}#sk-ae3fe0ea-2003-4510-84ce-959a1ca376e3 input.sk-toggleable__control:checked~div.sk-toggleable__content {max-height: 200px;max-width: 100%;overflow: auto;}#sk-ae3fe0ea-2003-4510-84ce-959a1ca376e3 input.sk-toggleable__control:checked~label.sk-toggleable__label-arrow:before {content: \"▾\";}#sk-ae3fe0ea-2003-4510-84ce-959a1ca376e3 div.sk-estimator input.sk-toggleable__control:checked~label.sk-toggleable__label {background-color: #d4ebff;}#sk-ae3fe0ea-2003-4510-84ce-959a1ca376e3 div.sk-label input.sk-toggleable__control:checked~label.sk-toggleable__label {background-color: #d4ebff;}#sk-ae3fe0ea-2003-4510-84ce-959a1ca376e3 input.sk-hidden--visually {border: 0;clip: rect(1px 1px 1px 1px);clip: rect(1px, 1px, 1px, 1px);height: 1px;margin: -1px;overflow: hidden;padding: 0;position: absolute;width: 1px;}#sk-ae3fe0ea-2003-4510-84ce-959a1ca376e3 div.sk-estimator {font-family: monospace;background-color: #f0f8ff;border: 1px dotted black;border-radius: 0.25em;box-sizing: border-box;margin-bottom: 0.5em;}#sk-ae3fe0ea-2003-4510-84ce-959a1ca376e3 div.sk-estimator:hover {background-color: #d4ebff;}#sk-ae3fe0ea-2003-4510-84ce-959a1ca376e3 div.sk-parallel-item::after {content: \"\";width: 100%;border-bottom: 1px solid gray;flex-grow: 1;}#sk-ae3fe0ea-2003-4510-84ce-959a1ca376e3 div.sk-label:hover label.sk-toggleable__label {background-color: #d4ebff;}#sk-ae3fe0ea-2003-4510-84ce-959a1ca376e3 div.sk-serial::before {content: \"\";position: absolute;border-left: 1px solid gray;box-sizing: border-box;top: 2em;bottom: 0;left: 50%;}#sk-ae3fe0ea-2003-4510-84ce-959a1ca376e3 div.sk-serial {display: flex;flex-direction: column;align-items: center;background-color: white;padding-right: 0.2em;padding-left: 0.2em;}#sk-ae3fe0ea-2003-4510-84ce-959a1ca376e3 div.sk-item {z-index: 1;}#sk-ae3fe0ea-2003-4510-84ce-959a1ca376e3 div.sk-parallel {display: flex;align-items: stretch;justify-content: center;background-color: white;}#sk-ae3fe0ea-2003-4510-84ce-959a1ca376e3 div.sk-parallel::before {content: \"\";position: absolute;border-left: 1px solid gray;box-sizing: border-box;top: 2em;bottom: 0;left: 50%;}#sk-ae3fe0ea-2003-4510-84ce-959a1ca376e3 div.sk-parallel-item {display: flex;flex-direction: column;position: relative;background-color: white;}#sk-ae3fe0ea-2003-4510-84ce-959a1ca376e3 div.sk-parallel-item:first-child::after {align-self: flex-end;width: 50%;}#sk-ae3fe0ea-2003-4510-84ce-959a1ca376e3 div.sk-parallel-item:last-child::after {align-self: flex-start;width: 50%;}#sk-ae3fe0ea-2003-4510-84ce-959a1ca376e3 div.sk-parallel-item:only-child::after {width: 0;}#sk-ae3fe0ea-2003-4510-84ce-959a1ca376e3 div.sk-dashed-wrapped {border: 1px dashed gray;margin: 0 0.4em 0.5em 0.4em;box-sizing: border-box;padding-bottom: 0.4em;background-color: white;position: relative;}#sk-ae3fe0ea-2003-4510-84ce-959a1ca376e3 div.sk-label label {font-family: monospace;font-weight: bold;background-color: white;display: inline-block;line-height: 1.2em;}#sk-ae3fe0ea-2003-4510-84ce-959a1ca376e3 div.sk-label-container {position: relative;z-index: 2;text-align: center;}#sk-ae3fe0ea-2003-4510-84ce-959a1ca376e3 div.sk-container {/* jupyter's `normalize.less` sets `[hidden] { display: none; }` but bootstrap.min.css set `[hidden] { display: none !important; }` so we also need the `!important` here to be able to override the default hidden behavior on the sphinx rendered scikit-learn.org. See: https://github.com/scikit-learn/scikit-learn/issues/21755 */display: inline-block !important;position: relative;}#sk-ae3fe0ea-2003-4510-84ce-959a1ca376e3 div.sk-text-repr-fallback {display: none;}</style><div id=\"sk-ae3fe0ea-2003-4510-84ce-959a1ca376e3\" class=\"sk-top-container\"><div class=\"sk-text-repr-fallback\"><pre>GridSearchCV(estimator=Pipeline(steps=[(&#x27;polynomialfeatures&#x27;,\n",
       "                                        PolynomialFeatures()),\n",
       "                                       (&#x27;standardscaler&#x27;, StandardScaler()),\n",
       "                                       (&#x27;ridge&#x27;, Ridge())]),\n",
       "             param_grid={&#x27;ridge__alpha&#x27;: array([1.00000000e-02, 1.20679264e-02, 1.45634848e-02, 1.75751062e-02,\n",
       "       2.12095089e-02, 2.55954792e-02, 3.08884360e-02, 3.72759372e-02,\n",
       "       4.49843267e-02, 5.42867544e-02, 6.55128557e-02, 7.90604321e-...\n",
       "       1.93069773e+00, 2.32995181e+00, 2.81176870e+00, 3.39322177e+00,\n",
       "       4.09491506e+00, 4.94171336e+00, 5.96362332e+00, 7.19685673e+00,\n",
       "       8.68511374e+00, 1.04811313e+01, 1.26485522e+01, 1.52641797e+01,\n",
       "       1.84206997e+01, 2.22299648e+01, 2.68269580e+01, 3.23745754e+01,\n",
       "       3.90693994e+01, 4.71486636e+01, 5.68986603e+01, 6.86648845e+01,\n",
       "       8.28642773e+01, 1.00000000e+02])},\n",
       "             scoring=&#x27;neg_mean_squared_error&#x27;)</pre><b>Please rerun this cell to show the HTML repr or trust the notebook.</b></div><div class=\"sk-container\" hidden><div class=\"sk-item sk-dashed-wrapped\"><div class=\"sk-label-container\"><div class=\"sk-label sk-toggleable\"><input class=\"sk-toggleable__control sk-hidden--visually\" id=\"7c6e074d-1815-4858-a486-bbf6484408e6\" type=\"checkbox\" ><label for=\"7c6e074d-1815-4858-a486-bbf6484408e6\" class=\"sk-toggleable__label sk-toggleable__label-arrow\">GridSearchCV</label><div class=\"sk-toggleable__content\"><pre>GridSearchCV(estimator=Pipeline(steps=[(&#x27;polynomialfeatures&#x27;,\n",
       "                                        PolynomialFeatures()),\n",
       "                                       (&#x27;standardscaler&#x27;, StandardScaler()),\n",
       "                                       (&#x27;ridge&#x27;, Ridge())]),\n",
       "             param_grid={&#x27;ridge__alpha&#x27;: array([1.00000000e-02, 1.20679264e-02, 1.45634848e-02, 1.75751062e-02,\n",
       "       2.12095089e-02, 2.55954792e-02, 3.08884360e-02, 3.72759372e-02,\n",
       "       4.49843267e-02, 5.42867544e-02, 6.55128557e-02, 7.90604321e-...\n",
       "       1.93069773e+00, 2.32995181e+00, 2.81176870e+00, 3.39322177e+00,\n",
       "       4.09491506e+00, 4.94171336e+00, 5.96362332e+00, 7.19685673e+00,\n",
       "       8.68511374e+00, 1.04811313e+01, 1.26485522e+01, 1.52641797e+01,\n",
       "       1.84206997e+01, 2.22299648e+01, 2.68269580e+01, 3.23745754e+01,\n",
       "       3.90693994e+01, 4.71486636e+01, 5.68986603e+01, 6.86648845e+01,\n",
       "       8.28642773e+01, 1.00000000e+02])},\n",
       "             scoring=&#x27;neg_mean_squared_error&#x27;)</pre></div></div></div><div class=\"sk-parallel\"><div class=\"sk-parallel-item\"><div class=\"sk-item\"><div class=\"sk-serial\"><div class=\"sk-item\"><div class=\"sk-serial\"><div class=\"sk-item\"><div class=\"sk-estimator sk-toggleable\"><input class=\"sk-toggleable__control sk-hidden--visually\" id=\"06fe23c3-571a-466b-9096-33d7d9d2df58\" type=\"checkbox\" ><label for=\"06fe23c3-571a-466b-9096-33d7d9d2df58\" class=\"sk-toggleable__label sk-toggleable__label-arrow\">PolynomialFeatures</label><div class=\"sk-toggleable__content\"><pre>PolynomialFeatures()</pre></div></div></div><div class=\"sk-item\"><div class=\"sk-estimator sk-toggleable\"><input class=\"sk-toggleable__control sk-hidden--visually\" id=\"29878547-df36-4d2b-9b37-77976826b06e\" type=\"checkbox\" ><label for=\"29878547-df36-4d2b-9b37-77976826b06e\" class=\"sk-toggleable__label sk-toggleable__label-arrow\">StandardScaler</label><div class=\"sk-toggleable__content\"><pre>StandardScaler()</pre></div></div></div><div class=\"sk-item\"><div class=\"sk-estimator sk-toggleable\"><input class=\"sk-toggleable__control sk-hidden--visually\" id=\"92b82b98-1ad1-4ba6-9be8-5bd2c92b82ea\" type=\"checkbox\" ><label for=\"92b82b98-1ad1-4ba6-9be8-5bd2c92b82ea\" class=\"sk-toggleable__label sk-toggleable__label-arrow\">Ridge</label><div class=\"sk-toggleable__content\"><pre>Ridge()</pre></div></div></div></div></div></div></div></div></div></div></div></div>"
      ],
      "text/plain": [
       "GridSearchCV(estimator=Pipeline(steps=[('polynomialfeatures',\n",
       "                                        PolynomialFeatures()),\n",
       "                                       ('standardscaler', StandardScaler()),\n",
       "                                       ('ridge', Ridge())]),\n",
       "             param_grid={'ridge__alpha': array([1.00000000e-02, 1.20679264e-02, 1.45634848e-02, 1.75751062e-02,\n",
       "       2.12095089e-02, 2.55954792e-02, 3.08884360e-02, 3.72759372e-02,\n",
       "       4.49843267e-02, 5.42867544e-02, 6.55128557e-02, 7.90604321e-...\n",
       "       1.93069773e+00, 2.32995181e+00, 2.81176870e+00, 3.39322177e+00,\n",
       "       4.09491506e+00, 4.94171336e+00, 5.96362332e+00, 7.19685673e+00,\n",
       "       8.68511374e+00, 1.04811313e+01, 1.26485522e+01, 1.52641797e+01,\n",
       "       1.84206997e+01, 2.22299648e+01, 2.68269580e+01, 3.23745754e+01,\n",
       "       3.90693994e+01, 4.71486636e+01, 5.68986603e+01, 6.86648845e+01,\n",
       "       8.28642773e+01, 1.00000000e+02])},\n",
       "             scoring='neg_mean_squared_error')"
      ]
     },
     "execution_count": 53,
     "metadata": {},
     "output_type": "execute_result"
    }
   ],
   "source": [
    "%%time\n",
    "# %load solutions/solution_12.py\n",
    "\n",
    "model.fit(X_train, y_train)\n"
   ]
  },
  {
   "cell_type": "code",
   "execution_count": 54,
   "id": "7a8927a4-513b-4a1b-82cd-a88f890375eb",
   "metadata": {},
   "outputs": [],
   "source": [
    "# %load solutions/solution_13.py\n",
    "from sklearn.linear_model import RidgeCV\n",
    "\n",
    "model = make_pipeline(\n",
    "    PolynomialFeatures(),\n",
    "    StandardScaler(),\n",
    "    RidgeCV(alphas=alphas, store_cv_values=True),\n",
    ")\n"
   ]
  },
  {
   "cell_type": "code",
   "execution_count": 55,
   "id": "571c48ee-e346-4bb2-a7bd-a8932eabd3d8",
   "metadata": {},
   "outputs": [
    {
     "name": "stdout",
     "output_type": "stream",
     "text": [
      "Wall time: 1.58 s\n"
     ]
    },
    {
     "data": {
      "text/html": [
       "<style>#sk-00c69e7f-de03-4188-9d6a-b69973d811cb {color: black;background-color: white;}#sk-00c69e7f-de03-4188-9d6a-b69973d811cb pre{padding: 0;}#sk-00c69e7f-de03-4188-9d6a-b69973d811cb div.sk-toggleable {background-color: white;}#sk-00c69e7f-de03-4188-9d6a-b69973d811cb label.sk-toggleable__label {cursor: pointer;display: block;width: 100%;margin-bottom: 0;padding: 0.3em;box-sizing: border-box;text-align: center;}#sk-00c69e7f-de03-4188-9d6a-b69973d811cb label.sk-toggleable__label-arrow:before {content: \"▸\";float: left;margin-right: 0.25em;color: #696969;}#sk-00c69e7f-de03-4188-9d6a-b69973d811cb label.sk-toggleable__label-arrow:hover:before {color: black;}#sk-00c69e7f-de03-4188-9d6a-b69973d811cb div.sk-estimator:hover label.sk-toggleable__label-arrow:before {color: black;}#sk-00c69e7f-de03-4188-9d6a-b69973d811cb div.sk-toggleable__content {max-height: 0;max-width: 0;overflow: hidden;text-align: left;background-color: #f0f8ff;}#sk-00c69e7f-de03-4188-9d6a-b69973d811cb div.sk-toggleable__content pre {margin: 0.2em;color: black;border-radius: 0.25em;background-color: #f0f8ff;}#sk-00c69e7f-de03-4188-9d6a-b69973d811cb input.sk-toggleable__control:checked~div.sk-toggleable__content {max-height: 200px;max-width: 100%;overflow: auto;}#sk-00c69e7f-de03-4188-9d6a-b69973d811cb input.sk-toggleable__control:checked~label.sk-toggleable__label-arrow:before {content: \"▾\";}#sk-00c69e7f-de03-4188-9d6a-b69973d811cb div.sk-estimator input.sk-toggleable__control:checked~label.sk-toggleable__label {background-color: #d4ebff;}#sk-00c69e7f-de03-4188-9d6a-b69973d811cb div.sk-label input.sk-toggleable__control:checked~label.sk-toggleable__label {background-color: #d4ebff;}#sk-00c69e7f-de03-4188-9d6a-b69973d811cb input.sk-hidden--visually {border: 0;clip: rect(1px 1px 1px 1px);clip: rect(1px, 1px, 1px, 1px);height: 1px;margin: -1px;overflow: hidden;padding: 0;position: absolute;width: 1px;}#sk-00c69e7f-de03-4188-9d6a-b69973d811cb div.sk-estimator {font-family: monospace;background-color: #f0f8ff;border: 1px dotted black;border-radius: 0.25em;box-sizing: border-box;margin-bottom: 0.5em;}#sk-00c69e7f-de03-4188-9d6a-b69973d811cb div.sk-estimator:hover {background-color: #d4ebff;}#sk-00c69e7f-de03-4188-9d6a-b69973d811cb div.sk-parallel-item::after {content: \"\";width: 100%;border-bottom: 1px solid gray;flex-grow: 1;}#sk-00c69e7f-de03-4188-9d6a-b69973d811cb div.sk-label:hover label.sk-toggleable__label {background-color: #d4ebff;}#sk-00c69e7f-de03-4188-9d6a-b69973d811cb div.sk-serial::before {content: \"\";position: absolute;border-left: 1px solid gray;box-sizing: border-box;top: 2em;bottom: 0;left: 50%;}#sk-00c69e7f-de03-4188-9d6a-b69973d811cb div.sk-serial {display: flex;flex-direction: column;align-items: center;background-color: white;padding-right: 0.2em;padding-left: 0.2em;}#sk-00c69e7f-de03-4188-9d6a-b69973d811cb div.sk-item {z-index: 1;}#sk-00c69e7f-de03-4188-9d6a-b69973d811cb div.sk-parallel {display: flex;align-items: stretch;justify-content: center;background-color: white;}#sk-00c69e7f-de03-4188-9d6a-b69973d811cb div.sk-parallel::before {content: \"\";position: absolute;border-left: 1px solid gray;box-sizing: border-box;top: 2em;bottom: 0;left: 50%;}#sk-00c69e7f-de03-4188-9d6a-b69973d811cb div.sk-parallel-item {display: flex;flex-direction: column;position: relative;background-color: white;}#sk-00c69e7f-de03-4188-9d6a-b69973d811cb div.sk-parallel-item:first-child::after {align-self: flex-end;width: 50%;}#sk-00c69e7f-de03-4188-9d6a-b69973d811cb div.sk-parallel-item:last-child::after {align-self: flex-start;width: 50%;}#sk-00c69e7f-de03-4188-9d6a-b69973d811cb div.sk-parallel-item:only-child::after {width: 0;}#sk-00c69e7f-de03-4188-9d6a-b69973d811cb div.sk-dashed-wrapped {border: 1px dashed gray;margin: 0 0.4em 0.5em 0.4em;box-sizing: border-box;padding-bottom: 0.4em;background-color: white;position: relative;}#sk-00c69e7f-de03-4188-9d6a-b69973d811cb div.sk-label label {font-family: monospace;font-weight: bold;background-color: white;display: inline-block;line-height: 1.2em;}#sk-00c69e7f-de03-4188-9d6a-b69973d811cb div.sk-label-container {position: relative;z-index: 2;text-align: center;}#sk-00c69e7f-de03-4188-9d6a-b69973d811cb div.sk-container {/* jupyter's `normalize.less` sets `[hidden] { display: none; }` but bootstrap.min.css set `[hidden] { display: none !important; }` so we also need the `!important` here to be able to override the default hidden behavior on the sphinx rendered scikit-learn.org. See: https://github.com/scikit-learn/scikit-learn/issues/21755 */display: inline-block !important;position: relative;}#sk-00c69e7f-de03-4188-9d6a-b69973d811cb div.sk-text-repr-fallback {display: none;}</style><div id=\"sk-00c69e7f-de03-4188-9d6a-b69973d811cb\" class=\"sk-top-container\"><div class=\"sk-text-repr-fallback\"><pre>Pipeline(steps=[(&#x27;polynomialfeatures&#x27;, PolynomialFeatures()),\n",
       "                (&#x27;standardscaler&#x27;, StandardScaler()),\n",
       "                (&#x27;ridgecv&#x27;,\n",
       "                 RidgeCV(alphas=array([1.00000000e-02, 1.20679264e-02, 1.45634848e-02, 1.75751062e-02,\n",
       "       2.12095089e-02, 2.55954792e-02, 3.08884360e-02, 3.72759372e-02,\n",
       "       4.49843267e-02, 5.42867544e-02, 6.55128557e-02, 7.90604321e-02,\n",
       "       9.54095476e-02, 1.15139540e-01, 1.38949549e...\n",
       "       1.93069773e+00, 2.32995181e+00, 2.81176870e+00, 3.39322177e+00,\n",
       "       4.09491506e+00, 4.94171336e+00, 5.96362332e+00, 7.19685673e+00,\n",
       "       8.68511374e+00, 1.04811313e+01, 1.26485522e+01, 1.52641797e+01,\n",
       "       1.84206997e+01, 2.22299648e+01, 2.68269580e+01, 3.23745754e+01,\n",
       "       3.90693994e+01, 4.71486636e+01, 5.68986603e+01, 6.86648845e+01,\n",
       "       8.28642773e+01, 1.00000000e+02]),\n",
       "                         store_cv_values=True))])</pre><b>Please rerun this cell to show the HTML repr or trust the notebook.</b></div><div class=\"sk-container\" hidden><div class=\"sk-item sk-dashed-wrapped\"><div class=\"sk-label-container\"><div class=\"sk-label sk-toggleable\"><input class=\"sk-toggleable__control sk-hidden--visually\" id=\"891ed9b7-2701-462f-b59b-4d6597ee94b7\" type=\"checkbox\" ><label for=\"891ed9b7-2701-462f-b59b-4d6597ee94b7\" class=\"sk-toggleable__label sk-toggleable__label-arrow\">Pipeline</label><div class=\"sk-toggleable__content\"><pre>Pipeline(steps=[(&#x27;polynomialfeatures&#x27;, PolynomialFeatures()),\n",
       "                (&#x27;standardscaler&#x27;, StandardScaler()),\n",
       "                (&#x27;ridgecv&#x27;,\n",
       "                 RidgeCV(alphas=array([1.00000000e-02, 1.20679264e-02, 1.45634848e-02, 1.75751062e-02,\n",
       "       2.12095089e-02, 2.55954792e-02, 3.08884360e-02, 3.72759372e-02,\n",
       "       4.49843267e-02, 5.42867544e-02, 6.55128557e-02, 7.90604321e-02,\n",
       "       9.54095476e-02, 1.15139540e-01, 1.38949549e...\n",
       "       1.93069773e+00, 2.32995181e+00, 2.81176870e+00, 3.39322177e+00,\n",
       "       4.09491506e+00, 4.94171336e+00, 5.96362332e+00, 7.19685673e+00,\n",
       "       8.68511374e+00, 1.04811313e+01, 1.26485522e+01, 1.52641797e+01,\n",
       "       1.84206997e+01, 2.22299648e+01, 2.68269580e+01, 3.23745754e+01,\n",
       "       3.90693994e+01, 4.71486636e+01, 5.68986603e+01, 6.86648845e+01,\n",
       "       8.28642773e+01, 1.00000000e+02]),\n",
       "                         store_cv_values=True))])</pre></div></div></div><div class=\"sk-serial\"><div class=\"sk-item\"><div class=\"sk-estimator sk-toggleable\"><input class=\"sk-toggleable__control sk-hidden--visually\" id=\"0105f629-56b9-4960-8ae2-480e7e180e60\" type=\"checkbox\" ><label for=\"0105f629-56b9-4960-8ae2-480e7e180e60\" class=\"sk-toggleable__label sk-toggleable__label-arrow\">PolynomialFeatures</label><div class=\"sk-toggleable__content\"><pre>PolynomialFeatures()</pre></div></div></div><div class=\"sk-item\"><div class=\"sk-estimator sk-toggleable\"><input class=\"sk-toggleable__control sk-hidden--visually\" id=\"191a72c4-fcbc-4806-b867-8c26e84bfbd7\" type=\"checkbox\" ><label for=\"191a72c4-fcbc-4806-b867-8c26e84bfbd7\" class=\"sk-toggleable__label sk-toggleable__label-arrow\">StandardScaler</label><div class=\"sk-toggleable__content\"><pre>StandardScaler()</pre></div></div></div><div class=\"sk-item\"><div class=\"sk-estimator sk-toggleable\"><input class=\"sk-toggleable__control sk-hidden--visually\" id=\"7e869099-d1ab-4502-9c04-a7c43a97ef46\" type=\"checkbox\" ><label for=\"7e869099-d1ab-4502-9c04-a7c43a97ef46\" class=\"sk-toggleable__label sk-toggleable__label-arrow\">RidgeCV</label><div class=\"sk-toggleable__content\"><pre>RidgeCV(alphas=array([1.00000000e-02, 1.20679264e-02, 1.45634848e-02, 1.75751062e-02,\n",
       "       2.12095089e-02, 2.55954792e-02, 3.08884360e-02, 3.72759372e-02,\n",
       "       4.49843267e-02, 5.42867544e-02, 6.55128557e-02, 7.90604321e-02,\n",
       "       9.54095476e-02, 1.15139540e-01, 1.38949549e-01, 1.67683294e-01,\n",
       "       2.02358965e-01, 2.44205309e-01, 2.94705170e-01, 3.55648031e-01,\n",
       "       4.29193426e-01, 5.17947468e-0...\n",
       "       1.93069773e+00, 2.32995181e+00, 2.81176870e+00, 3.39322177e+00,\n",
       "       4.09491506e+00, 4.94171336e+00, 5.96362332e+00, 7.19685673e+00,\n",
       "       8.68511374e+00, 1.04811313e+01, 1.26485522e+01, 1.52641797e+01,\n",
       "       1.84206997e+01, 2.22299648e+01, 2.68269580e+01, 3.23745754e+01,\n",
       "       3.90693994e+01, 4.71486636e+01, 5.68986603e+01, 6.86648845e+01,\n",
       "       8.28642773e+01, 1.00000000e+02]),\n",
       "        store_cv_values=True)</pre></div></div></div></div></div></div></div>"
      ],
      "text/plain": [
       "Pipeline(steps=[('polynomialfeatures', PolynomialFeatures()),\n",
       "                ('standardscaler', StandardScaler()),\n",
       "                ('ridgecv',\n",
       "                 RidgeCV(alphas=array([1.00000000e-02, 1.20679264e-02, 1.45634848e-02, 1.75751062e-02,\n",
       "       2.12095089e-02, 2.55954792e-02, 3.08884360e-02, 3.72759372e-02,\n",
       "       4.49843267e-02, 5.42867544e-02, 6.55128557e-02, 7.90604321e-02,\n",
       "       9.54095476e-02, 1.15139540e-01, 1.38949549e...\n",
       "       1.93069773e+00, 2.32995181e+00, 2.81176870e+00, 3.39322177e+00,\n",
       "       4.09491506e+00, 4.94171336e+00, 5.96362332e+00, 7.19685673e+00,\n",
       "       8.68511374e+00, 1.04811313e+01, 1.26485522e+01, 1.52641797e+01,\n",
       "       1.84206997e+01, 2.22299648e+01, 2.68269580e+01, 3.23745754e+01,\n",
       "       3.90693994e+01, 4.71486636e+01, 5.68986603e+01, 6.86648845e+01,\n",
       "       8.28642773e+01, 1.00000000e+02]),\n",
       "                         store_cv_values=True))])"
      ]
     },
     "execution_count": 55,
     "metadata": {},
     "output_type": "execute_result"
    }
   ],
   "source": [
    "%%time\n",
    "# %load solutions/solution_14.py\n",
    "\n",
    "model.fit(X_train, y_train)\n"
   ]
  },
  {
   "cell_type": "markdown",
   "id": "66247e22-48cc-48bc-a5ee-e4be4ed51ae7",
   "metadata": {},
   "source": [
    "## Inspection of hyperparameters in cross-validation"
   ]
  },
  {
   "cell_type": "markdown",
   "id": "89b18131-94b4-4c40-81fd-6ce1e207d116",
   "metadata": {},
   "source": [
    "Sometimes, we perform a search cross-validation inside a cross-validation evaluation. In this case, we potentially have different set of hyperparameter values for each individual cross-validation split. We can indeed inspect these values. Let's define a `GridSearchCV` model."
   ]
  },
  {
   "cell_type": "code",
   "execution_count": 43,
   "id": "1a68abe5-a849-4c12-bbd9-65419e45632a",
   "metadata": {},
   "outputs": [
    {
     "data": {
      "text/html": [
       "<style>#sk-0e82dfab-071a-421f-b8b6-61df894ce7b7 {color: black;background-color: white;}#sk-0e82dfab-071a-421f-b8b6-61df894ce7b7 pre{padding: 0;}#sk-0e82dfab-071a-421f-b8b6-61df894ce7b7 div.sk-toggleable {background-color: white;}#sk-0e82dfab-071a-421f-b8b6-61df894ce7b7 label.sk-toggleable__label {cursor: pointer;display: block;width: 100%;margin-bottom: 0;padding: 0.3em;box-sizing: border-box;text-align: center;}#sk-0e82dfab-071a-421f-b8b6-61df894ce7b7 label.sk-toggleable__label-arrow:before {content: \"▸\";float: left;margin-right: 0.25em;color: #696969;}#sk-0e82dfab-071a-421f-b8b6-61df894ce7b7 label.sk-toggleable__label-arrow:hover:before {color: black;}#sk-0e82dfab-071a-421f-b8b6-61df894ce7b7 div.sk-estimator:hover label.sk-toggleable__label-arrow:before {color: black;}#sk-0e82dfab-071a-421f-b8b6-61df894ce7b7 div.sk-toggleable__content {max-height: 0;max-width: 0;overflow: hidden;text-align: left;background-color: #f0f8ff;}#sk-0e82dfab-071a-421f-b8b6-61df894ce7b7 div.sk-toggleable__content pre {margin: 0.2em;color: black;border-radius: 0.25em;background-color: #f0f8ff;}#sk-0e82dfab-071a-421f-b8b6-61df894ce7b7 input.sk-toggleable__control:checked~div.sk-toggleable__content {max-height: 200px;max-width: 100%;overflow: auto;}#sk-0e82dfab-071a-421f-b8b6-61df894ce7b7 input.sk-toggleable__control:checked~label.sk-toggleable__label-arrow:before {content: \"▾\";}#sk-0e82dfab-071a-421f-b8b6-61df894ce7b7 div.sk-estimator input.sk-toggleable__control:checked~label.sk-toggleable__label {background-color: #d4ebff;}#sk-0e82dfab-071a-421f-b8b6-61df894ce7b7 div.sk-label input.sk-toggleable__control:checked~label.sk-toggleable__label {background-color: #d4ebff;}#sk-0e82dfab-071a-421f-b8b6-61df894ce7b7 input.sk-hidden--visually {border: 0;clip: rect(1px 1px 1px 1px);clip: rect(1px, 1px, 1px, 1px);height: 1px;margin: -1px;overflow: hidden;padding: 0;position: absolute;width: 1px;}#sk-0e82dfab-071a-421f-b8b6-61df894ce7b7 div.sk-estimator {font-family: monospace;background-color: #f0f8ff;border: 1px dotted black;border-radius: 0.25em;box-sizing: border-box;margin-bottom: 0.5em;}#sk-0e82dfab-071a-421f-b8b6-61df894ce7b7 div.sk-estimator:hover {background-color: #d4ebff;}#sk-0e82dfab-071a-421f-b8b6-61df894ce7b7 div.sk-parallel-item::after {content: \"\";width: 100%;border-bottom: 1px solid gray;flex-grow: 1;}#sk-0e82dfab-071a-421f-b8b6-61df894ce7b7 div.sk-label:hover label.sk-toggleable__label {background-color: #d4ebff;}#sk-0e82dfab-071a-421f-b8b6-61df894ce7b7 div.sk-serial::before {content: \"\";position: absolute;border-left: 1px solid gray;box-sizing: border-box;top: 2em;bottom: 0;left: 50%;}#sk-0e82dfab-071a-421f-b8b6-61df894ce7b7 div.sk-serial {display: flex;flex-direction: column;align-items: center;background-color: white;padding-right: 0.2em;padding-left: 0.2em;}#sk-0e82dfab-071a-421f-b8b6-61df894ce7b7 div.sk-item {z-index: 1;}#sk-0e82dfab-071a-421f-b8b6-61df894ce7b7 div.sk-parallel {display: flex;align-items: stretch;justify-content: center;background-color: white;}#sk-0e82dfab-071a-421f-b8b6-61df894ce7b7 div.sk-parallel::before {content: \"\";position: absolute;border-left: 1px solid gray;box-sizing: border-box;top: 2em;bottom: 0;left: 50%;}#sk-0e82dfab-071a-421f-b8b6-61df894ce7b7 div.sk-parallel-item {display: flex;flex-direction: column;position: relative;background-color: white;}#sk-0e82dfab-071a-421f-b8b6-61df894ce7b7 div.sk-parallel-item:first-child::after {align-self: flex-end;width: 50%;}#sk-0e82dfab-071a-421f-b8b6-61df894ce7b7 div.sk-parallel-item:last-child::after {align-self: flex-start;width: 50%;}#sk-0e82dfab-071a-421f-b8b6-61df894ce7b7 div.sk-parallel-item:only-child::after {width: 0;}#sk-0e82dfab-071a-421f-b8b6-61df894ce7b7 div.sk-dashed-wrapped {border: 1px dashed gray;margin: 0 0.4em 0.5em 0.4em;box-sizing: border-box;padding-bottom: 0.4em;background-color: white;position: relative;}#sk-0e82dfab-071a-421f-b8b6-61df894ce7b7 div.sk-label label {font-family: monospace;font-weight: bold;background-color: white;display: inline-block;line-height: 1.2em;}#sk-0e82dfab-071a-421f-b8b6-61df894ce7b7 div.sk-label-container {position: relative;z-index: 2;text-align: center;}#sk-0e82dfab-071a-421f-b8b6-61df894ce7b7 div.sk-container {/* jupyter's `normalize.less` sets `[hidden] { display: none; }` but bootstrap.min.css set `[hidden] { display: none !important; }` so we also need the `!important` here to be able to override the default hidden behavior on the sphinx rendered scikit-learn.org. See: https://github.com/scikit-learn/scikit-learn/issues/21755 */display: inline-block !important;position: relative;}#sk-0e82dfab-071a-421f-b8b6-61df894ce7b7 div.sk-text-repr-fallback {display: none;}</style><div id=\"sk-0e82dfab-071a-421f-b8b6-61df894ce7b7\" class=\"sk-top-container\"><div class=\"sk-text-repr-fallback\"><pre>GridSearchCV(estimator=Pipeline(steps=[(&#x27;polynomialfeatures&#x27;,\n",
       "                                        PolynomialFeatures()),\n",
       "                                       (&#x27;standardscaler&#x27;, StandardScaler()),\n",
       "                                       (&#x27;ridge&#x27;, Ridge())]),\n",
       "             param_grid={&#x27;ridge__alpha&#x27;: array([1.00000000e-02, 1.20679264e-02, 1.45634848e-02, 1.75751062e-02,\n",
       "       2.12095089e-02, 2.55954792e-02, 3.08884360e-02, 3.72759372e-02,\n",
       "       4.49843267e-02, 5.42867544e-02, 6.55128557e-02, 7.90604321e-...\n",
       "       1.93069773e+00, 2.32995181e+00, 2.81176870e+00, 3.39322177e+00,\n",
       "       4.09491506e+00, 4.94171336e+00, 5.96362332e+00, 7.19685673e+00,\n",
       "       8.68511374e+00, 1.04811313e+01, 1.26485522e+01, 1.52641797e+01,\n",
       "       1.84206997e+01, 2.22299648e+01, 2.68269580e+01, 3.23745754e+01,\n",
       "       3.90693994e+01, 4.71486636e+01, 5.68986603e+01, 6.86648845e+01,\n",
       "       8.28642773e+01, 1.00000000e+02])},\n",
       "             scoring=&#x27;neg_mean_squared_error&#x27;)</pre><b>Please rerun this cell to show the HTML repr or trust the notebook.</b></div><div class=\"sk-container\" hidden><div class=\"sk-item sk-dashed-wrapped\"><div class=\"sk-label-container\"><div class=\"sk-label sk-toggleable\"><input class=\"sk-toggleable__control sk-hidden--visually\" id=\"8edbbc47-7531-4275-aef2-4e1e9db97bc9\" type=\"checkbox\" ><label for=\"8edbbc47-7531-4275-aef2-4e1e9db97bc9\" class=\"sk-toggleable__label sk-toggleable__label-arrow\">GridSearchCV</label><div class=\"sk-toggleable__content\"><pre>GridSearchCV(estimator=Pipeline(steps=[(&#x27;polynomialfeatures&#x27;,\n",
       "                                        PolynomialFeatures()),\n",
       "                                       (&#x27;standardscaler&#x27;, StandardScaler()),\n",
       "                                       (&#x27;ridge&#x27;, Ridge())]),\n",
       "             param_grid={&#x27;ridge__alpha&#x27;: array([1.00000000e-02, 1.20679264e-02, 1.45634848e-02, 1.75751062e-02,\n",
       "       2.12095089e-02, 2.55954792e-02, 3.08884360e-02, 3.72759372e-02,\n",
       "       4.49843267e-02, 5.42867544e-02, 6.55128557e-02, 7.90604321e-...\n",
       "       1.93069773e+00, 2.32995181e+00, 2.81176870e+00, 3.39322177e+00,\n",
       "       4.09491506e+00, 4.94171336e+00, 5.96362332e+00, 7.19685673e+00,\n",
       "       8.68511374e+00, 1.04811313e+01, 1.26485522e+01, 1.52641797e+01,\n",
       "       1.84206997e+01, 2.22299648e+01, 2.68269580e+01, 3.23745754e+01,\n",
       "       3.90693994e+01, 4.71486636e+01, 5.68986603e+01, 6.86648845e+01,\n",
       "       8.28642773e+01, 1.00000000e+02])},\n",
       "             scoring=&#x27;neg_mean_squared_error&#x27;)</pre></div></div></div><div class=\"sk-parallel\"><div class=\"sk-parallel-item\"><div class=\"sk-item\"><div class=\"sk-serial\"><div class=\"sk-item\"><div class=\"sk-serial\"><div class=\"sk-item\"><div class=\"sk-estimator sk-toggleable\"><input class=\"sk-toggleable__control sk-hidden--visually\" id=\"ce8f797a-f9bd-4489-b4b7-86b7648544f5\" type=\"checkbox\" ><label for=\"ce8f797a-f9bd-4489-b4b7-86b7648544f5\" class=\"sk-toggleable__label sk-toggleable__label-arrow\">PolynomialFeatures</label><div class=\"sk-toggleable__content\"><pre>PolynomialFeatures()</pre></div></div></div><div class=\"sk-item\"><div class=\"sk-estimator sk-toggleable\"><input class=\"sk-toggleable__control sk-hidden--visually\" id=\"26948c20-51c6-43df-8875-6d534ab8d5ea\" type=\"checkbox\" ><label for=\"26948c20-51c6-43df-8875-6d534ab8d5ea\" class=\"sk-toggleable__label sk-toggleable__label-arrow\">StandardScaler</label><div class=\"sk-toggleable__content\"><pre>StandardScaler()</pre></div></div></div><div class=\"sk-item\"><div class=\"sk-estimator sk-toggleable\"><input class=\"sk-toggleable__control sk-hidden--visually\" id=\"b6e158e7-851d-4c2b-b80d-9e1a594aef17\" type=\"checkbox\" ><label for=\"b6e158e7-851d-4c2b-b80d-9e1a594aef17\" class=\"sk-toggleable__label sk-toggleable__label-arrow\">Ridge</label><div class=\"sk-toggleable__content\"><pre>Ridge()</pre></div></div></div></div></div></div></div></div></div></div></div></div>"
      ],
      "text/plain": [
       "GridSearchCV(estimator=Pipeline(steps=[('polynomialfeatures',\n",
       "                                        PolynomialFeatures()),\n",
       "                                       ('standardscaler', StandardScaler()),\n",
       "                                       ('ridge', Ridge())]),\n",
       "             param_grid={'ridge__alpha': array([1.00000000e-02, 1.20679264e-02, 1.45634848e-02, 1.75751062e-02,\n",
       "       2.12095089e-02, 2.55954792e-02, 3.08884360e-02, 3.72759372e-02,\n",
       "       4.49843267e-02, 5.42867544e-02, 6.55128557e-02, 7.90604321e-...\n",
       "       1.93069773e+00, 2.32995181e+00, 2.81176870e+00, 3.39322177e+00,\n",
       "       4.09491506e+00, 4.94171336e+00, 5.96362332e+00, 7.19685673e+00,\n",
       "       8.68511374e+00, 1.04811313e+01, 1.26485522e+01, 1.52641797e+01,\n",
       "       1.84206997e+01, 2.22299648e+01, 2.68269580e+01, 3.23745754e+01,\n",
       "       3.90693994e+01, 4.71486636e+01, 5.68986603e+01, 6.86648845e+01,\n",
       "       8.28642773e+01, 1.00000000e+02])},\n",
       "             scoring='neg_mean_squared_error')"
      ]
     },
     "execution_count": 43,
     "metadata": {},
     "output_type": "execute_result"
    }
   ],
   "source": [
    "from sklearn.linear_model import Ridge\n",
    "\n",
    "alphas = np.logspace(-2, 2, num=50)\n",
    "\n",
    "model = GridSearchCV(\n",
    "    make_pipeline(\n",
    "        PolynomialFeatures(),\n",
    "        StandardScaler(),\n",
    "        Ridge(),\n",
    "    ),\n",
    "    param_grid={\n",
    "        \"ridge__alpha\": alphas\n",
    "    },\n",
    "    scoring=\"neg_mean_squared_error\",\n",
    ")\n",
    "model"
   ]
  },
  {
   "cell_type": "markdown",
   "id": "46915d7a-0826-4719-b5e3-ab821946d51c",
   "metadata": {},
   "source": [
    "Then, we can run a cross-validation by passing the model to `cross_validate`. In addition, we can store every model train on each cross-validation splits by setting `return_estimator` to `True`."
   ]
  },
  {
   "cell_type": "code",
   "execution_count": 44,
   "id": "528c75fa-bb34-4a6b-af9b-8530396d6f87",
   "metadata": {},
   "outputs": [
    {
     "data": {
      "text/html": [
       "<div>\n",
       "<style scoped>\n",
       "    .dataframe tbody tr th:only-of-type {\n",
       "        vertical-align: middle;\n",
       "    }\n",
       "\n",
       "    .dataframe tbody tr th {\n",
       "        vertical-align: top;\n",
       "    }\n",
       "\n",
       "    .dataframe thead th {\n",
       "        text-align: right;\n",
       "    }\n",
       "</style>\n",
       "<table border=\"1\" class=\"dataframe\">\n",
       "  <thead>\n",
       "    <tr style=\"text-align: right;\">\n",
       "      <th></th>\n",
       "      <th>fit_time</th>\n",
       "      <th>score_time</th>\n",
       "      <th>estimator</th>\n",
       "      <th>test_score</th>\n",
       "    </tr>\n",
       "  </thead>\n",
       "  <tbody>\n",
       "    <tr>\n",
       "      <th>0</th>\n",
       "      <td>21.587997</td>\n",
       "      <td>0.019964</td>\n",
       "      <td>GridSearchCV(estimator=Pipeline(steps=[('polyn...</td>\n",
       "      <td>-0.693117</td>\n",
       "    </tr>\n",
       "    <tr>\n",
       "      <th>1</th>\n",
       "      <td>21.541095</td>\n",
       "      <td>0.013996</td>\n",
       "      <td>GridSearchCV(estimator=Pipeline(steps=[('polyn...</td>\n",
       "      <td>-0.493655</td>\n",
       "    </tr>\n",
       "    <tr>\n",
       "      <th>2</th>\n",
       "      <td>22.249150</td>\n",
       "      <td>0.021013</td>\n",
       "      <td>GridSearchCV(estimator=Pipeline(steps=[('polyn...</td>\n",
       "      <td>-9.096473</td>\n",
       "    </tr>\n",
       "  </tbody>\n",
       "</table>\n",
       "</div>"
      ],
      "text/plain": [
       "    fit_time  score_time                                          estimator  \\\n",
       "0  21.587997    0.019964  GridSearchCV(estimator=Pipeline(steps=[('polyn...   \n",
       "1  21.541095    0.013996  GridSearchCV(estimator=Pipeline(steps=[('polyn...   \n",
       "2  22.249150    0.021013  GridSearchCV(estimator=Pipeline(steps=[('polyn...   \n",
       "\n",
       "   test_score  \n",
       "0   -0.693117  \n",
       "1   -0.493655  \n",
       "2   -9.096473  "
      ]
     },
     "execution_count": 44,
     "metadata": {},
     "output_type": "execute_result"
    }
   ],
   "source": [
    "cv_results = cross_validate(model, X, y, cv=3, return_estimator=True)\n",
    "cv_results = pd.DataFrame(cv_results)\n",
    "cv_results"
   ]
  },
  {
   "cell_type": "markdown",
   "id": "9b38165e-dbc2-4e80-81f8-a3528140512a",
   "metadata": {},
   "source": [
    "We see that the `estimator` columns contain the different estimators. Thus we can check the `best_params_` stored by the `GridSearchCV`."
   ]
  },
  {
   "cell_type": "code",
   "execution_count": 45,
   "id": "f16ad7a1-ec9f-4a04-a207-fa9f69c3cac8",
   "metadata": {},
   "outputs": [
    {
     "name": "stdout",
     "output_type": "stream",
     "text": [
      "{'ridge__alpha': 22.229964825261934}\n",
      "{'ridge__alpha': 0.20235896477251566}\n",
      "{'ridge__alpha': 1.0985411419875584}\n"
     ]
    }
   ],
   "source": [
    "for estimator_cv_fold in cv_results[\"estimator\"]:\n",
    "    print(estimator_cv_fold.best_params_)"
   ]
  },
  {
   "cell_type": "markdown",
   "id": "a6c1e45f-28ed-4813-a2b4-c8a90e096653",
   "metadata": {},
   "source": [
    "Such inspection allows to study the stability of the hyperparameter values."
   ]
  }
 ],
 "metadata": {
  "kernelspec": {
   "display_name": "Python 3 (ipykernel)",
   "language": "python",
   "name": "python3"
  },
  "language_info": {
   "codemirror_mode": {
    "name": "ipython",
    "version": 3
   },
   "file_extension": ".py",
   "mimetype": "text/x-python",
   "name": "python",
   "nbconvert_exporter": "python",
   "pygments_lexer": "ipython3",
   "version": "3.7.9"
  }
 },
 "nbformat": 4,
 "nbformat_minor": 5
}
